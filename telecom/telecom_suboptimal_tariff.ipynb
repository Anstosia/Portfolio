{
 "cells": [
  {
   "cell_type": "markdown",
   "id": "f0298adc",
   "metadata": {},
   "source": [
    "## Описание проекта"
   ]
  },
  {
   "cell_type": "markdown",
   "id": "6233c783",
   "metadata": {},
   "source": [
    "### Общая информация о проекте.\n",
    "\n",
    "**О компании:**  Клиентами «Нупозвони» являются организации, которым нужно распределять множество входящих вызовов на различных операторов, либо осуществлять исходящие вызовы силами операторов. Также операторы могут осуществлять внутренние вызовы, то есть вызовы друг между другом, которые осуществляются внутри сети виртуальной телефонии.\n",
    "\n",
    "**Заказчик:** гениральный деректор «Нупозвони»\n",
    "\n",
    "**Первоначальный запрос:** поиск клиентов, которые переплачивают, анализ влияния изменений на выручку."
   ]
  },
  {
   "cell_type": "markdown",
   "id": "aaed89de",
   "metadata": {},
   "source": [
    "**Цель проекта:** выявление активных клиентов за последние 3 месяца, использующих неэффективный тариф с целью сохранения лояльности клиента, и провести анализ изменения выручки компании при пререводе клиентов на оптимальные тарифы.\n",
    "\n",
    "Для достижения поставленной цели требуется выполнение следующих **задач**: \n",
    "* определние критерия активности клиента\n",
    "* расчет всех возможных вариантов по каждому тарифу по всем клиентам\n",
    "* расчет текущей выручки и предполагаемая выручка после внесения изменений\n",
    "\n",
    "Анализ проводится 3 раз в месяца. \n",
    "Рассматриваемый период сентябрь - ноябрь (ноябрь считаем полным месяцем)"
   ]
  },
  {
   "cell_type": "markdown",
   "id": "06e6f251",
   "metadata": {
    "ExecuteTime": {
     "end_time": "2023-05-28T09:28:33.734691Z",
     "start_time": "2023-05-28T09:28:33.706866Z"
    }
   },
   "source": [
    "### Тарифная сетка\n",
    "В Телекоме действуют следующие тарифные планы:\n",
    "\n",
    "|   Тарифный план    |     Ежемесячная плата    |     Входящие    |     Исходящие звонки* внутри сети**|     Лимит внут. исх    |     Исходящие   звонки*, кроме внутренних    | Плата за 1 оператора |\n",
    "|:---:|:---:|:---:|:---:|:---:|:---:|:---:|\n",
    "|     А    |     4 000 ₽    |     0    |     0.10 ₽/мин.    |     2000    |     0.3 ₽/мин.    | 50 ₽/оператор |\n",
    "|     В    |     2 000 ₽    |     0    |     0.15 ₽/мин.    |     500     |     0.5 ₽/мин.    | 150 ₽/оператор |\n",
    "|     С    |     1 000 ₽    |     0    |     0.30 ₽/мин.    |     0       |     0.7 ₽/мин.    | 300 ₽/оператор |\n",
    "\n",
    "\\* исходящие звонки с учетом времени ожидания; <br>\n",
    "\\** на некоторых тарифах на исходящие звонки внутри сети существует бесплатный лимит в определенное количество минут (см. тарифный план); \n",
    "цена приведена на расход свыше установленного лимита.\n",
    "\n",
    "Расходы клиента состоят из:\n",
    "1. ежемесячной платы +\n",
    "2. платы за перерасход по внутренним исходящим звонкам, с учетом времени ожидания (`total_call_duration`) +\n",
    "3. платы за внешние исходящие звонки, с учетом времени ожидания (`total_call_duration`) +\n",
    "4. платы оператора"
   ]
  },
  {
   "cell_type": "markdown",
   "id": "0691ce89",
   "metadata": {},
   "source": [
    "### Привила выставления счета\n",
    "\n",
    "Счета выставляются за прошедший календарный месяц, поэтому датой списания можно считать 1-е число каждого месяца. Остаток внутреннего исходящего трафика сгорает на начало месяца. \n",
    "\n",
    "Тарификация происходит на основе кумулятивных показателей за период расчета (календарный месяц). Общая продолжительность звонков (в минутах) за день по каждому оператору округляется в большую сторону. "
   ]
  },
  {
   "cell_type": "markdown",
   "id": "7e49ba91",
   "metadata": {
    "ExecuteTime": {
     "end_time": "2023-05-29T12:38:57.745462Z",
     "start_time": "2023-05-29T12:38:57.736417Z"
    }
   },
   "source": [
    "### План исследования "
   ]
  },
  {
   "cell_type": "markdown",
   "id": "af562288",
   "metadata": {},
   "source": [
    "**Данное исследование разделим на несколько частей.**\n",
    "\n",
    "***Часть 1. Изучение общей информации и подготовка данных:***\n",
    "* [1. Получение общей информации, загрузка библиотек.](#1-bullet) \n",
    "* [2. Изучение telecom_clients.](#2-bullet)\n",
    "* [3. Изучение telecom_dataset.](#3-bullet)\n",
    "* [4. Приведение данных  к нужным типам.](#4-bullet)\n",
    "* [5. Нахождение и ликвидация пропусков.](#4-bullet)\n",
    "* [6. Нахождение и ликвидация дубликатов.](#5-bullet)\n",
    "* [7. Нахождение и ликвидация аномалий.](#7-bullet)\n",
    "\n",
    "\n",
    "\n",
    "**Часть 2. Исследовательская часть:**\n",
    "* [1. Определение активных клиентов.](#8-bullet)\n",
    "* [2. Проверка гипотезы \"Активные клиенты говорят больше, чем неактивные\".](#9-bullet)\n",
    "* [3. Изучение потребительского поведения неактивных и активных клиентов.](#10-bullet)\n",
    "* [4. Поиск активных клиентов, использующих неэффективный тариф.](#11-bullet)\n",
    "* [5. Расчет текущей выручки и выручки после оптимизации тарифов.](#12-bullet)\n",
    "* [6. Проверка гипотезы \"Средние затраты киентов не изменились после оптимизации\".](#13-bullet)\n",
    "\n",
    "\n",
    "**Часть 3. Заключение и рекомендации:**\n",
    "* [1. Выводы.](#14-bullet)\n",
    "* [2. Рекомендации.](#15-bullet)\n",
    "* [3. Ссылка на презентацию.](#16-bullet)\n",
    "* [3. Ссылка на дашборд.](#17-bullet)\n",
    "\n"
   ]
  },
  {
   "cell_type": "markdown",
   "id": "2d6ebefa",
   "metadata": {},
   "source": [
    "**Гипотеза 1**\n",
    "\n",
    "    Н0 \"Активные и неактивные пользователи говорят одинаково\"\n",
    "\n",
    "    Н1 \"Время разговора у активных пользователей больше, чем у неактивных\"\n",
    "\n",
    "\n",
    "**Гипотеза 2**\n",
    "\n",
    "    Н0 \"Средние затраты пользователя на услуги компании до и после оптипизации не отличаются\"\n",
    "\n",
    "    Н1 \"Средние затраты пользователя на услуги компании после оптипизации уменьшились\""
   ]
  },
  {
   "cell_type": "markdown",
   "id": "bec10906",
   "metadata": {},
   "source": [
    "## Часть 1. Изучение общей информации и подготовка данных:"
   ]
  },
  {
   "cell_type": "markdown",
   "id": "b1b9be34",
   "metadata": {},
   "source": [
    "### Получение общей информации, загрузка библиотек."
   ]
  },
  {
   "cell_type": "code",
   "execution_count": 1,
   "id": "afcbed0b",
   "metadata": {
    "ExecuteTime": {
     "end_time": "2023-07-20T10:16:56.140900Z",
     "start_time": "2023-07-20T10:16:53.753393Z"
    }
   },
   "outputs": [],
   "source": [
    "# выгружаем необходимые библиотеки\n",
    "import pandas as pd\n",
    "import datetime as dt\n",
    "import plotly.express as px\n",
    "import numpy as np\n",
    "from scipy import stats as st\n",
    "import plotly.graph_objects as go\n",
    "import seaborn as sns\n",
    "import matplotlib.pyplot as plt"
   ]
  },
  {
   "cell_type": "code",
   "execution_count": 127,
   "id": "34fdc0e1",
   "metadata": {
    "ExecuteTime": {
     "end_time": "2023-07-20T10:18:17.561477Z",
     "start_time": "2023-07-20T10:18:17.505604Z"
    }
   },
   "outputs": [],
   "source": [
    "try: \n",
    "    telecom_clients = pd.read_csv('telecom_clients.csv')\n",
    "    telecom_dataset = pd.read_csv('telecom_dataset.csv')\n",
    "except:\n",
    "    # удалено по правилам ЯП\n",
    "td = telecom_dataset.copy()\n"
   ]
  },
  {
   "cell_type": "markdown",
   "id": "c1d0fcb2",
   "metadata": {},
   "source": [
    "### Изучение данных из telecom_dataset"
   ]
  },
  {
   "cell_type": "markdown",
   "id": "5604de41",
   "metadata": {
    "ExecuteTime": {
     "end_time": "2023-05-27T14:08:15.172482Z",
     "start_time": "2023-05-27T14:08:15.139536Z"
    }
   },
   "source": [
    "**telecom_dataset**:\n",
    "- `user_id` — идентификатор клиента;\n",
    "- `date` — дата статистики;\n",
    "- `direction` — направление вызовов: `out` — исходящий вызов, `in` — входящий;\n",
    "- `internal` — маркер внутренних и внешних вызовов;\n",
    "- `operator_id` — идентификатор оператора;\n",
    "- `is_missed_call` — маркер пропущенных вызовов;\n",
    "- `calls_count` — количество звонков;\n",
    "- `call_duration` - длительность **всех звонков** без учёта времени ожидания;\n",
    "- `total_call_duration` - длительность **всех звонков** с учётом времени ожидания."
   ]
  },
  {
   "cell_type": "code",
   "execution_count": 3,
   "id": "a77299f0",
   "metadata": {
    "ExecuteTime": {
     "end_time": "2023-07-20T10:16:56.236402Z",
     "start_time": "2023-07-20T10:16:56.206724Z"
    }
   },
   "outputs": [
    {
     "name": "stdout",
     "output_type": "stream",
     "text": [
      "<class 'pandas.core.frame.DataFrame'>\n",
      "RangeIndex: 53902 entries, 0 to 53901\n",
      "Data columns (total 9 columns):\n",
      " #   Column               Non-Null Count  Dtype  \n",
      "---  ------               --------------  -----  \n",
      " 0   user_id              53902 non-null  int64  \n",
      " 1   date                 53902 non-null  object \n",
      " 2   direction            53902 non-null  object \n",
      " 3   internal             53785 non-null  object \n",
      " 4   operator_id          45730 non-null  float64\n",
      " 5   is_missed_call       53902 non-null  bool   \n",
      " 6   calls_count          53902 non-null  int64  \n",
      " 7   call_duration        53902 non-null  int64  \n",
      " 8   total_call_duration  53902 non-null  int64  \n",
      "dtypes: bool(1), float64(1), int64(4), object(3)\n",
      "memory usage: 3.3+ MB\n"
     ]
    }
   ],
   "source": [
    "telecom_dataset.info()"
   ]
  },
  {
   "cell_type": "code",
   "execution_count": 4,
   "id": "c8d2132f",
   "metadata": {
    "ExecuteTime": {
     "end_time": "2023-07-20T10:16:56.315190Z",
     "start_time": "2023-07-20T10:16:56.238397Z"
    }
   },
   "outputs": [
    {
     "data": {
      "text/plain": [
       "user_id                   0\n",
       "date                      0\n",
       "direction                 0\n",
       "internal                117\n",
       "operator_id            8172\n",
       "is_missed_call            0\n",
       "calls_count               0\n",
       "call_duration             0\n",
       "total_call_duration       0\n",
       "dtype: int64"
      ]
     },
     "execution_count": 4,
     "metadata": {},
     "output_type": "execute_result"
    }
   ],
   "source": [
    "telecom_dataset.isna().sum()"
   ]
  },
  {
   "cell_type": "code",
   "execution_count": 5,
   "id": "270a5a98",
   "metadata": {
    "ExecuteTime": {
     "end_time": "2023-07-20T10:16:56.379020Z",
     "start_time": "2023-07-20T10:16:56.317222Z"
    }
   },
   "outputs": [
    {
     "data": {
      "text/plain": [
       "user_id                0.000000\n",
       "date                   0.000000\n",
       "direction              0.000000\n",
       "internal               0.002171\n",
       "operator_id            0.151608\n",
       "is_missed_call         0.000000\n",
       "calls_count            0.000000\n",
       "call_duration          0.000000\n",
       "total_call_duration    0.000000\n",
       "dtype: float64"
      ]
     },
     "execution_count": 5,
     "metadata": {},
     "output_type": "execute_result"
    }
   ],
   "source": [
    "telecom_dataset.isna().mean()"
   ]
  },
  {
   "cell_type": "code",
   "execution_count": 6,
   "id": "2c2d134a",
   "metadata": {
    "ExecuteTime": {
     "end_time": "2023-07-20T10:16:56.409937Z",
     "start_time": "2023-07-20T10:16:56.380018Z"
    }
   },
   "outputs": [
    {
     "data": {
      "text/plain": [
       "4900"
      ]
     },
     "execution_count": 6,
     "metadata": {},
     "output_type": "execute_result"
    }
   ],
   "source": [
    "telecom_dataset.duplicated().sum()"
   ]
  },
  {
   "cell_type": "code",
   "execution_count": 7,
   "id": "368412ed",
   "metadata": {
    "ExecuteTime": {
     "end_time": "2023-07-20T10:16:56.425895Z",
     "start_time": "2023-07-20T10:16:56.410935Z"
    }
   },
   "outputs": [
    {
     "data": {
      "text/html": [
       "<div>\n",
       "<style scoped>\n",
       "    .dataframe tbody tr th:only-of-type {\n",
       "        vertical-align: middle;\n",
       "    }\n",
       "\n",
       "    .dataframe tbody tr th {\n",
       "        vertical-align: top;\n",
       "    }\n",
       "\n",
       "    .dataframe thead th {\n",
       "        text-align: right;\n",
       "    }\n",
       "</style>\n",
       "<table border=\"1\" class=\"dataframe\">\n",
       "  <thead>\n",
       "    <tr style=\"text-align: right;\">\n",
       "      <th></th>\n",
       "      <th>user_id</th>\n",
       "      <th>date</th>\n",
       "      <th>direction</th>\n",
       "      <th>internal</th>\n",
       "      <th>operator_id</th>\n",
       "      <th>is_missed_call</th>\n",
       "      <th>calls_count</th>\n",
       "      <th>call_duration</th>\n",
       "      <th>total_call_duration</th>\n",
       "    </tr>\n",
       "  </thead>\n",
       "  <tbody>\n",
       "    <tr>\n",
       "      <th>0</th>\n",
       "      <td>166377</td>\n",
       "      <td>2019-08-04 00:00:00+03:00</td>\n",
       "      <td>in</td>\n",
       "      <td>False</td>\n",
       "      <td>NaN</td>\n",
       "      <td>True</td>\n",
       "      <td>2</td>\n",
       "      <td>0</td>\n",
       "      <td>4</td>\n",
       "    </tr>\n",
       "    <tr>\n",
       "      <th>1</th>\n",
       "      <td>166377</td>\n",
       "      <td>2019-08-05 00:00:00+03:00</td>\n",
       "      <td>out</td>\n",
       "      <td>True</td>\n",
       "      <td>880022.0</td>\n",
       "      <td>True</td>\n",
       "      <td>3</td>\n",
       "      <td>0</td>\n",
       "      <td>5</td>\n",
       "    </tr>\n",
       "    <tr>\n",
       "      <th>2</th>\n",
       "      <td>166377</td>\n",
       "      <td>2019-08-05 00:00:00+03:00</td>\n",
       "      <td>out</td>\n",
       "      <td>True</td>\n",
       "      <td>880020.0</td>\n",
       "      <td>True</td>\n",
       "      <td>1</td>\n",
       "      <td>0</td>\n",
       "      <td>1</td>\n",
       "    </tr>\n",
       "    <tr>\n",
       "      <th>3</th>\n",
       "      <td>166377</td>\n",
       "      <td>2019-08-05 00:00:00+03:00</td>\n",
       "      <td>out</td>\n",
       "      <td>True</td>\n",
       "      <td>880020.0</td>\n",
       "      <td>False</td>\n",
       "      <td>1</td>\n",
       "      <td>10</td>\n",
       "      <td>18</td>\n",
       "    </tr>\n",
       "    <tr>\n",
       "      <th>4</th>\n",
       "      <td>166377</td>\n",
       "      <td>2019-08-05 00:00:00+03:00</td>\n",
       "      <td>out</td>\n",
       "      <td>False</td>\n",
       "      <td>880022.0</td>\n",
       "      <td>True</td>\n",
       "      <td>3</td>\n",
       "      <td>0</td>\n",
       "      <td>25</td>\n",
       "    </tr>\n",
       "  </tbody>\n",
       "</table>\n",
       "</div>"
      ],
      "text/plain": [
       "   user_id                       date direction internal  operator_id  \\\n",
       "0   166377  2019-08-04 00:00:00+03:00        in    False          NaN   \n",
       "1   166377  2019-08-05 00:00:00+03:00       out     True     880022.0   \n",
       "2   166377  2019-08-05 00:00:00+03:00       out     True     880020.0   \n",
       "3   166377  2019-08-05 00:00:00+03:00       out     True     880020.0   \n",
       "4   166377  2019-08-05 00:00:00+03:00       out    False     880022.0   \n",
       "\n",
       "   is_missed_call  calls_count  call_duration  total_call_duration  \n",
       "0            True            2              0                    4  \n",
       "1            True            3              0                    5  \n",
       "2            True            1              0                    1  \n",
       "3           False            1             10                   18  \n",
       "4            True            3              0                   25  "
      ]
     },
     "execution_count": 7,
     "metadata": {},
     "output_type": "execute_result"
    }
   ],
   "source": [
    "telecom_dataset.head()"
   ]
  },
  {
   "cell_type": "code",
   "execution_count": 8,
   "id": "121cf8e9",
   "metadata": {
    "ExecuteTime": {
     "end_time": "2023-07-20T10:16:56.440889Z",
     "start_time": "2023-07-20T10:16:56.426892Z"
    }
   },
   "outputs": [
    {
     "data": {
      "text/plain": [
       "307"
      ]
     },
     "execution_count": 8,
     "metadata": {},
     "output_type": "execute_result"
    }
   ],
   "source": [
    "telecom_dataset['user_id'].nunique()"
   ]
  },
  {
   "cell_type": "code",
   "execution_count": 9,
   "id": "01ece3b1",
   "metadata": {
    "ExecuteTime": {
     "end_time": "2023-07-20T10:16:56.456847Z",
     "start_time": "2023-07-20T10:16:56.443847Z"
    }
   },
   "outputs": [],
   "source": [
    "row_before = telecom_dataset.shape[0]"
   ]
  },
  {
   "cell_type": "code",
   "execution_count": 10,
   "id": "259d839f",
   "metadata": {
    "ExecuteTime": {
     "end_time": "2023-07-20T10:16:56.472805Z",
     "start_time": "2023-07-20T10:16:56.458807Z"
    }
   },
   "outputs": [
    {
     "name": "stdout",
     "output_type": "stream",
     "text": [
      "Данные представлены с 2019-08-02 00:00:00+03:00 по 2019-11-28 00:00:00+03:00 \n"
     ]
    }
   ],
   "source": [
    "print(f'''Данные представлены с {telecom_dataset.date.min()} по {\n",
    "telecom_dataset.date.max()} ''')"
   ]
  },
  {
   "cell_type": "markdown",
   "id": "b602b697",
   "metadata": {},
   "source": [
    "Требуется изменение типов данных и заполнение пропусков,  а также очистка от дубликатов. Явных дубликатов 4900. "
   ]
  },
  {
   "cell_type": "markdown",
   "id": "9dc6cff5",
   "metadata": {},
   "source": [
    "### Изучение telecom_clients"
   ]
  },
  {
   "cell_type": "markdown",
   "id": "0afe4320",
   "metadata": {},
   "source": [
    "**telecom_clients**:\n",
    "- `user_id` — идентификатор клиента;\n",
    "- `tariff_plan` — тарифный план клиента;\n",
    "- `date_start` — дата регистрации клиента в сервисе."
   ]
  },
  {
   "cell_type": "code",
   "execution_count": 11,
   "id": "86bfc51e",
   "metadata": {
    "ExecuteTime": {
     "end_time": "2023-07-20T10:16:56.488727Z",
     "start_time": "2023-07-20T10:16:56.473767Z"
    }
   },
   "outputs": [
    {
     "name": "stdout",
     "output_type": "stream",
     "text": [
      "<class 'pandas.core.frame.DataFrame'>\n",
      "RangeIndex: 732 entries, 0 to 731\n",
      "Data columns (total 3 columns):\n",
      " #   Column       Non-Null Count  Dtype \n",
      "---  ------       --------------  ----- \n",
      " 0   user_id      732 non-null    int64 \n",
      " 1   tariff_plan  732 non-null    object\n",
      " 2   date_start   732 non-null    object\n",
      "dtypes: int64(1), object(2)\n",
      "memory usage: 17.3+ KB\n"
     ]
    }
   ],
   "source": [
    "telecom_clients.info()"
   ]
  },
  {
   "cell_type": "code",
   "execution_count": 12,
   "id": "c3677e2e",
   "metadata": {
    "ExecuteTime": {
     "end_time": "2023-07-20T10:16:56.504724Z",
     "start_time": "2023-07-20T10:16:56.489726Z"
    }
   },
   "outputs": [
    {
     "data": {
      "text/html": [
       "<div>\n",
       "<style scoped>\n",
       "    .dataframe tbody tr th:only-of-type {\n",
       "        vertical-align: middle;\n",
       "    }\n",
       "\n",
       "    .dataframe tbody tr th {\n",
       "        vertical-align: top;\n",
       "    }\n",
       "\n",
       "    .dataframe thead th {\n",
       "        text-align: right;\n",
       "    }\n",
       "</style>\n",
       "<table border=\"1\" class=\"dataframe\">\n",
       "  <thead>\n",
       "    <tr style=\"text-align: right;\">\n",
       "      <th></th>\n",
       "      <th>user_id</th>\n",
       "      <th>tariff_plan</th>\n",
       "      <th>date_start</th>\n",
       "    </tr>\n",
       "  </thead>\n",
       "  <tbody>\n",
       "    <tr>\n",
       "      <th>0</th>\n",
       "      <td>166713</td>\n",
       "      <td>A</td>\n",
       "      <td>2019-08-15</td>\n",
       "    </tr>\n",
       "    <tr>\n",
       "      <th>1</th>\n",
       "      <td>166901</td>\n",
       "      <td>A</td>\n",
       "      <td>2019-08-23</td>\n",
       "    </tr>\n",
       "    <tr>\n",
       "      <th>2</th>\n",
       "      <td>168527</td>\n",
       "      <td>A</td>\n",
       "      <td>2019-10-29</td>\n",
       "    </tr>\n",
       "    <tr>\n",
       "      <th>3</th>\n",
       "      <td>167097</td>\n",
       "      <td>A</td>\n",
       "      <td>2019-09-01</td>\n",
       "    </tr>\n",
       "    <tr>\n",
       "      <th>4</th>\n",
       "      <td>168193</td>\n",
       "      <td>A</td>\n",
       "      <td>2019-10-16</td>\n",
       "    </tr>\n",
       "  </tbody>\n",
       "</table>\n",
       "</div>"
      ],
      "text/plain": [
       "   user_id tariff_plan  date_start\n",
       "0   166713           A  2019-08-15\n",
       "1   166901           A  2019-08-23\n",
       "2   168527           A  2019-10-29\n",
       "3   167097           A  2019-09-01\n",
       "4   168193           A  2019-10-16"
      ]
     },
     "execution_count": 12,
     "metadata": {},
     "output_type": "execute_result"
    }
   ],
   "source": [
    "telecom_clients.head()"
   ]
  },
  {
   "cell_type": "code",
   "execution_count": 13,
   "id": "ac8bd013",
   "metadata": {
    "ExecuteTime": {
     "end_time": "2023-07-20T10:16:56.520642Z",
     "start_time": "2023-07-20T10:16:56.505683Z"
    }
   },
   "outputs": [
    {
     "data": {
      "text/plain": [
       "user_id        0\n",
       "tariff_plan    0\n",
       "date_start     0\n",
       "dtype: int64"
      ]
     },
     "execution_count": 13,
     "metadata": {},
     "output_type": "execute_result"
    }
   ],
   "source": [
    "telecom_clients.isna().sum()"
   ]
  },
  {
   "cell_type": "code",
   "execution_count": 14,
   "id": "cca6ec6f",
   "metadata": {
    "ExecuteTime": {
     "end_time": "2023-07-20T10:16:56.536599Z",
     "start_time": "2023-07-20T10:16:56.521639Z"
    }
   },
   "outputs": [
    {
     "name": "stdout",
     "output_type": "stream",
     "text": [
      "Данные представлены с 2019-08-01 по 2019-10-31 \n"
     ]
    }
   ],
   "source": [
    "print(f'''Данные представлены с {telecom_clients.date_start.min()} по {\n",
    "telecom_clients.date_start.max()} ''')"
   ]
  },
  {
   "cell_type": "code",
   "execution_count": 15,
   "id": "25b25bff",
   "metadata": {
    "ExecuteTime": {
     "end_time": "2023-07-20T10:16:56.552557Z",
     "start_time": "2023-07-20T10:16:56.537599Z"
    }
   },
   "outputs": [
    {
     "data": {
      "text/plain": [
       "C    395\n",
       "B    261\n",
       "A     76\n",
       "Name: tariff_plan, dtype: int64"
      ]
     },
     "execution_count": 15,
     "metadata": {},
     "output_type": "execute_result"
    }
   ],
   "source": [
    "telecom_clients.tariff_plan.value_counts()"
   ]
  },
  {
   "cell_type": "code",
   "execution_count": 16,
   "id": "3a3faa1c",
   "metadata": {
    "ExecuteTime": {
     "end_time": "2023-07-20T10:16:56.568513Z",
     "start_time": "2023-07-20T10:16:56.553555Z"
    }
   },
   "outputs": [
    {
     "data": {
      "text/plain": [
       "732"
      ]
     },
     "execution_count": 16,
     "metadata": {},
     "output_type": "execute_result"
    }
   ],
   "source": [
    "telecom_clients.user_id.nunique()"
   ]
  },
  {
   "cell_type": "code",
   "execution_count": 17,
   "id": "b20e8545",
   "metadata": {
    "ExecuteTime": {
     "end_time": "2023-07-20T10:16:56.584471Z",
     "start_time": "2023-07-20T10:16:56.569511Z"
    }
   },
   "outputs": [
    {
     "data": {
      "text/plain": [
       "user_id        0\n",
       "tariff_plan    0\n",
       "date_start     0\n",
       "dtype: int64"
      ]
     },
     "execution_count": 17,
     "metadata": {},
     "output_type": "execute_result"
    }
   ],
   "source": [
    "telecom_clients.isna().sum()"
   ]
  },
  {
   "cell_type": "code",
   "execution_count": 18,
   "id": "1bdad8c6",
   "metadata": {
    "ExecuteTime": {
     "end_time": "2023-07-20T10:16:56.600429Z",
     "start_time": "2023-07-20T10:16:56.585468Z"
    }
   },
   "outputs": [
    {
     "data": {
      "text/plain": [
       "0"
      ]
     },
     "execution_count": 18,
     "metadata": {},
     "output_type": "execute_result"
    }
   ],
   "source": [
    "telecom_clients.duplicated().sum()"
   ]
  },
  {
   "cell_type": "code",
   "execution_count": 19,
   "id": "df88c953",
   "metadata": {
    "ExecuteTime": {
     "end_time": "2023-07-20T10:16:56.616386Z",
     "start_time": "2023-07-20T10:16:56.601427Z"
    }
   },
   "outputs": [
    {
     "data": {
      "text/plain": [
       "732"
      ]
     },
     "execution_count": 19,
     "metadata": {},
     "output_type": "execute_result"
    }
   ],
   "source": [
    "telecom_clients['user_id'].nunique()"
   ]
  },
  {
   "cell_type": "markdown",
   "id": "61a43961",
   "metadata": {},
   "source": [
    "Требуется привести дату в таблице telecom_clients к верному формату. Предположительно дубликатов нет. Пропуски отсутствуют.\n",
    "Данные даны с 1 августа по 31 октября."
   ]
  },
  {
   "cell_type": "markdown",
   "id": "96ad0c8f",
   "metadata": {
    "ExecuteTime": {
     "end_time": "2023-05-31T13:35:42.171413Z",
     "start_time": "2023-05-31T13:35:42.155084Z"
    }
   },
   "source": [
    "### Нахождение и ликвидация пропусков."
   ]
  },
  {
   "cell_type": "markdown",
   "id": "663f90e7",
   "metadata": {
    "ExecuteTime": {
     "end_time": "2023-07-17T15:44:11.793810Z",
     "start_time": "2023-07-17T15:44:11.778850Z"
    }
   },
   "source": [
    "Для работы с данными вместо пропусков в столбце operator_id установим \"заглушки\". "
   ]
  },
  {
   "cell_type": "code",
   "execution_count": 20,
   "id": "92b72851",
   "metadata": {
    "ExecuteTime": {
     "end_time": "2023-07-20T10:16:56.632373Z",
     "start_time": "2023-07-20T10:16:56.617384Z"
    }
   },
   "outputs": [
    {
     "data": {
      "text/plain": [
       "True     8050\n",
       "False     122\n",
       "Name: is_missed_call, dtype: int64"
      ]
     },
     "execution_count": 20,
     "metadata": {},
     "output_type": "execute_result"
    }
   ],
   "source": [
    "telecom_dataset[telecom_dataset['operator_id'].isna()]['is_missed_call'].value_counts()"
   ]
  },
  {
   "cell_type": "markdown",
   "id": "e8b5e6ef",
   "metadata": {},
   "source": [
    "Большинство пропусков связано с тем, что звонок не дошел до оператора. "
   ]
  },
  {
   "cell_type": "code",
   "execution_count": 21,
   "id": "30c4e25f",
   "metadata": {
    "ExecuteTime": {
     "end_time": "2023-07-20T10:16:56.664258Z",
     "start_time": "2023-07-20T10:16:56.633341Z"
    }
   },
   "outputs": [],
   "source": [
    "telecom_dataset[telecom_dataset['operator_id'].isna() & (telecom_dataset['is_missed_call'] == True)] = telecom_dataset[\n",
    "    (telecom_dataset['operator_id'].isna()) & (telecom_dataset['is_missed_call'] == True)].fillna('0')"
   ]
  },
  {
   "cell_type": "markdown",
   "id": "75546944",
   "metadata": {},
   "source": [
    "Оставшиеся пропуски удалим, т к их природу не отследить."
   ]
  },
  {
   "cell_type": "code",
   "execution_count": 22,
   "id": "9e5a3c40",
   "metadata": {
    "ExecuteTime": {
     "end_time": "2023-07-20T10:16:56.695211Z",
     "start_time": "2023-07-20T10:16:56.665254Z"
    }
   },
   "outputs": [],
   "source": [
    "telecom_dataset[telecom_dataset['operator_id'].isna() & (telecom_dataset['is_missed_call'] == False)] = telecom_dataset[\n",
    "    (telecom_dataset['operator_id'].isna()) & (telecom_dataset['is_missed_call'] == False)].dropna()"
   ]
  },
  {
   "cell_type": "code",
   "execution_count": 23,
   "id": "500bf401",
   "metadata": {
    "ExecuteTime": {
     "end_time": "2023-07-20T10:16:56.726116Z",
     "start_time": "2023-07-20T10:16:56.696173Z"
    },
    "scrolled": true
   },
   "outputs": [
    {
     "data": {
      "text/html": [
       "<div>\n",
       "<style scoped>\n",
       "    .dataframe tbody tr th:only-of-type {\n",
       "        vertical-align: middle;\n",
       "    }\n",
       "\n",
       "    .dataframe tbody tr th {\n",
       "        vertical-align: top;\n",
       "    }\n",
       "\n",
       "    .dataframe thead th {\n",
       "        text-align: right;\n",
       "    }\n",
       "</style>\n",
       "<table border=\"1\" class=\"dataframe\">\n",
       "  <thead>\n",
       "    <tr style=\"text-align: right;\">\n",
       "      <th></th>\n",
       "      <th></th>\n",
       "      <th>user_id</th>\n",
       "      <th>calls_count</th>\n",
       "      <th>total_call_duration</th>\n",
       "      <th>calls_share</th>\n",
       "      <th>total_calls_share</th>\n",
       "    </tr>\n",
       "    <tr>\n",
       "      <th>is_missed_call</th>\n",
       "      <th>direction</th>\n",
       "      <th></th>\n",
       "      <th></th>\n",
       "      <th></th>\n",
       "      <th></th>\n",
       "      <th></th>\n",
       "    </tr>\n",
       "  </thead>\n",
       "  <tbody>\n",
       "    <tr>\n",
       "      <th>False</th>\n",
       "      <th>in</th>\n",
       "      <td>29</td>\n",
       "      <td>64.0</td>\n",
       "      <td>8166.0</td>\n",
       "      <td>0.984615</td>\n",
       "      <td>0.000072</td>\n",
       "    </tr>\n",
       "    <tr>\n",
       "      <th>True</th>\n",
       "      <th>in</th>\n",
       "      <td>1</td>\n",
       "      <td>1.0</td>\n",
       "      <td>136.0</td>\n",
       "      <td>0.015385</td>\n",
       "      <td>0.000001</td>\n",
       "    </tr>\n",
       "  </tbody>\n",
       "</table>\n",
       "</div>"
      ],
      "text/plain": [
       "                          user_id  calls_count  total_call_duration  \\\n",
       "is_missed_call direction                                              \n",
       "False          in              29         64.0               8166.0   \n",
       "True           in               1          1.0                136.0   \n",
       "\n",
       "                          calls_share  total_calls_share  \n",
       "is_missed_call direction                                  \n",
       "False          in            0.984615           0.000072  \n",
       "True           in            0.015385           0.000001  "
      ]
     },
     "execution_count": 23,
     "metadata": {},
     "output_type": "execute_result"
    }
   ],
   "source": [
    "(telecom_dataset\n",
    " .query('internal != internal')\n",
    " .groupby(['is_missed_call','direction'])\n",
    " .agg({'user_id':'nunique','calls_count':'sum','total_call_duration':'sum'})\n",
    " .assign(calls_share = lambda x: x['calls_count'] / telecom_dataset.query('internal != internal').calls_count.sum(),\n",
    "         total_calls_share = lambda x: x['calls_count'] / telecom_dataset.calls_count.sum())\n",
    ")"
   ]
  },
  {
   "cell_type": "markdown",
   "id": "ac29f708",
   "metadata": {},
   "source": [
    "Отследить природу пропусков в столбце \"internal\" не удалось. В связи с этим принято решении об удалении строк с пропущенными данными, они составляют менее 0.2% от всего датафрейма."
   ]
  },
  {
   "cell_type": "code",
   "execution_count": 24,
   "id": "839806b6",
   "metadata": {
    "ExecuteTime": {
     "end_time": "2023-07-20T10:16:56.742051Z",
     "start_time": "2023-07-20T10:16:56.727090Z"
    }
   },
   "outputs": [
    {
     "data": {
      "text/plain": [
       "53902"
      ]
     },
     "execution_count": 24,
     "metadata": {},
     "output_type": "execute_result"
    }
   ],
   "source": [
    "telecom_dataset.shape[0]"
   ]
  },
  {
   "cell_type": "code",
   "execution_count": 25,
   "id": "58b71a5d",
   "metadata": {
    "ExecuteTime": {
     "end_time": "2023-07-20T10:16:56.774002Z",
     "start_time": "2023-07-20T10:16:56.744045Z"
    }
   },
   "outputs": [],
   "source": [
    "telecom_dataset = telecom_dataset.dropna(subset=['internal'])"
   ]
  },
  {
   "cell_type": "code",
   "execution_count": 26,
   "id": "f4a04178",
   "metadata": {
    "ExecuteTime": {
     "end_time": "2023-07-20T10:16:56.789957Z",
     "start_time": "2023-07-20T10:16:56.774962Z"
    }
   },
   "outputs": [
    {
     "data": {
      "text/plain": [
       "53720"
      ]
     },
     "execution_count": 26,
     "metadata": {},
     "output_type": "execute_result"
    }
   ],
   "source": [
    "telecom_dataset.shape[0]"
   ]
  },
  {
   "cell_type": "code",
   "execution_count": 27,
   "id": "b951a8a8",
   "metadata": {
    "ExecuteTime": {
     "end_time": "2023-07-20T10:16:56.837833Z",
     "start_time": "2023-07-20T10:16:56.795906Z"
    },
    "scrolled": true
   },
   "outputs": [
    {
     "data": {
      "text/plain": [
       "user_id                0\n",
       "date                   0\n",
       "direction              0\n",
       "internal               0\n",
       "operator_id            0\n",
       "is_missed_call         0\n",
       "calls_count            0\n",
       "call_duration          0\n",
       "total_call_duration    0\n",
       "dtype: int64"
      ]
     },
     "execution_count": 27,
     "metadata": {},
     "output_type": "execute_result"
    }
   ],
   "source": [
    "telecom_dataset.isna().sum()"
   ]
  },
  {
   "cell_type": "markdown",
   "id": "ddcdef3b",
   "metadata": {},
   "source": [
    "После обработки данных не рассмотренных пропусков не осталось."
   ]
  },
  {
   "cell_type": "markdown",
   "id": "0427884c",
   "metadata": {},
   "source": [
    "Для анализа нам важны такие показатели как количество клиентов, количество операторов и исходящий трафик. Поэтому отследим изменение количества клиентов и операторов"
   ]
  },
  {
   "cell_type": "code",
   "execution_count": 28,
   "id": "aa399785",
   "metadata": {
    "ExecuteTime": {
     "end_time": "2023-07-20T10:16:56.853791Z",
     "start_time": "2023-07-20T10:16:56.839790Z"
    }
   },
   "outputs": [
    {
     "data": {
      "text/plain": [
       "user_id         307\n",
       "operator_id    1092\n",
       "dtype: int64"
      ]
     },
     "execution_count": 28,
     "metadata": {},
     "output_type": "execute_result"
    }
   ],
   "source": [
    "# количество клиентов и операторов до фильтрации:\n",
    "\n",
    "td[['user_id','operator_id']].nunique()"
   ]
  },
  {
   "cell_type": "code",
   "execution_count": 29,
   "id": "e5facc10",
   "metadata": {
    "ExecuteTime": {
     "end_time": "2023-07-20T10:16:56.885666Z",
     "start_time": "2023-07-20T10:16:56.855748Z"
    },
    "scrolled": true
   },
   "outputs": [
    {
     "data": {
      "text/plain": [
       "user_id         307\n",
       "operator_id    1093\n",
       "dtype: int64"
      ]
     },
     "execution_count": 29,
     "metadata": {},
     "output_type": "execute_result"
    }
   ],
   "source": [
    "# количество клиентов и операторов после фильтрации:\n",
    "telecom_dataset[['user_id','operator_id']].nunique()"
   ]
  },
  {
   "cell_type": "code",
   "execution_count": null,
   "id": "81318fef",
   "metadata": {},
   "outputs": [],
   "source": []
  },
  {
   "cell_type": "code",
   "execution_count": 30,
   "id": "c3a2e954",
   "metadata": {
    "ExecuteTime": {
     "end_time": "2023-07-20T10:16:56.917618Z",
     "start_time": "2023-07-20T10:16:56.887663Z"
    }
   },
   "outputs": [
    {
     "data": {
      "text/plain": [
       "190573.0"
      ]
     },
     "execution_count": 30,
     "metadata": {},
     "output_type": "execute_result"
    }
   ],
   "source": [
    "# длительность исходящих до и после:\n",
    "td.query('direction == \"out\"').total_call_duration.sum() - telecom_dataset.query('direction == \"out\"').total_call_duration.sum()"
   ]
  },
  {
   "cell_type": "markdown",
   "id": "a7f8fcdc",
   "metadata": {},
   "source": [
    "Количество операторов увеличилось на заглушку, а также потеряли незначительную часть по секундам . Другие показатели не изменились."
   ]
  },
  {
   "cell_type": "markdown",
   "id": "44cab8d9",
   "metadata": {
    "ExecuteTime": {
     "end_time": "2023-05-31T12:53:22.311722Z",
     "start_time": "2023-05-31T12:53:22.302854Z"
    }
   },
   "source": [
    "### Приведение данных к нужным типам"
   ]
  },
  {
   "cell_type": "markdown",
   "id": "b98d392e",
   "metadata": {},
   "source": [
    "Приведет к нужному типу столбцы с датами."
   ]
  },
  {
   "cell_type": "code",
   "execution_count": 31,
   "id": "6fb3f997",
   "metadata": {
    "ExecuteTime": {
     "end_time": "2023-07-20T10:16:56.965454Z",
     "start_time": "2023-07-20T10:16:56.918580Z"
    }
   },
   "outputs": [],
   "source": [
    "telecom_dataset.date = pd.to_datetime(telecom_dataset['date']).dt.date.astype('datetime64[ns]')"
   ]
  },
  {
   "cell_type": "code",
   "execution_count": 32,
   "id": "3295c41b",
   "metadata": {
    "ExecuteTime": {
     "end_time": "2023-07-20T10:16:56.981443Z",
     "start_time": "2023-07-20T10:16:56.966451Z"
    }
   },
   "outputs": [],
   "source": [
    "telecom_clients['date_start'] = pd.to_datetime(telecom_clients['date_start']).dt.date.astype('datetime64[ns]')"
   ]
  },
  {
   "cell_type": "code",
   "execution_count": 33,
   "id": "7c45472b",
   "metadata": {
    "ExecuteTime": {
     "end_time": "2023-07-20T10:16:56.997405Z",
     "start_time": "2023-07-20T10:16:56.982407Z"
    }
   },
   "outputs": [],
   "source": [
    "telecom_dataset['operator_id'] = telecom_dataset['operator_id'].astype('int64')"
   ]
  },
  {
   "cell_type": "code",
   "execution_count": 34,
   "id": "7208602b",
   "metadata": {
    "ExecuteTime": {
     "end_time": "2023-07-20T10:16:57.013360Z",
     "start_time": "2023-07-20T10:16:56.998365Z"
    }
   },
   "outputs": [],
   "source": [
    "telecom_dataset['user_id'] = telecom_dataset['user_id'].astype('int64')"
   ]
  },
  {
   "cell_type": "code",
   "execution_count": 35,
   "id": "c78f27d6",
   "metadata": {
    "ExecuteTime": {
     "end_time": "2023-07-20T10:16:57.029317Z",
     "start_time": "2023-07-20T10:16:57.014323Z"
    }
   },
   "outputs": [
    {
     "data": {
      "text/plain": [
       "user_id                         int64\n",
       "date                   datetime64[ns]\n",
       "direction                      object\n",
       "internal                       object\n",
       "operator_id                     int64\n",
       "is_missed_call                 object\n",
       "calls_count                   float64\n",
       "call_duration                 float64\n",
       "total_call_duration           float64\n",
       "dtype: object"
      ]
     },
     "execution_count": 35,
     "metadata": {},
     "output_type": "execute_result"
    }
   ],
   "source": [
    "telecom_dataset.dtypes"
   ]
  },
  {
   "cell_type": "code",
   "execution_count": 36,
   "id": "7cc58c77",
   "metadata": {
    "ExecuteTime": {
     "end_time": "2023-07-20T10:16:57.045277Z",
     "start_time": "2023-07-20T10:16:57.030280Z"
    }
   },
   "outputs": [
    {
     "data": {
      "text/plain": [
       "user_id                 int64\n",
       "tariff_plan            object\n",
       "date_start     datetime64[ns]\n",
       "dtype: object"
      ]
     },
     "execution_count": 36,
     "metadata": {},
     "output_type": "execute_result"
    }
   ],
   "source": [
    "telecom_clients.dtypes"
   ]
  },
  {
   "cell_type": "markdown",
   "id": "584b40e9",
   "metadata": {},
   "source": [
    "Все типы приведены к нужным."
   ]
  },
  {
   "cell_type": "markdown",
   "id": "4aee8c2e",
   "metadata": {},
   "source": [
    "### Нахождение и ликвидация дубликатов."
   ]
  },
  {
   "cell_type": "markdown",
   "id": "f51b35b7",
   "metadata": {},
   "source": [
    "#### Дубликаты в telecom_dataset"
   ]
  },
  {
   "cell_type": "code",
   "execution_count": 37,
   "id": "faf7ca02",
   "metadata": {
    "ExecuteTime": {
     "end_time": "2023-07-20T10:16:57.061235Z",
     "start_time": "2023-07-20T10:16:57.046265Z"
    }
   },
   "outputs": [
    {
     "data": {
      "text/plain": [
       "53720"
      ]
     },
     "execution_count": 37,
     "metadata": {},
     "output_type": "execute_result"
    }
   ],
   "source": [
    "telecom_dataset.shape[0]"
   ]
  },
  {
   "cell_type": "code",
   "execution_count": 38,
   "id": "3c49f368",
   "metadata": {
    "ExecuteTime": {
     "end_time": "2023-07-20T10:16:57.092143Z",
     "start_time": "2023-07-20T10:16:57.063192Z"
    }
   },
   "outputs": [
    {
     "data": {
      "text/plain": [
       "4886"
      ]
     },
     "execution_count": 38,
     "metadata": {},
     "output_type": "execute_result"
    }
   ],
   "source": [
    "telecom_dataset[\n",
    "    ['user_id', 'date',  'direction', 'internal', 'operator_id', 'is_missed_call']\n",
    "].duplicated().sum()"
   ]
  },
  {
   "cell_type": "code",
   "execution_count": 39,
   "id": "2f55c156",
   "metadata": {
    "ExecuteTime": {
     "end_time": "2023-07-20T10:16:57.139025Z",
     "start_time": "2023-07-20T10:16:57.093113Z"
    }
   },
   "outputs": [],
   "source": [
    "telecom_dataset = telecom_dataset.drop_duplicates(ignore_index=True)"
   ]
  },
  {
   "cell_type": "code",
   "execution_count": 40,
   "id": "27bb3bce",
   "metadata": {
    "ExecuteTime": {
     "end_time": "2023-07-20T10:16:57.154982Z",
     "start_time": "2023-07-20T10:16:57.139986Z"
    }
   },
   "outputs": [
    {
     "data": {
      "text/plain": [
       "48834"
      ]
     },
     "execution_count": 40,
     "metadata": {},
     "output_type": "execute_result"
    }
   ],
   "source": [
    "telecom_dataset.shape[0]"
   ]
  },
  {
   "cell_type": "code",
   "execution_count": 41,
   "id": "a95cfb04",
   "metadata": {
    "ExecuteTime": {
     "end_time": "2023-07-20T10:16:57.170903Z",
     "start_time": "2023-07-20T10:16:57.155944Z"
    }
   },
   "outputs": [
    {
     "data": {
      "text/html": [
       "<div>\n",
       "<style scoped>\n",
       "    .dataframe tbody tr th:only-of-type {\n",
       "        vertical-align: middle;\n",
       "    }\n",
       "\n",
       "    .dataframe tbody tr th {\n",
       "        vertical-align: top;\n",
       "    }\n",
       "\n",
       "    .dataframe thead th {\n",
       "        text-align: right;\n",
       "    }\n",
       "</style>\n",
       "<table border=\"1\" class=\"dataframe\">\n",
       "  <thead>\n",
       "    <tr style=\"text-align: right;\">\n",
       "      <th></th>\n",
       "      <th>user_id</th>\n",
       "      <th>date</th>\n",
       "      <th>direction</th>\n",
       "      <th>internal</th>\n",
       "      <th>operator_id</th>\n",
       "      <th>is_missed_call</th>\n",
       "      <th>calls_count</th>\n",
       "      <th>call_duration</th>\n",
       "      <th>total_call_duration</th>\n",
       "    </tr>\n",
       "  </thead>\n",
       "  <tbody>\n",
       "    <tr>\n",
       "      <th>0</th>\n",
       "      <td>166377</td>\n",
       "      <td>2019-08-04</td>\n",
       "      <td>in</td>\n",
       "      <td>False</td>\n",
       "      <td>0</td>\n",
       "      <td>True</td>\n",
       "      <td>2.0</td>\n",
       "      <td>0.0</td>\n",
       "      <td>4.0</td>\n",
       "    </tr>\n",
       "    <tr>\n",
       "      <th>1</th>\n",
       "      <td>166377</td>\n",
       "      <td>2019-08-05</td>\n",
       "      <td>out</td>\n",
       "      <td>True</td>\n",
       "      <td>880022</td>\n",
       "      <td>True</td>\n",
       "      <td>3.0</td>\n",
       "      <td>0.0</td>\n",
       "      <td>5.0</td>\n",
       "    </tr>\n",
       "    <tr>\n",
       "      <th>2</th>\n",
       "      <td>166377</td>\n",
       "      <td>2019-08-05</td>\n",
       "      <td>out</td>\n",
       "      <td>True</td>\n",
       "      <td>880020</td>\n",
       "      <td>True</td>\n",
       "      <td>1.0</td>\n",
       "      <td>0.0</td>\n",
       "      <td>1.0</td>\n",
       "    </tr>\n",
       "    <tr>\n",
       "      <th>3</th>\n",
       "      <td>166377</td>\n",
       "      <td>2019-08-05</td>\n",
       "      <td>out</td>\n",
       "      <td>True</td>\n",
       "      <td>880020</td>\n",
       "      <td>False</td>\n",
       "      <td>1.0</td>\n",
       "      <td>10.0</td>\n",
       "      <td>18.0</td>\n",
       "    </tr>\n",
       "    <tr>\n",
       "      <th>4</th>\n",
       "      <td>166377</td>\n",
       "      <td>2019-08-05</td>\n",
       "      <td>out</td>\n",
       "      <td>False</td>\n",
       "      <td>880022</td>\n",
       "      <td>True</td>\n",
       "      <td>3.0</td>\n",
       "      <td>0.0</td>\n",
       "      <td>25.0</td>\n",
       "    </tr>\n",
       "  </tbody>\n",
       "</table>\n",
       "</div>"
      ],
      "text/plain": [
       "   user_id       date direction internal  operator_id is_missed_call  \\\n",
       "0   166377 2019-08-04        in    False            0           True   \n",
       "1   166377 2019-08-05       out     True       880022           True   \n",
       "2   166377 2019-08-05       out     True       880020           True   \n",
       "3   166377 2019-08-05       out     True       880020          False   \n",
       "4   166377 2019-08-05       out    False       880022           True   \n",
       "\n",
       "   calls_count  call_duration  total_call_duration  \n",
       "0          2.0            0.0                  4.0  \n",
       "1          3.0            0.0                  5.0  \n",
       "2          1.0            0.0                  1.0  \n",
       "3          1.0           10.0                 18.0  \n",
       "4          3.0            0.0                 25.0  "
      ]
     },
     "execution_count": 41,
     "metadata": {},
     "output_type": "execute_result"
    }
   ],
   "source": [
    "telecom_dataset.head()"
   ]
  },
  {
   "cell_type": "code",
   "execution_count": 42,
   "id": "1914bc09",
   "metadata": {
    "ExecuteTime": {
     "end_time": "2023-07-20T10:16:57.202820Z",
     "start_time": "2023-07-20T10:16:57.171901Z"
    }
   },
   "outputs": [
    {
     "data": {
      "text/plain": [
       "0"
      ]
     },
     "execution_count": 42,
     "metadata": {},
     "output_type": "execute_result"
    }
   ],
   "source": [
    "telecom_dataset[\n",
    "    ['user_id', 'date',  'direction', 'internal', 'operator_id', 'is_missed_call']\n",
    "].duplicated().sum()"
   ]
  },
  {
   "cell_type": "code",
   "execution_count": 43,
   "id": "5d0e2007",
   "metadata": {
    "ExecuteTime": {
     "end_time": "2023-07-20T10:16:57.250727Z",
     "start_time": "2023-07-20T10:16:57.204814Z"
    },
    "scrolled": false
   },
   "outputs": [
    {
     "data": {
      "text/html": [
       "<div>\n",
       "<style scoped>\n",
       "    .dataframe tbody tr th:only-of-type {\n",
       "        vertical-align: middle;\n",
       "    }\n",
       "\n",
       "    .dataframe tbody tr th {\n",
       "        vertical-align: top;\n",
       "    }\n",
       "\n",
       "    .dataframe thead th {\n",
       "        text-align: right;\n",
       "    }\n",
       "</style>\n",
       "<table border=\"1\" class=\"dataframe\">\n",
       "  <thead>\n",
       "    <tr style=\"text-align: right;\">\n",
       "      <th></th>\n",
       "      <th>user_id</th>\n",
       "      <th>date</th>\n",
       "      <th>operator_id</th>\n",
       "      <th>call_duration</th>\n",
       "      <th>calls_count</th>\n",
       "      <th>total_call_duration</th>\n",
       "      <th>total_call_duration_h</th>\n",
       "      <th>call_duration_h</th>\n",
       "    </tr>\n",
       "  </thead>\n",
       "  <tbody>\n",
       "    <tr>\n",
       "      <th>3167</th>\n",
       "      <td>166582</td>\n",
       "      <td>2019-08-21</td>\n",
       "      <td>885890</td>\n",
       "      <td>68400.0</td>\n",
       "      <td>849.0</td>\n",
       "      <td>87794.0</td>\n",
       "      <td>24.387222</td>\n",
       "      <td>19.000000</td>\n",
       "    </tr>\n",
       "    <tr>\n",
       "      <th>3185</th>\n",
       "      <td>166582</td>\n",
       "      <td>2019-08-27</td>\n",
       "      <td>885890</td>\n",
       "      <td>63741.0</td>\n",
       "      <td>1077.0</td>\n",
       "      <td>89853.0</td>\n",
       "      <td>24.959167</td>\n",
       "      <td>17.705833</td>\n",
       "    </tr>\n",
       "    <tr>\n",
       "      <th>3191</th>\n",
       "      <td>166582</td>\n",
       "      <td>2019-08-29</td>\n",
       "      <td>885890</td>\n",
       "      <td>68467.0</td>\n",
       "      <td>1109.0</td>\n",
       "      <td>96824.0</td>\n",
       "      <td>26.895556</td>\n",
       "      <td>19.018611</td>\n",
       "    </tr>\n",
       "    <tr>\n",
       "      <th>3202</th>\n",
       "      <td>166582</td>\n",
       "      <td>2019-09-02</td>\n",
       "      <td>885876</td>\n",
       "      <td>91447.0</td>\n",
       "      <td>1510.0</td>\n",
       "      <td>126416.0</td>\n",
       "      <td>35.115556</td>\n",
       "      <td>25.401944</td>\n",
       "    </tr>\n",
       "    <tr>\n",
       "      <th>3205</th>\n",
       "      <td>166582</td>\n",
       "      <td>2019-09-03</td>\n",
       "      <td>885876</td>\n",
       "      <td>88710.0</td>\n",
       "      <td>1897.0</td>\n",
       "      <td>132757.0</td>\n",
       "      <td>36.876944</td>\n",
       "      <td>24.641667</td>\n",
       "    </tr>\n",
       "    <tr>\n",
       "      <th>3208</th>\n",
       "      <td>166582</td>\n",
       "      <td>2019-09-04</td>\n",
       "      <td>885876</td>\n",
       "      <td>94055.0</td>\n",
       "      <td>1374.0</td>\n",
       "      <td>126723.0</td>\n",
       "      <td>35.200833</td>\n",
       "      <td>26.126389</td>\n",
       "    </tr>\n",
       "    <tr>\n",
       "      <th>3211</th>\n",
       "      <td>166582</td>\n",
       "      <td>2019-09-05</td>\n",
       "      <td>885876</td>\n",
       "      <td>111307.0</td>\n",
       "      <td>1000.0</td>\n",
       "      <td>135635.0</td>\n",
       "      <td>37.676389</td>\n",
       "      <td>30.918611</td>\n",
       "    </tr>\n",
       "    <tr>\n",
       "      <th>3214</th>\n",
       "      <td>166582</td>\n",
       "      <td>2019-09-06</td>\n",
       "      <td>885876</td>\n",
       "      <td>89539.0</td>\n",
       "      <td>1008.0</td>\n",
       "      <td>114881.0</td>\n",
       "      <td>31.911389</td>\n",
       "      <td>24.871944</td>\n",
       "    </tr>\n",
       "    <tr>\n",
       "      <th>3223</th>\n",
       "      <td>166582</td>\n",
       "      <td>2019-09-09</td>\n",
       "      <td>885876</td>\n",
       "      <td>122521.0</td>\n",
       "      <td>1700.0</td>\n",
       "      <td>160826.0</td>\n",
       "      <td>44.673889</td>\n",
       "      <td>34.033611</td>\n",
       "    </tr>\n",
       "    <tr>\n",
       "      <th>3226</th>\n",
       "      <td>166582</td>\n",
       "      <td>2019-09-10</td>\n",
       "      <td>885876</td>\n",
       "      <td>81237.0</td>\n",
       "      <td>1788.0</td>\n",
       "      <td>122399.0</td>\n",
       "      <td>33.999722</td>\n",
       "      <td>22.565833</td>\n",
       "    </tr>\n",
       "    <tr>\n",
       "      <th>3229</th>\n",
       "      <td>166582</td>\n",
       "      <td>2019-09-11</td>\n",
       "      <td>885876</td>\n",
       "      <td>115702.0</td>\n",
       "      <td>1418.0</td>\n",
       "      <td>149414.0</td>\n",
       "      <td>41.503889</td>\n",
       "      <td>32.139444</td>\n",
       "    </tr>\n",
       "    <tr>\n",
       "      <th>3230</th>\n",
       "      <td>166582</td>\n",
       "      <td>2019-09-11</td>\n",
       "      <td>885890</td>\n",
       "      <td>64842.0</td>\n",
       "      <td>1099.0</td>\n",
       "      <td>92460.0</td>\n",
       "      <td>25.683333</td>\n",
       "      <td>18.011667</td>\n",
       "    </tr>\n",
       "    <tr>\n",
       "      <th>3232</th>\n",
       "      <td>166582</td>\n",
       "      <td>2019-09-12</td>\n",
       "      <td>885876</td>\n",
       "      <td>126716.0</td>\n",
       "      <td>1104.0</td>\n",
       "      <td>153793.0</td>\n",
       "      <td>42.720278</td>\n",
       "      <td>35.198889</td>\n",
       "    </tr>\n",
       "    <tr>\n",
       "      <th>3233</th>\n",
       "      <td>166582</td>\n",
       "      <td>2019-09-12</td>\n",
       "      <td>885890</td>\n",
       "      <td>73071.0</td>\n",
       "      <td>1025.0</td>\n",
       "      <td>98626.0</td>\n",
       "      <td>27.396111</td>\n",
       "      <td>20.297500</td>\n",
       "    </tr>\n",
       "    <tr>\n",
       "      <th>3235</th>\n",
       "      <td>166582</td>\n",
       "      <td>2019-09-13</td>\n",
       "      <td>885876</td>\n",
       "      <td>99893.0</td>\n",
       "      <td>1139.0</td>\n",
       "      <td>127482.0</td>\n",
       "      <td>35.411667</td>\n",
       "      <td>27.748056</td>\n",
       "    </tr>\n",
       "    <tr>\n",
       "      <th>3236</th>\n",
       "      <td>166582</td>\n",
       "      <td>2019-09-13</td>\n",
       "      <td>885890</td>\n",
       "      <td>64698.0</td>\n",
       "      <td>1168.0</td>\n",
       "      <td>93791.0</td>\n",
       "      <td>26.053056</td>\n",
       "      <td>17.971667</td>\n",
       "    </tr>\n",
       "    <tr>\n",
       "      <th>3244</th>\n",
       "      <td>166582</td>\n",
       "      <td>2019-09-16</td>\n",
       "      <td>885876</td>\n",
       "      <td>72631.0</td>\n",
       "      <td>1369.0</td>\n",
       "      <td>103300.0</td>\n",
       "      <td>28.694444</td>\n",
       "      <td>20.175278</td>\n",
       "    </tr>\n",
       "    <tr>\n",
       "      <th>3247</th>\n",
       "      <td>166582</td>\n",
       "      <td>2019-09-17</td>\n",
       "      <td>885876</td>\n",
       "      <td>101163.0</td>\n",
       "      <td>2206.0</td>\n",
       "      <td>150486.0</td>\n",
       "      <td>41.801667</td>\n",
       "      <td>28.100833</td>\n",
       "    </tr>\n",
       "    <tr>\n",
       "      <th>3250</th>\n",
       "      <td>166582</td>\n",
       "      <td>2019-09-18</td>\n",
       "      <td>885876</td>\n",
       "      <td>121836.0</td>\n",
       "      <td>1638.0</td>\n",
       "      <td>159178.0</td>\n",
       "      <td>44.216111</td>\n",
       "      <td>33.843333</td>\n",
       "    </tr>\n",
       "    <tr>\n",
       "      <th>3251</th>\n",
       "      <td>166582</td>\n",
       "      <td>2019-09-18</td>\n",
       "      <td>885890</td>\n",
       "      <td>66160.0</td>\n",
       "      <td>1118.0</td>\n",
       "      <td>93031.0</td>\n",
       "      <td>25.841944</td>\n",
       "      <td>18.377778</td>\n",
       "    </tr>\n",
       "    <tr>\n",
       "      <th>3253</th>\n",
       "      <td>166582</td>\n",
       "      <td>2019-09-19</td>\n",
       "      <td>885876</td>\n",
       "      <td>109852.0</td>\n",
       "      <td>1252.0</td>\n",
       "      <td>137613.0</td>\n",
       "      <td>38.225833</td>\n",
       "      <td>30.514444</td>\n",
       "    </tr>\n",
       "    <tr>\n",
       "      <th>3254</th>\n",
       "      <td>166582</td>\n",
       "      <td>2019-09-19</td>\n",
       "      <td>885890</td>\n",
       "      <td>65188.0</td>\n",
       "      <td>1179.0</td>\n",
       "      <td>94955.0</td>\n",
       "      <td>26.376389</td>\n",
       "      <td>18.107778</td>\n",
       "    </tr>\n",
       "    <tr>\n",
       "      <th>3256</th>\n",
       "      <td>166582</td>\n",
       "      <td>2019-09-20</td>\n",
       "      <td>885876</td>\n",
       "      <td>116836.0</td>\n",
       "      <td>1331.0</td>\n",
       "      <td>147668.0</td>\n",
       "      <td>41.018889</td>\n",
       "      <td>32.454444</td>\n",
       "    </tr>\n",
       "    <tr>\n",
       "      <th>3257</th>\n",
       "      <td>166582</td>\n",
       "      <td>2019-09-20</td>\n",
       "      <td>885890</td>\n",
       "      <td>64946.0</td>\n",
       "      <td>1207.0</td>\n",
       "      <td>95081.0</td>\n",
       "      <td>26.411389</td>\n",
       "      <td>18.040556</td>\n",
       "    </tr>\n",
       "    <tr>\n",
       "      <th>3265</th>\n",
       "      <td>166582</td>\n",
       "      <td>2019-09-23</td>\n",
       "      <td>885876</td>\n",
       "      <td>104202.0</td>\n",
       "      <td>2186.0</td>\n",
       "      <td>153313.0</td>\n",
       "      <td>42.586944</td>\n",
       "      <td>28.945000</td>\n",
       "    </tr>\n",
       "    <tr>\n",
       "      <th>3266</th>\n",
       "      <td>166582</td>\n",
       "      <td>2019-09-23</td>\n",
       "      <td>885890</td>\n",
       "      <td>59430.0</td>\n",
       "      <td>1145.0</td>\n",
       "      <td>87746.0</td>\n",
       "      <td>24.373889</td>\n",
       "      <td>16.508333</td>\n",
       "    </tr>\n",
       "    <tr>\n",
       "      <th>3268</th>\n",
       "      <td>166582</td>\n",
       "      <td>2019-09-24</td>\n",
       "      <td>885876</td>\n",
       "      <td>62115.0</td>\n",
       "      <td>2325.0</td>\n",
       "      <td>116310.0</td>\n",
       "      <td>32.308333</td>\n",
       "      <td>17.254167</td>\n",
       "    </tr>\n",
       "    <tr>\n",
       "      <th>3271</th>\n",
       "      <td>166582</td>\n",
       "      <td>2019-09-25</td>\n",
       "      <td>885876</td>\n",
       "      <td>145006.0</td>\n",
       "      <td>2039.0</td>\n",
       "      <td>189989.0</td>\n",
       "      <td>52.774722</td>\n",
       "      <td>40.279444</td>\n",
       "    </tr>\n",
       "    <tr>\n",
       "      <th>3274</th>\n",
       "      <td>166582</td>\n",
       "      <td>2019-09-26</td>\n",
       "      <td>885876</td>\n",
       "      <td>137138.0</td>\n",
       "      <td>1603.0</td>\n",
       "      <td>172165.0</td>\n",
       "      <td>47.823611</td>\n",
       "      <td>38.093889</td>\n",
       "    </tr>\n",
       "    <tr>\n",
       "      <th>3277</th>\n",
       "      <td>166582</td>\n",
       "      <td>2019-09-27</td>\n",
       "      <td>885876</td>\n",
       "      <td>116527.0</td>\n",
       "      <td>1487.0</td>\n",
       "      <td>149680.0</td>\n",
       "      <td>41.577778</td>\n",
       "      <td>32.368611</td>\n",
       "    </tr>\n",
       "    <tr>\n",
       "      <th>3286</th>\n",
       "      <td>166582</td>\n",
       "      <td>2019-09-30</td>\n",
       "      <td>885876</td>\n",
       "      <td>94947.0</td>\n",
       "      <td>1723.0</td>\n",
       "      <td>132552.0</td>\n",
       "      <td>36.820000</td>\n",
       "      <td>26.374167</td>\n",
       "    </tr>\n",
       "    <tr>\n",
       "      <th>3289</th>\n",
       "      <td>166582</td>\n",
       "      <td>2019-10-01</td>\n",
       "      <td>885876</td>\n",
       "      <td>89312.0</td>\n",
       "      <td>2767.0</td>\n",
       "      <td>150203.0</td>\n",
       "      <td>41.723056</td>\n",
       "      <td>24.808889</td>\n",
       "    </tr>\n",
       "    <tr>\n",
       "      <th>3292</th>\n",
       "      <td>166582</td>\n",
       "      <td>2019-10-02</td>\n",
       "      <td>885876</td>\n",
       "      <td>122108.0</td>\n",
       "      <td>1570.0</td>\n",
       "      <td>155402.0</td>\n",
       "      <td>43.167222</td>\n",
       "      <td>33.918889</td>\n",
       "    </tr>\n",
       "    <tr>\n",
       "      <th>3296</th>\n",
       "      <td>166582</td>\n",
       "      <td>2019-10-03</td>\n",
       "      <td>885876</td>\n",
       "      <td>95104.0</td>\n",
       "      <td>484.0</td>\n",
       "      <td>105786.0</td>\n",
       "      <td>29.385000</td>\n",
       "      <td>26.417778</td>\n",
       "    </tr>\n",
       "    <tr>\n",
       "      <th>3300</th>\n",
       "      <td>166582</td>\n",
       "      <td>2019-10-04</td>\n",
       "      <td>885876</td>\n",
       "      <td>84057.0</td>\n",
       "      <td>449.0</td>\n",
       "      <td>94110.0</td>\n",
       "      <td>26.141667</td>\n",
       "      <td>23.349167</td>\n",
       "    </tr>\n",
       "    <tr>\n",
       "      <th>3320</th>\n",
       "      <td>166582</td>\n",
       "      <td>2019-10-09</td>\n",
       "      <td>885876</td>\n",
       "      <td>120476.0</td>\n",
       "      <td>1007.0</td>\n",
       "      <td>141573.0</td>\n",
       "      <td>39.325833</td>\n",
       "      <td>33.465556</td>\n",
       "    </tr>\n",
       "    <tr>\n",
       "      <th>3324</th>\n",
       "      <td>166582</td>\n",
       "      <td>2019-10-10</td>\n",
       "      <td>885876</td>\n",
       "      <td>90779.0</td>\n",
       "      <td>523.0</td>\n",
       "      <td>101498.0</td>\n",
       "      <td>28.193889</td>\n",
       "      <td>25.216389</td>\n",
       "    </tr>\n",
       "    <tr>\n",
       "      <th>3352</th>\n",
       "      <td>166582</td>\n",
       "      <td>2019-10-17</td>\n",
       "      <td>885890</td>\n",
       "      <td>69508.0</td>\n",
       "      <td>1305.0</td>\n",
       "      <td>101322.0</td>\n",
       "      <td>28.145000</td>\n",
       "      <td>19.307778</td>\n",
       "    </tr>\n",
       "    <tr>\n",
       "      <th>3356</th>\n",
       "      <td>166582</td>\n",
       "      <td>2019-10-18</td>\n",
       "      <td>885890</td>\n",
       "      <td>64445.0</td>\n",
       "      <td>1166.0</td>\n",
       "      <td>94070.0</td>\n",
       "      <td>26.130556</td>\n",
       "      <td>17.901389</td>\n",
       "    </tr>\n",
       "  </tbody>\n",
       "</table>\n",
       "</div>"
      ],
      "text/plain": [
       "      user_id       date  operator_id  call_duration  calls_count  \\\n",
       "3167   166582 2019-08-21       885890        68400.0        849.0   \n",
       "3185   166582 2019-08-27       885890        63741.0       1077.0   \n",
       "3191   166582 2019-08-29       885890        68467.0       1109.0   \n",
       "3202   166582 2019-09-02       885876        91447.0       1510.0   \n",
       "3205   166582 2019-09-03       885876        88710.0       1897.0   \n",
       "3208   166582 2019-09-04       885876        94055.0       1374.0   \n",
       "3211   166582 2019-09-05       885876       111307.0       1000.0   \n",
       "3214   166582 2019-09-06       885876        89539.0       1008.0   \n",
       "3223   166582 2019-09-09       885876       122521.0       1700.0   \n",
       "3226   166582 2019-09-10       885876        81237.0       1788.0   \n",
       "3229   166582 2019-09-11       885876       115702.0       1418.0   \n",
       "3230   166582 2019-09-11       885890        64842.0       1099.0   \n",
       "3232   166582 2019-09-12       885876       126716.0       1104.0   \n",
       "3233   166582 2019-09-12       885890        73071.0       1025.0   \n",
       "3235   166582 2019-09-13       885876        99893.0       1139.0   \n",
       "3236   166582 2019-09-13       885890        64698.0       1168.0   \n",
       "3244   166582 2019-09-16       885876        72631.0       1369.0   \n",
       "3247   166582 2019-09-17       885876       101163.0       2206.0   \n",
       "3250   166582 2019-09-18       885876       121836.0       1638.0   \n",
       "3251   166582 2019-09-18       885890        66160.0       1118.0   \n",
       "3253   166582 2019-09-19       885876       109852.0       1252.0   \n",
       "3254   166582 2019-09-19       885890        65188.0       1179.0   \n",
       "3256   166582 2019-09-20       885876       116836.0       1331.0   \n",
       "3257   166582 2019-09-20       885890        64946.0       1207.0   \n",
       "3265   166582 2019-09-23       885876       104202.0       2186.0   \n",
       "3266   166582 2019-09-23       885890        59430.0       1145.0   \n",
       "3268   166582 2019-09-24       885876        62115.0       2325.0   \n",
       "3271   166582 2019-09-25       885876       145006.0       2039.0   \n",
       "3274   166582 2019-09-26       885876       137138.0       1603.0   \n",
       "3277   166582 2019-09-27       885876       116527.0       1487.0   \n",
       "3286   166582 2019-09-30       885876        94947.0       1723.0   \n",
       "3289   166582 2019-10-01       885876        89312.0       2767.0   \n",
       "3292   166582 2019-10-02       885876       122108.0       1570.0   \n",
       "3296   166582 2019-10-03       885876        95104.0        484.0   \n",
       "3300   166582 2019-10-04       885876        84057.0        449.0   \n",
       "3320   166582 2019-10-09       885876       120476.0       1007.0   \n",
       "3324   166582 2019-10-10       885876        90779.0        523.0   \n",
       "3352   166582 2019-10-17       885890        69508.0       1305.0   \n",
       "3356   166582 2019-10-18       885890        64445.0       1166.0   \n",
       "\n",
       "      total_call_duration  total_call_duration_h  call_duration_h  \n",
       "3167              87794.0              24.387222        19.000000  \n",
       "3185              89853.0              24.959167        17.705833  \n",
       "3191              96824.0              26.895556        19.018611  \n",
       "3202             126416.0              35.115556        25.401944  \n",
       "3205             132757.0              36.876944        24.641667  \n",
       "3208             126723.0              35.200833        26.126389  \n",
       "3211             135635.0              37.676389        30.918611  \n",
       "3214             114881.0              31.911389        24.871944  \n",
       "3223             160826.0              44.673889        34.033611  \n",
       "3226             122399.0              33.999722        22.565833  \n",
       "3229             149414.0              41.503889        32.139444  \n",
       "3230              92460.0              25.683333        18.011667  \n",
       "3232             153793.0              42.720278        35.198889  \n",
       "3233              98626.0              27.396111        20.297500  \n",
       "3235             127482.0              35.411667        27.748056  \n",
       "3236              93791.0              26.053056        17.971667  \n",
       "3244             103300.0              28.694444        20.175278  \n",
       "3247             150486.0              41.801667        28.100833  \n",
       "3250             159178.0              44.216111        33.843333  \n",
       "3251              93031.0              25.841944        18.377778  \n",
       "3253             137613.0              38.225833        30.514444  \n",
       "3254              94955.0              26.376389        18.107778  \n",
       "3256             147668.0              41.018889        32.454444  \n",
       "3257              95081.0              26.411389        18.040556  \n",
       "3265             153313.0              42.586944        28.945000  \n",
       "3266              87746.0              24.373889        16.508333  \n",
       "3268             116310.0              32.308333        17.254167  \n",
       "3271             189989.0              52.774722        40.279444  \n",
       "3274             172165.0              47.823611        38.093889  \n",
       "3277             149680.0              41.577778        32.368611  \n",
       "3286             132552.0              36.820000        26.374167  \n",
       "3289             150203.0              41.723056        24.808889  \n",
       "3292             155402.0              43.167222        33.918889  \n",
       "3296             105786.0              29.385000        26.417778  \n",
       "3300              94110.0              26.141667        23.349167  \n",
       "3320             141573.0              39.325833        33.465556  \n",
       "3324             101498.0              28.193889        25.216389  \n",
       "3352             101322.0              28.145000        19.307778  \n",
       "3356              94070.0              26.130556        17.901389  "
      ]
     },
     "execution_count": 43,
     "metadata": {},
     "output_type": "execute_result"
    }
   ],
   "source": [
    "group_td = telecom_dataset.pivot_table( \n",
    "    index = ['user_id', 'date', 'operator_id'], \n",
    "    values = ['call_duration', 'total_call_duration', 'calls_count'], \n",
    "    aggfunc = 'sum').reset_index()\n",
    "group_td['total_call_duration_h']  = group_td['total_call_duration']/60/60\n",
    "group_td['call_duration_h']  = group_td['call_duration']/60/60\n",
    "group_td = group_td.query('operator_id != 0')\n",
    "group_td[group_td['total_call_duration_h'] >24]"
   ]
  },
  {
   "cell_type": "markdown",
   "id": "09600c38",
   "metadata": {},
   "source": [
    "С клиентом 166582 произошел технический сбой и данные представлены некорректно. Пользователь будет удалён из данных."
   ]
  },
  {
   "cell_type": "code",
   "execution_count": 44,
   "id": "97a65ac4",
   "metadata": {
    "ExecuteTime": {
     "end_time": "2023-07-20T10:16:57.266648Z",
     "start_time": "2023-07-20T10:16:57.251687Z"
    }
   },
   "outputs": [
    {
     "data": {
      "text/plain": [
       "[166582]"
      ]
     },
     "execution_count": 44,
     "metadata": {},
     "output_type": "execute_result"
    }
   ],
   "source": [
    "more_24 = list(group_td[group_td['total_call_duration_h'] >24]['user_id'].unique())\n",
    "more_24"
   ]
  },
  {
   "cell_type": "code",
   "execution_count": 45,
   "id": "7b679915",
   "metadata": {
    "ExecuteTime": {
     "end_time": "2023-07-20T10:16:57.282605Z",
     "start_time": "2023-07-20T10:16:57.267646Z"
    }
   },
   "outputs": [],
   "source": [
    "telecom_dataset = telecom_dataset[~telecom_dataset['user_id'].isin(more_24)]"
   ]
  },
  {
   "cell_type": "code",
   "execution_count": 46,
   "id": "8c5dd657",
   "metadata": {
    "ExecuteTime": {
     "end_time": "2023-07-20T10:16:57.298563Z",
     "start_time": "2023-07-20T10:16:57.283603Z"
    }
   },
   "outputs": [],
   "source": [
    "telecom_clients = telecom_clients[~telecom_clients['user_id'].isin(more_24)]"
   ]
  },
  {
   "cell_type": "code",
   "execution_count": 47,
   "id": "06c6363f",
   "metadata": {
    "ExecuteTime": {
     "end_time": "2023-07-20T10:16:57.314519Z",
     "start_time": "2023-07-20T10:16:57.299559Z"
    }
   },
   "outputs": [],
   "source": [
    "group_td = group_td[group_td['user_id']!=166582]"
   ]
  },
  {
   "cell_type": "code",
   "execution_count": 48,
   "id": "2869c21d",
   "metadata": {
    "ExecuteTime": {
     "end_time": "2023-07-20T10:16:57.330514Z",
     "start_time": "2023-07-20T10:16:57.316514Z"
    }
   },
   "outputs": [
    {
     "data": {
      "text/plain": [
       "306"
      ]
     },
     "execution_count": 48,
     "metadata": {},
     "output_type": "execute_result"
    }
   ],
   "source": [
    "telecom_dataset['user_id'].nunique()"
   ]
  },
  {
   "cell_type": "markdown",
   "id": "4d2cd604",
   "metadata": {
    "ExecuteTime": {
     "end_time": "2023-05-31T14:28:39.861896Z",
     "start_time": "2023-05-31T14:28:39.858171Z"
    }
   },
   "source": [
    "#### Дубликаты в telecom_clients"
   ]
  },
  {
   "cell_type": "markdown",
   "id": "d841718b",
   "metadata": {},
   "source": [
    "Явные дубликаты отсутствуют."
   ]
  },
  {
   "cell_type": "code",
   "execution_count": 49,
   "id": "366257a1",
   "metadata": {
    "ExecuteTime": {
     "end_time": "2023-07-20T10:16:57.346435Z",
     "start_time": "2023-07-20T10:16:57.331476Z"
    }
   },
   "outputs": [
    {
     "data": {
      "text/plain": [
       "0"
      ]
     },
     "execution_count": 49,
     "metadata": {},
     "output_type": "execute_result"
    }
   ],
   "source": [
    "telecom_clients[['user_id', 'tariff_plan']].duplicated().sum()"
   ]
  },
  {
   "cell_type": "code",
   "execution_count": 50,
   "id": "8d50ad62",
   "metadata": {
    "ExecuteTime": {
     "end_time": "2023-07-20T10:16:57.361395Z",
     "start_time": "2023-07-20T10:16:57.347433Z"
    }
   },
   "outputs": [
    {
     "data": {
      "text/plain": [
       "0"
      ]
     },
     "execution_count": 50,
     "metadata": {},
     "output_type": "execute_result"
    }
   ],
   "source": [
    "telecom_clients[['user_id', 'date_start']].duplicated().sum()"
   ]
  },
  {
   "cell_type": "markdown",
   "id": "6a1028c3",
   "metadata": {},
   "source": [
    "### Нахождение и ликвидация аномалий."
   ]
  },
  {
   "cell_type": "markdown",
   "id": "374931ef",
   "metadata": {},
   "source": [
    "**telecom_dataset**:\n",
    "- `user_id` — идентификатор клиента;\n",
    "- `date` — дата статистики;\n",
    "- `direction` — направление вызовов: `out` — исходящий вызов, `in` — входящий;\n",
    "- `internal` — маркер внутренних и внешних вызовов;\n",
    "- `operator_id` — идентификатор оператора;\n",
    "- `is_missed_call` — маркер пропущенных вызовов;\n",
    "- `calls_count` — количество звонков;\n",
    "- `call_duration` - длительность **всех звонков** без учёта времени ожидания;\n",
    "- `total_call_duration` - длительность **всех звонков** с учётом времени ожидания."
   ]
  },
  {
   "cell_type": "markdown",
   "id": "533d6a72",
   "metadata": {
    "ExecuteTime": {
     "end_time": "2023-06-05T11:05:14.625837Z",
     "start_time": "2023-06-05T11:05:14.608884Z"
    }
   },
   "source": [
    "#### Поиск аномалий в calls_count"
   ]
  },
  {
   "cell_type": "code",
   "execution_count": 51,
   "id": "cd807740",
   "metadata": {
    "ExecuteTime": {
     "end_time": "2023-07-20T10:16:57.551921Z",
     "start_time": "2023-07-20T10:16:57.362393Z"
    },
    "scrolled": false
   },
   "outputs": [
    {
     "data": {
      "image/png": "[encoded data removed]",
      "text/plain": [
       "<Figure size 640x480 with 1 Axes>"
      ]
     },
     "metadata": {},
     "output_type": "display_data"
    }
   ],
   "source": [
    "sns.boxplot(data=group_td, y=\"calls_count\")\n",
    "sns.set_style(\"whitegrid\")\n",
    "plt.title('Количество звонков')\n",
    "plt.ylabel('Количество звонков')\n",
    "plt.show() "
   ]
  },
  {
   "cell_type": "code",
   "execution_count": 53,
   "id": "7d3835a1",
   "metadata": {
    "ExecuteTime": {
     "end_time": "2023-07-20T10:16:58.223092Z",
     "start_time": "2023-07-20T10:16:58.211124Z"
    }
   },
   "outputs": [
    {
     "data": {
      "text/plain": [
       "True    24\n",
       "Name: is_missed_call, dtype: int64"
      ]
     },
     "execution_count": 53,
     "metadata": {},
     "output_type": "execute_result"
    }
   ],
   "source": [
    "telecom_dataset[telecom_dataset['calls_count'] > 1000]['is_missed_call'].value_counts()"
   ]
  },
  {
   "cell_type": "code",
   "execution_count": 54,
   "id": "185071f1",
   "metadata": {
    "ExecuteTime": {
     "end_time": "2023-07-20T10:16:58.239049Z",
     "start_time": "2023-07-20T10:16:58.224089Z"
    }
   },
   "outputs": [
    {
     "data": {
      "text/html": [
       "<div>\n",
       "<style scoped>\n",
       "    .dataframe tbody tr th:only-of-type {\n",
       "        vertical-align: middle;\n",
       "    }\n",
       "\n",
       "    .dataframe tbody tr th {\n",
       "        vertical-align: top;\n",
       "    }\n",
       "\n",
       "    .dataframe thead th {\n",
       "        text-align: right;\n",
       "    }\n",
       "</style>\n",
       "<table border=\"1\" class=\"dataframe\">\n",
       "  <thead>\n",
       "    <tr style=\"text-align: right;\">\n",
       "      <th></th>\n",
       "      <th>user_id</th>\n",
       "      <th>date</th>\n",
       "      <th>operator_id</th>\n",
       "      <th>call_duration</th>\n",
       "      <th>calls_count</th>\n",
       "      <th>total_call_duration</th>\n",
       "      <th>total_call_duration_h</th>\n",
       "      <th>call_duration_h</th>\n",
       "    </tr>\n",
       "  </thead>\n",
       "  <tbody>\n",
       "    <tr>\n",
       "      <th>20427</th>\n",
       "      <td>167827</td>\n",
       "      <td>2019-10-31</td>\n",
       "      <td>929428</td>\n",
       "      <td>2644.0</td>\n",
       "      <td>2730.0</td>\n",
       "      <td>49759.0</td>\n",
       "      <td>13.821944</td>\n",
       "      <td>0.734444</td>\n",
       "    </tr>\n",
       "    <tr>\n",
       "      <th>20454</th>\n",
       "      <td>167827</td>\n",
       "      <td>2019-11-11</td>\n",
       "      <td>929428</td>\n",
       "      <td>9320.0</td>\n",
       "      <td>5022.0</td>\n",
       "      <td>18700.0</td>\n",
       "      <td>5.194444</td>\n",
       "      <td>2.588889</td>\n",
       "    </tr>\n",
       "  </tbody>\n",
       "</table>\n",
       "</div>"
      ],
      "text/plain": [
       "       user_id       date  operator_id  call_duration  calls_count  \\\n",
       "20427   167827 2019-10-31       929428         2644.0       2730.0   \n",
       "20454   167827 2019-11-11       929428         9320.0       5022.0   \n",
       "\n",
       "       total_call_duration  total_call_duration_h  call_duration_h  \n",
       "20427              49759.0              13.821944         0.734444  \n",
       "20454              18700.0               5.194444         2.588889  "
      ]
     },
     "execution_count": 54,
     "metadata": {},
     "output_type": "execute_result"
    }
   ],
   "source": [
    "group_td[group_td['calls_count'] > 2000]"
   ]
  },
  {
   "cell_type": "code",
   "execution_count": 55,
   "id": "e71be6cc",
   "metadata": {
    "ExecuteTime": {
     "end_time": "2023-07-20T10:16:58.254009Z",
     "start_time": "2023-07-20T10:16:58.240046Z"
    }
   },
   "outputs": [
    {
     "data": {
      "text/html": [
       "<div>\n",
       "<style scoped>\n",
       "    .dataframe tbody tr th:only-of-type {\n",
       "        vertical-align: middle;\n",
       "    }\n",
       "\n",
       "    .dataframe tbody tr th {\n",
       "        vertical-align: top;\n",
       "    }\n",
       "\n",
       "    .dataframe thead th {\n",
       "        text-align: right;\n",
       "    }\n",
       "</style>\n",
       "<table border=\"1\" class=\"dataframe\">\n",
       "  <thead>\n",
       "    <tr style=\"text-align: right;\">\n",
       "      <th></th>\n",
       "      <th>user_id</th>\n",
       "      <th>date</th>\n",
       "      <th>direction</th>\n",
       "      <th>internal</th>\n",
       "      <th>operator_id</th>\n",
       "      <th>is_missed_call</th>\n",
       "      <th>calls_count</th>\n",
       "      <th>call_duration</th>\n",
       "      <th>total_call_duration</th>\n",
       "    </tr>\n",
       "  </thead>\n",
       "  <tbody>\n",
       "    <tr>\n",
       "      <th>36979</th>\n",
       "      <td>167827</td>\n",
       "      <td>2019-11-11</td>\n",
       "      <td>out</td>\n",
       "      <td>False</td>\n",
       "      <td>929428</td>\n",
       "      <td>False</td>\n",
       "      <td>205.0</td>\n",
       "      <td>9320.0</td>\n",
       "      <td>13171.0</td>\n",
       "    </tr>\n",
       "    <tr>\n",
       "      <th>36981</th>\n",
       "      <td>167827</td>\n",
       "      <td>2019-11-11</td>\n",
       "      <td>out</td>\n",
       "      <td>False</td>\n",
       "      <td>929428</td>\n",
       "      <td>True</td>\n",
       "      <td>4817.0</td>\n",
       "      <td>0.0</td>\n",
       "      <td>5529.0</td>\n",
       "    </tr>\n",
       "  </tbody>\n",
       "</table>\n",
       "</div>"
      ],
      "text/plain": [
       "       user_id       date direction internal  operator_id is_missed_call  \\\n",
       "36979   167827 2019-11-11       out    False       929428          False   \n",
       "36981   167827 2019-11-11       out    False       929428           True   \n",
       "\n",
       "       calls_count  call_duration  total_call_duration  \n",
       "36979        205.0         9320.0              13171.0  \n",
       "36981       4817.0            0.0               5529.0  "
      ]
     },
     "execution_count": 55,
     "metadata": {},
     "output_type": "execute_result"
    }
   ],
   "source": [
    "telecom_dataset[(telecom_dataset['operator_id'] == 929428) \n",
    "                & (telecom_dataset['date'] == '2019-11-11')]"
   ]
  },
  {
   "cell_type": "markdown",
   "id": "b602d33b",
   "metadata": {},
   "source": [
    "Оператор 929428 2019-11-11 производил обзвон клиентов. 4817 клиентов не ответили на его звонок.\n",
    "Оператор 929428 отработал 13 часов и совершил 2730 звонков. \n",
    "\n",
    "Аномальных значений не наблюдается. Далее изучим аномалии по длительности звонков."
   ]
  },
  {
   "cell_type": "markdown",
   "id": "ff30c6c4",
   "metadata": {},
   "source": [
    "#### Поиск аномалий в total_call_duration"
   ]
  },
  {
   "cell_type": "code",
   "execution_count": 57,
   "id": "92f1951d",
   "metadata": {
    "ExecuteTime": {
     "end_time": "2023-07-20T10:16:58.456467Z",
     "start_time": "2023-07-20T10:16:58.348755Z"
    }
   },
   "outputs": [
    {
     "data": {
      "image/png": "[encoded data removed]",
      "text/plain": [
       "<Figure size 640x480 with 1 Axes>"
      ]
     },
     "metadata": {},
     "output_type": "display_data"
    }
   ],
   "source": [
    "sns.boxplot( y=\"total_call_duration_h\", data=group_td)\n",
    "sns.set_style(\"whitegrid\")\n",
    "plt.title('Длительность всех звонков с учётом времени ожидания.')\n",
    "plt.ylabel(\"Длительность, час\")\n",
    "plt.show()"
   ]
  },
  {
   "cell_type": "markdown",
   "id": "22a220a0",
   "metadata": {},
   "source": [
    "Изучим случаи, когда время работы оператора за день превышает 12 часов."
   ]
  },
  {
   "cell_type": "code",
   "execution_count": 58,
   "id": "6d47764e",
   "metadata": {
    "ExecuteTime": {
     "end_time": "2023-07-20T10:16:58.472424Z",
     "start_time": "2023-07-20T10:16:58.457464Z"
    }
   },
   "outputs": [
    {
     "data": {
      "text/html": [
       "<div>\n",
       "<style scoped>\n",
       "    .dataframe tbody tr th:only-of-type {\n",
       "        vertical-align: middle;\n",
       "    }\n",
       "\n",
       "    .dataframe tbody tr th {\n",
       "        vertical-align: top;\n",
       "    }\n",
       "\n",
       "    .dataframe thead th {\n",
       "        text-align: right;\n",
       "    }\n",
       "</style>\n",
       "<table border=\"1\" class=\"dataframe\">\n",
       "  <thead>\n",
       "    <tr style=\"text-align: right;\">\n",
       "      <th></th>\n",
       "      <th>index</th>\n",
       "      <th>user_id</th>\n",
       "      <th>date</th>\n",
       "      <th>operator_id</th>\n",
       "      <th>call_duration</th>\n",
       "      <th>calls_count</th>\n",
       "      <th>total_call_duration</th>\n",
       "      <th>total_call_duration_h</th>\n",
       "      <th>call_duration_h</th>\n",
       "    </tr>\n",
       "  </thead>\n",
       "  <tbody>\n",
       "    <tr>\n",
       "      <th>0</th>\n",
       "      <td>15220</td>\n",
       "      <td>167285</td>\n",
       "      <td>2019-10-23</td>\n",
       "      <td>908640</td>\n",
       "      <td>25142.0</td>\n",
       "      <td>1602.0</td>\n",
       "      <td>43595.0</td>\n",
       "      <td>12.109722</td>\n",
       "      <td>6.983889</td>\n",
       "    </tr>\n",
       "    <tr>\n",
       "      <th>1</th>\n",
       "      <td>20431</td>\n",
       "      <td>167827</td>\n",
       "      <td>2019-11-01</td>\n",
       "      <td>929428</td>\n",
       "      <td>14584.0</td>\n",
       "      <td>1802.0</td>\n",
       "      <td>47098.0</td>\n",
       "      <td>13.082778</td>\n",
       "      <td>4.051111</td>\n",
       "    </tr>\n",
       "    <tr>\n",
       "      <th>2</th>\n",
       "      <td>15218</td>\n",
       "      <td>167285</td>\n",
       "      <td>2019-10-22</td>\n",
       "      <td>908640</td>\n",
       "      <td>26994.0</td>\n",
       "      <td>1748.0</td>\n",
       "      <td>49666.0</td>\n",
       "      <td>13.796111</td>\n",
       "      <td>7.498333</td>\n",
       "    </tr>\n",
       "    <tr>\n",
       "      <th>3</th>\n",
       "      <td>20427</td>\n",
       "      <td>167827</td>\n",
       "      <td>2019-10-31</td>\n",
       "      <td>929428</td>\n",
       "      <td>2644.0</td>\n",
       "      <td>2730.0</td>\n",
       "      <td>49759.0</td>\n",
       "      <td>13.821944</td>\n",
       "      <td>0.734444</td>\n",
       "    </tr>\n",
       "    <tr>\n",
       "      <th>4</th>\n",
       "      <td>25791</td>\n",
       "      <td>168361</td>\n",
       "      <td>2019-11-04</td>\n",
       "      <td>945278</td>\n",
       "      <td>11553.0</td>\n",
       "      <td>227.0</td>\n",
       "      <td>61611.0</td>\n",
       "      <td>17.114167</td>\n",
       "      <td>3.209167</td>\n",
       "    </tr>\n",
       "    <tr>\n",
       "      <th>5</th>\n",
       "      <td>20352</td>\n",
       "      <td>167827</td>\n",
       "      <td>2019-10-10</td>\n",
       "      <td>929424</td>\n",
       "      <td>41603.0</td>\n",
       "      <td>1491.0</td>\n",
       "      <td>63253.0</td>\n",
       "      <td>17.570278</td>\n",
       "      <td>11.556389</td>\n",
       "    </tr>\n",
       "  </tbody>\n",
       "</table>\n",
       "</div>"
      ],
      "text/plain": [
       "   index  user_id       date  operator_id  call_duration  calls_count  \\\n",
       "0  15220   167285 2019-10-23       908640        25142.0       1602.0   \n",
       "1  20431   167827 2019-11-01       929428        14584.0       1802.0   \n",
       "2  15218   167285 2019-10-22       908640        26994.0       1748.0   \n",
       "3  20427   167827 2019-10-31       929428         2644.0       2730.0   \n",
       "4  25791   168361 2019-11-04       945278        11553.0        227.0   \n",
       "5  20352   167827 2019-10-10       929424        41603.0       1491.0   \n",
       "\n",
       "   total_call_duration  total_call_duration_h  call_duration_h  \n",
       "0              43595.0              12.109722         6.983889  \n",
       "1              47098.0              13.082778         4.051111  \n",
       "2              49666.0              13.796111         7.498333  \n",
       "3              49759.0              13.821944         0.734444  \n",
       "4              61611.0              17.114167         3.209167  \n",
       "5              63253.0              17.570278        11.556389  "
      ]
     },
     "execution_count": 58,
     "metadata": {},
     "output_type": "execute_result"
    }
   ],
   "source": [
    "more_12  = group_td[group_td['total_call_duration_h'] > 12].sort_values(by='total_call_duration_h').reset_index()\n",
    "more_12"
   ]
  },
  {
   "cell_type": "markdown",
   "id": "bb287382",
   "metadata": {},
   "source": [
    "Всего 6 случаев, когда операторы работали более 12 часов в сутки, при этом они совершали более тысячи звонков. 2 раза операторы работали более 17 часов в сутки, что можно считать аномальными значениями. Однако их доля несуществена. поэтому оставляем."
   ]
  },
  {
   "cell_type": "markdown",
   "id": "25aa3373",
   "metadata": {},
   "source": [
    "## Часть 2. Исследовательская часть:"
   ]
  },
  {
   "cell_type": "markdown",
   "id": "d36bb5b7",
   "metadata": {},
   "source": [
    "### Определение активных клиентов."
   ]
  },
  {
   "cell_type": "markdown",
   "id": "6725d330",
   "metadata": {},
   "source": [
    "Требуется выделить категорию активных клиентов. Деление на активны и неактивных может рассматриваться с нескольких сторон:\n",
    "* по времени разговора\n",
    "* по количеству звонков \n",
    "\n",
    "В рамках нашего исследования будем определять клиентов по времени звонком с учётом ожидания."
   ]
  },
  {
   "cell_type": "code",
   "execution_count": 59,
   "id": "98bc19c9",
   "metadata": {
    "ExecuteTime": {
     "end_time": "2023-07-20T10:16:58.503343Z",
     "start_time": "2023-07-20T10:16:58.473422Z"
    }
   },
   "outputs": [
    {
     "name": "stdout",
     "output_type": "stream",
     "text": [
      "<class 'pandas.core.frame.DataFrame'>\n",
      "Int64Index: 48114 entries, 0 to 48833\n",
      "Data columns (total 9 columns):\n",
      " #   Column               Non-Null Count  Dtype         \n",
      "---  ------               --------------  -----         \n",
      " 0   user_id              48114 non-null  int64         \n",
      " 1   date                 48114 non-null  datetime64[ns]\n",
      " 2   direction            48114 non-null  object        \n",
      " 3   internal             48114 non-null  object        \n",
      " 4   operator_id          48114 non-null  int64         \n",
      " 5   is_missed_call       48114 non-null  object        \n",
      " 6   calls_count          48114 non-null  float64       \n",
      " 7   call_duration        48114 non-null  float64       \n",
      " 8   total_call_duration  48114 non-null  float64       \n",
      "dtypes: datetime64[ns](1), float64(3), int64(2), object(3)\n",
      "memory usage: 3.7+ MB\n"
     ]
    }
   ],
   "source": [
    "telecom_dataset.info()"
   ]
  },
  {
   "cell_type": "code",
   "execution_count": 60,
   "id": "4fa2736d",
   "metadata": {
    "ExecuteTime": {
     "end_time": "2023-07-20T10:16:58.519300Z",
     "start_time": "2023-07-20T10:16:58.504339Z"
    }
   },
   "outputs": [],
   "source": [
    "without_missed = telecom_dataset.loc[~((telecom_dataset['direction'] == \"in\") \n",
    "                                    & (telecom_dataset['internal'] == False) \n",
    "                                    & (telecom_dataset['is_missed_call'] == True))]"
   ]
  },
  {
   "cell_type": "code",
   "execution_count": 61,
   "id": "3e958e13",
   "metadata": {
    "ExecuteTime": {
     "end_time": "2023-07-20T10:16:58.535258Z",
     "start_time": "2023-07-20T10:16:58.520297Z"
    }
   },
   "outputs": [
    {
     "data": {
      "text/plain": [
       "306"
      ]
     },
     "execution_count": 61,
     "metadata": {},
     "output_type": "execute_result"
    }
   ],
   "source": [
    "# выделяем user_id всех клиентов\n",
    "user_id_all = list(telecom_dataset['user_id'].unique())\n",
    "len(user_id_all)"
   ]
  },
  {
   "cell_type": "code",
   "execution_count": 62,
   "id": "d6e82ca6",
   "metadata": {
    "ExecuteTime": {
     "end_time": "2023-07-20T10:16:58.550217Z",
     "start_time": "2023-07-20T10:16:58.536255Z"
    }
   },
   "outputs": [
    {
     "data": {
      "text/plain": [
       "290"
      ]
     },
     "execution_count": 62,
     "metadata": {},
     "output_type": "execute_result"
    }
   ],
   "source": [
    "without_missed['user_id'].nunique()"
   ]
  },
  {
   "cell_type": "code",
   "execution_count": 63,
   "id": "3298c4f1",
   "metadata": {
    "ExecuteTime": {
     "end_time": "2023-07-20T10:16:58.565177Z",
     "start_time": "2023-07-20T10:16:58.551214Z"
    }
   },
   "outputs": [
    {
     "data": {
      "text/plain": [
       "16"
      ]
     },
     "execution_count": 63,
     "metadata": {},
     "output_type": "execute_result"
    }
   ],
   "source": [
    "error_user_id = list(set(user_id_all) - set(without_missed['user_id']))\n",
    "len(error_user_id)"
   ]
  },
  {
   "cell_type": "markdown",
   "id": "5e8ad810",
   "metadata": {},
   "source": [
    "В ходе исследования выяснилось, что 16 клиентов пользуются услугами компании. Однако у них только внешние непринятые пропущенные вызовы. Данный момент требует дополнительного уточнения. Т.к звонки 16  клиентов не доходят до операторов.\n"
   ]
  },
  {
   "cell_type": "code",
   "execution_count": 64,
   "id": "3894a81c",
   "metadata": {
    "ExecuteTime": {
     "end_time": "2023-07-20T10:16:58.597092Z",
     "start_time": "2023-07-20T10:16:58.566173Z"
    }
   },
   "outputs": [
    {
     "data": {
      "text/html": [
       "<div>\n",
       "<style scoped>\n",
       "    .dataframe tbody tr th:only-of-type {\n",
       "        vertical-align: middle;\n",
       "    }\n",
       "\n",
       "    .dataframe tbody tr th {\n",
       "        vertical-align: top;\n",
       "    }\n",
       "\n",
       "    .dataframe thead th {\n",
       "        text-align: right;\n",
       "    }\n",
       "</style>\n",
       "<table border=\"1\" class=\"dataframe\">\n",
       "  <thead>\n",
       "    <tr style=\"text-align: right;\">\n",
       "      <th></th>\n",
       "      <th>user_id</th>\n",
       "      <th>date</th>\n",
       "      <th>direction</th>\n",
       "      <th>internal</th>\n",
       "      <th>operator_id</th>\n",
       "      <th>is_missed_call</th>\n",
       "      <th>calls_count</th>\n",
       "      <th>call_duration</th>\n",
       "      <th>total_call_duration</th>\n",
       "      <th>month</th>\n",
       "    </tr>\n",
       "  </thead>\n",
       "  <tbody>\n",
       "    <tr>\n",
       "      <th>0</th>\n",
       "      <td>166377</td>\n",
       "      <td>2019-08-04</td>\n",
       "      <td>in</td>\n",
       "      <td>False</td>\n",
       "      <td>0</td>\n",
       "      <td>True</td>\n",
       "      <td>2.0</td>\n",
       "      <td>0.0</td>\n",
       "      <td>4.0</td>\n",
       "      <td>8</td>\n",
       "    </tr>\n",
       "    <tr>\n",
       "      <th>1</th>\n",
       "      <td>166377</td>\n",
       "      <td>2019-08-05</td>\n",
       "      <td>out</td>\n",
       "      <td>True</td>\n",
       "      <td>880022</td>\n",
       "      <td>True</td>\n",
       "      <td>3.0</td>\n",
       "      <td>0.0</td>\n",
       "      <td>5.0</td>\n",
       "      <td>8</td>\n",
       "    </tr>\n",
       "    <tr>\n",
       "      <th>2</th>\n",
       "      <td>166377</td>\n",
       "      <td>2019-08-05</td>\n",
       "      <td>out</td>\n",
       "      <td>True</td>\n",
       "      <td>880020</td>\n",
       "      <td>True</td>\n",
       "      <td>1.0</td>\n",
       "      <td>0.0</td>\n",
       "      <td>1.0</td>\n",
       "      <td>8</td>\n",
       "    </tr>\n",
       "    <tr>\n",
       "      <th>3</th>\n",
       "      <td>166377</td>\n",
       "      <td>2019-08-05</td>\n",
       "      <td>out</td>\n",
       "      <td>True</td>\n",
       "      <td>880020</td>\n",
       "      <td>False</td>\n",
       "      <td>1.0</td>\n",
       "      <td>10.0</td>\n",
       "      <td>18.0</td>\n",
       "      <td>8</td>\n",
       "    </tr>\n",
       "    <tr>\n",
       "      <th>4</th>\n",
       "      <td>166377</td>\n",
       "      <td>2019-08-05</td>\n",
       "      <td>out</td>\n",
       "      <td>False</td>\n",
       "      <td>880022</td>\n",
       "      <td>True</td>\n",
       "      <td>3.0</td>\n",
       "      <td>0.0</td>\n",
       "      <td>25.0</td>\n",
       "      <td>8</td>\n",
       "    </tr>\n",
       "  </tbody>\n",
       "</table>\n",
       "</div>"
      ],
      "text/plain": [
       "   user_id       date direction internal  operator_id is_missed_call  \\\n",
       "0   166377 2019-08-04        in    False            0           True   \n",
       "1   166377 2019-08-05       out     True       880022           True   \n",
       "2   166377 2019-08-05       out     True       880020           True   \n",
       "3   166377 2019-08-05       out     True       880020          False   \n",
       "4   166377 2019-08-05       out    False       880022           True   \n",
       "\n",
       "   calls_count  call_duration  total_call_duration  month  \n",
       "0          2.0            0.0                  4.0      8  \n",
       "1          3.0            0.0                  5.0      8  \n",
       "2          1.0            0.0                  1.0      8  \n",
       "3          1.0           10.0                 18.0      8  \n",
       "4          3.0            0.0                 25.0      8  "
      ]
     },
     "execution_count": 64,
     "metadata": {},
     "output_type": "execute_result"
    }
   ],
   "source": [
    "telecom_dataset\n",
    "telecom_dataset['month'] = telecom_dataset['date'].dt.month\n",
    "telecom_dataset.head()"
   ]
  },
  {
   "cell_type": "code",
   "execution_count": 65,
   "id": "492e68de",
   "metadata": {
    "ExecuteTime": {
     "end_time": "2023-07-20T10:16:58.627013Z",
     "start_time": "2023-07-20T10:16:58.598088Z"
    }
   },
   "outputs": [],
   "source": [
    "group_df = telecom_dataset.pivot_table(\n",
    "    index = ['user_id', 'month'], \n",
    "    values=[ \"calls_count\", 'call_duration', \"total_call_duration\"],\n",
    "               aggfunc={ \n",
    "                        \"calls_count\": np.sum,\n",
    "                        \"call_duration\": np.sum,\n",
    "                        \"total_call_duration\": np.sum}).reset_index()\n",
    "group_df['total_call_duration_m'] = group_df['total_call_duration'].map(lambda x: np.ceil(x/60))"
   ]
  },
  {
   "cell_type": "code",
   "execution_count": 66,
   "id": "00381975",
   "metadata": {
    "ExecuteTime": {
     "end_time": "2023-07-20T10:16:58.641972Z",
     "start_time": "2023-07-20T10:16:58.629006Z"
    },
    "scrolled": true
   },
   "outputs": [
    {
     "data": {
      "text/html": [
       "<div>\n",
       "<style scoped>\n",
       "    .dataframe tbody tr th:only-of-type {\n",
       "        vertical-align: middle;\n",
       "    }\n",
       "\n",
       "    .dataframe tbody tr th {\n",
       "        vertical-align: top;\n",
       "    }\n",
       "\n",
       "    .dataframe thead th {\n",
       "        text-align: right;\n",
       "    }\n",
       "</style>\n",
       "<table border=\"1\" class=\"dataframe\">\n",
       "  <thead>\n",
       "    <tr style=\"text-align: right;\">\n",
       "      <th></th>\n",
       "      <th>user_id</th>\n",
       "      <th>month</th>\n",
       "      <th>call_duration</th>\n",
       "      <th>calls_count</th>\n",
       "      <th>total_call_duration</th>\n",
       "      <th>total_call_duration_m</th>\n",
       "    </tr>\n",
       "  </thead>\n",
       "  <tbody>\n",
       "    <tr>\n",
       "      <th>0</th>\n",
       "      <td>166377</td>\n",
       "      <td>8</td>\n",
       "      <td>66274.0</td>\n",
       "      <td>977.0</td>\n",
       "      <td>79999.0</td>\n",
       "      <td>1334.0</td>\n",
       "    </tr>\n",
       "    <tr>\n",
       "      <th>1</th>\n",
       "      <td>166377</td>\n",
       "      <td>9</td>\n",
       "      <td>87074.0</td>\n",
       "      <td>1452.0</td>\n",
       "      <td>107813.0</td>\n",
       "      <td>1797.0</td>\n",
       "    </tr>\n",
       "    <tr>\n",
       "      <th>2</th>\n",
       "      <td>166377</td>\n",
       "      <td>10</td>\n",
       "      <td>83758.0</td>\n",
       "      <td>1406.0</td>\n",
       "      <td>101952.0</td>\n",
       "      <td>1700.0</td>\n",
       "    </tr>\n",
       "    <tr>\n",
       "      <th>3</th>\n",
       "      <td>166377</td>\n",
       "      <td>11</td>\n",
       "      <td>80881.0</td>\n",
       "      <td>1314.0</td>\n",
       "      <td>98457.0</td>\n",
       "      <td>1641.0</td>\n",
       "    </tr>\n",
       "    <tr>\n",
       "      <th>4</th>\n",
       "      <td>166391</td>\n",
       "      <td>8</td>\n",
       "      <td>243.0</td>\n",
       "      <td>18.0</td>\n",
       "      <td>806.0</td>\n",
       "      <td>14.0</td>\n",
       "    </tr>\n",
       "  </tbody>\n",
       "</table>\n",
       "</div>"
      ],
      "text/plain": [
       "   user_id  month  call_duration  calls_count  total_call_duration  \\\n",
       "0   166377      8        66274.0        977.0              79999.0   \n",
       "1   166377      9        87074.0       1452.0             107813.0   \n",
       "2   166377     10        83758.0       1406.0             101952.0   \n",
       "3   166377     11        80881.0       1314.0              98457.0   \n",
       "4   166391      8          243.0         18.0                806.0   \n",
       "\n",
       "   total_call_duration_m  \n",
       "0                 1334.0  \n",
       "1                 1797.0  \n",
       "2                 1700.0  \n",
       "3                 1641.0  \n",
       "4                   14.0  "
      ]
     },
     "execution_count": 66,
     "metadata": {},
     "output_type": "execute_result"
    }
   ],
   "source": [
    "group_df.head()"
   ]
  },
  {
   "cell_type": "code",
   "execution_count": 68,
   "id": "4204eb90",
   "metadata": {
    "ExecuteTime": {
     "end_time": "2023-07-20T10:16:58.845428Z",
     "start_time": "2023-07-20T10:16:58.690842Z"
    }
   },
   "outputs": [
    {
     "data": {
      "image/png": "[encoded data removed]",
      "text/plain": [
       "<Figure size 1000x600 with 1 Axes>"
      ]
     },
     "metadata": {},
     "output_type": "display_data"
    }
   ],
   "source": [
    "plt.subplots(figsize=(10, 6))\n",
    "sns.boxplot(data=group_df, x=\"month\", y=\"total_call_duration_m\")\n",
    "sns.set_style(\"whitegrid\")\n",
    "plt.title(\"Длительность всех звонков с учётом времени ожидания\")\n",
    "plt.xlabel(\"Месяц\")\n",
    "plt.ylabel(\"Длительность, мин\")\n",
    "plt.show()"
   ]
  },
  {
   "cell_type": "code",
   "execution_count": 70,
   "id": "de3bce60",
   "metadata": {
    "ExecuteTime": {
     "end_time": "2023-07-20T10:16:59.110718Z",
     "start_time": "2023-07-20T10:16:58.925214Z"
    }
   },
   "outputs": [
    {
     "data": {
      "image/png": "[encoded data removed]",
      "text/plain": [
       "<Figure size 1000x600 with 1 Axes>"
      ]
     },
     "metadata": {},
     "output_type": "display_data"
    }
   ],
   "source": [
    "plt.subplots(figsize=(10, 6))\n",
    "sns.boxplot(data=group_df, x=\"month\", y=\"total_call_duration_m\")\n",
    "\n",
    "plt.title(\"Длительность всех звонков с учётом времени ожидания\")\n",
    "plt.xlabel(\"Месяц\")\n",
    "plt.ylabel(\"Длительность, мин\")\n",
    "plt.ylim(0, 2000)\n",
    "plt.show()"
   ]
  },
  {
   "cell_type": "code",
   "execution_count": 72,
   "id": "2f8d9fbb",
   "metadata": {
    "ExecuteTime": {
     "end_time": "2023-07-20T10:16:59.427871Z",
     "start_time": "2023-07-20T10:16:59.174547Z"
    }
   },
   "outputs": [
    {
     "data": {
      "image/png": "[encoded data removed]",
      "text/plain": [
       "<Figure size 1000x600 with 1 Axes>"
      ]
     },
     "metadata": {},
     "output_type": "display_data"
    }
   ],
   "source": [
    "plt.subplots(figsize=(10, 6))\n",
    "sns.boxplot(x=\"month\", y=\"calls_count\", data=group_df)\n",
    "plt.title(\"Количество звонков у клиентов по месяцам\")\n",
    "plt.xlabel(\"Месяц\")\n",
    "plt.ylabel('Количество звонков')\n",
    "plt.show()"
   ]
  },
  {
   "cell_type": "code",
   "execution_count": 129,
   "id": "f3227381",
   "metadata": {
    "ExecuteTime": {
     "end_time": "2023-07-20T10:21:45.560628Z",
     "start_time": "2023-07-20T10:21:45.324388Z"
    }
   },
   "outputs": [
    {
     "data": {
      "image/png": "[encoded data removed]",
      "text/plain": [
       "<Figure size 1000x600 with 1 Axes>"
      ]
     },
     "metadata": {},
     "output_type": "display_data"
    }
   ],
   "source": [
    "sns.set_style(\"whitegrid\")\n",
    "fig, ax = plt.subplots(figsize=(10, 6))\n",
    "sns.boxplot(x=\"month\", y=\"calls_count\", data=group_df, ax=ax)\n",
    "ax.set_title('Количество звонков у клиентов по месяцам')\n",
    "ax.set_xlabel('Месяц')\n",
    "ax.set_ylabel('Количество звонков')\n",
    "plt.ylim(0, 2000)\n",
    "plt.show()"
   ]
  },
  {
   "cell_type": "code",
   "execution_count": 75,
   "id": "8d0abde8",
   "metadata": {
    "ExecuteTime": {
     "end_time": "2023-07-20T10:16:59.912576Z",
     "start_time": "2023-07-20T10:16:59.695156Z"
    }
   },
   "outputs": [
    {
     "data": {
      "image/png": "[encoded data removed]",
      "text/plain": [
       "<Figure size 1000x600 with 1 Axes>"
      ]
     },
     "metadata": {},
     "output_type": "display_data"
    }
   ],
   "source": [
    "plt.subplots(figsize = (10, 6))\n",
    "sns.set_style(\"whitegrid\")\n",
    "sns.boxplot(data = group_df, x=\"month\", y=\"calls_count\")\n",
    "plt.title('Количество звонков у клиентов по месяцам')\n",
    "plt.ylabel('Количество звонков')\n",
    "plt.xlabel('Месяц')\n",
    "plt.ylim(0, 2000)\n",
    "plt.show()"
   ]
  },
  {
   "cell_type": "markdown",
   "id": "b572009c",
   "metadata": {},
   "source": [
    "Компании только начинают пользоваться услугами нашей компании. Поэтому с каждым месяцем увеличивается время разговоров операторов, а также количество звонков. Поэтому активными будем считать клиентов, которые пользуются количеством минут более, чем 50 перцентиль по каждому месяцу. Далее данный показатель, возможно, потребует доработки, т к будет больше данных о потребностях компаний. "
   ]
  },
  {
   "cell_type": "code",
   "execution_count": 76,
   "id": "86151118",
   "metadata": {
    "ExecuteTime": {
     "end_time": "2023-07-20T10:16:59.928533Z",
     "start_time": "2023-07-20T10:16:59.914569Z"
    }
   },
   "outputs": [],
   "source": [
    "first_month = 9\n",
    "second_month = 10 \n",
    "third_month = 11"
   ]
  },
  {
   "cell_type": "code",
   "execution_count": 77,
   "id": "9de7a206",
   "metadata": {
    "ExecuteTime": {
     "end_time": "2023-07-20T10:16:59.944490Z",
     "start_time": "2023-07-20T10:16:59.929530Z"
    }
   },
   "outputs": [
    {
     "data": {
      "text/plain": [
       "[60.0, 59.5, 102.5]"
      ]
     },
     "execution_count": 77,
     "metadata": {},
     "output_type": "execute_result"
    }
   ],
   "source": [
    "condition = []\n",
    "for i in range(first_month, third_month+1):\n",
    "    condition.append(group_df[group_df['month'] == i]['total_call_duration_m'].quantile(.50))\n",
    "condition "
   ]
  },
  {
   "cell_type": "code",
   "execution_count": 78,
   "id": "8daf45bf",
   "metadata": {
    "ExecuteTime": {
     "end_time": "2023-07-20T10:16:59.960449Z",
     "start_time": "2023-07-20T10:16:59.946486Z"
    }
   },
   "outputs": [
    {
     "data": {
      "text/plain": [
       "57"
      ]
     },
     "execution_count": 78,
     "metadata": {},
     "output_type": "execute_result"
    }
   ],
   "source": [
    "# формируем список id активных пользователей\n",
    "active_user_id_1 = list(group_df[((group_df['total_call_duration_m'] >= condition[0]) \n",
    "                                  & (group_df['month'] == first_month))]['user_id'].unique())\n",
    "active_user_id_2 = list(group_df[((group_df['total_call_duration_m'] >= condition[1]) \n",
    "                                  & (group_df['month'] == second_month))]['user_id'].unique())\n",
    "active_user_id_3 = list(group_df[((group_df['total_call_duration_m'] >= condition[2]) \n",
    "                                  & (group_df['month'] == third_month))]['user_id'].unique())\n",
    "active_user_id = list(set(active_user_id_1) & set(active_user_id_2) & set(active_user_id_3))\n",
    "len(active_user_id)"
   ]
  },
  {
   "cell_type": "code",
   "execution_count": 79,
   "id": "5ce2e546",
   "metadata": {
    "ExecuteTime": {
     "end_time": "2023-07-20T10:16:59.976406Z",
     "start_time": "2023-07-20T10:16:59.961445Z"
    }
   },
   "outputs": [
    {
     "data": {
      "text/plain": [
       "249"
      ]
     },
     "execution_count": 79,
     "metadata": {},
     "output_type": "execute_result"
    }
   ],
   "source": [
    "#определяем пассивных пользователей\n",
    "passive_user_id = list(set(user_id_all) - set(active_user_id))\n",
    "len(passive_user_id)"
   ]
  },
  {
   "cell_type": "markdown",
   "id": "2d9d657c",
   "metadata": {},
   "source": [
    "### Проверка гипотезы \"Активные клиенты говорят больше, чем неактивные\"."
   ]
  },
  {
   "cell_type": "markdown",
   "id": "2a2e61ed",
   "metadata": {},
   "source": [
    "Гипотеза 1\n",
    "\n",
    "Н0 \"Активные и неактивные пользователи говорят в среднем одинаково\"\n",
    "\n",
    "Н1 \"Время разговора у активных пользователей отличается от времени разговора неактивных клиентов\""
   ]
  },
  {
   "cell_type": "markdown",
   "id": "9ae8322c",
   "metadata": {
    "ExecuteTime": {
     "end_time": "2023-06-07T15:00:13.739746Z",
     "start_time": "2023-06-07T15:00:13.739746Z"
    }
   },
   "source": [
    "Подготовим данные по активным и неактивным пользователям. \n",
    "Т.к. t-тест сильно зависим от выбросов, то оставим данные по 95 процентилю."
   ]
  },
  {
   "cell_type": "code",
   "execution_count": 80,
   "id": "36e42b10",
   "metadata": {
    "ExecuteTime": {
     "end_time": "2023-07-20T10:16:59.992362Z",
     "start_time": "2023-07-20T10:16:59.977401Z"
    }
   },
   "outputs": [
    {
     "data": {
      "text/plain": [
       "68544.22959183673"
      ]
     },
     "execution_count": 80,
     "metadata": {},
     "output_type": "execute_result"
    }
   ],
   "source": [
    "upper_bound = group_df[group_df['user_id'].isin(active_user_id)]['total_call_duration'].quantile(q=0.975)\n",
    "duration_active = group_df[(\n",
    "    group_df['user_id'].isin(active_user_id) & (group_df['total_call_duration'] <=upper_bound))]['total_call_duration']\n",
    "duration_active.mean()"
   ]
  },
  {
   "cell_type": "code",
   "execution_count": 81,
   "id": "095ebc1a",
   "metadata": {
    "ExecuteTime": {
     "end_time": "2023-07-20T10:17:00.023281Z",
     "start_time": "2023-07-20T10:17:00.000340Z"
    }
   },
   "outputs": [
    {
     "data": {
      "text/plain": [
       "16722.484265734267"
      ]
     },
     "execution_count": 81,
     "metadata": {},
     "output_type": "execute_result"
    }
   ],
   "source": [
    "upper_bound_p = group_df[group_df['user_id'].isin(passive_user_id)]['total_call_duration'].quantile(q=0.975)\n",
    "duration_passive = group_df[\n",
    "    (group_df['user_id'].isin(passive_user_id) & (group_df['total_call_duration'] <=upper_bound_p))]['total_call_duration']\n",
    "duration_passive.mean()"
   ]
  },
  {
   "cell_type": "code",
   "execution_count": 82,
   "id": "a5e79423",
   "metadata": {
    "ExecuteTime": {
     "end_time": "2023-07-20T10:17:00.039237Z",
     "start_time": "2023-07-20T10:17:00.025274Z"
    }
   },
   "outputs": [
    {
     "name": "stdout",
     "output_type": "stream",
     "text": [
      "p-значение: 2.8205650014235025e-14\n",
      "Отвергаем нулевую гипотезу\n"
     ]
    }
   ],
   "source": [
    "\n",
    "alpha = 0.05 \n",
    "\n",
    "# equal_var = False, n к у нас выборки разного размера\n",
    "results = st.ttest_ind(duration_passive, duration_active, equal_var = False) \n",
    "\n",
    "\n",
    "print('p-значение:', results.pvalue)\n",
    "\n",
    "if results.pvalue < alpha:\n",
    "    print('Отвергаем нулевую гипотезу')\n",
    "else:\n",
    "    print('Не получилось отвергнуть нулевую гипотезу') \n"
   ]
  },
  {
   "cell_type": "code",
   "execution_count": 83,
   "id": "eccba96b",
   "metadata": {
    "ExecuteTime": {
     "end_time": "2023-07-20T10:17:00.054197Z",
     "start_time": "2023-07-20T10:17:00.040233Z"
    }
   },
   "outputs": [
    {
     "data": {
      "text/plain": [
       "4.0989262422144686"
      ]
     },
     "execution_count": 83,
     "metadata": {},
     "output_type": "execute_result"
    }
   ],
   "source": [
    "duration_active.mean()/duration_passive.mean()"
   ]
  },
  {
   "cell_type": "markdown",
   "id": "66a2107d",
   "metadata": {},
   "source": [
    "В результате проверки гипотезы мы обраружили, что статистическая значимость различий в среднем времени разговора по каждому клиенту между группами активных и пассивных есть. \n",
    "Таким образом, мы можем говорить о том, что выделение активынх клиентов было выполнено верно. Активные клиенты говорят почти в четыре раза больше, чем пассивные."
   ]
  },
  {
   "cell_type": "markdown",
   "id": "af339e08",
   "metadata": {},
   "source": [
    "### Поиск активных клиентов, использующих неэффективный тариф."
   ]
  },
  {
   "cell_type": "markdown",
   "id": "248976a9",
   "metadata": {
    "ExecuteTime": {
     "end_time": "2023-06-11T08:48:40.084501Z",
     "start_time": "2023-06-11T08:48:40.068700Z"
    }
   },
   "source": [
    "Изначально объеденим клиентов и тарифы."
   ]
  },
  {
   "cell_type": "code",
   "execution_count": 84,
   "id": "b4e6e9d1",
   "metadata": {
    "ExecuteTime": {
     "end_time": "2023-07-20T10:17:00.086112Z",
     "start_time": "2023-07-20T10:17:00.056192Z"
    }
   },
   "outputs": [
    {
     "data": {
      "text/html": [
       "<div>\n",
       "<style scoped>\n",
       "    .dataframe tbody tr th:only-of-type {\n",
       "        vertical-align: middle;\n",
       "    }\n",
       "\n",
       "    .dataframe tbody tr th {\n",
       "        vertical-align: top;\n",
       "    }\n",
       "\n",
       "    .dataframe thead th {\n",
       "        text-align: right;\n",
       "    }\n",
       "</style>\n",
       "<table border=\"1\" class=\"dataframe\">\n",
       "  <thead>\n",
       "    <tr style=\"text-align: right;\">\n",
       "      <th></th>\n",
       "      <th>user_id</th>\n",
       "      <th>date</th>\n",
       "      <th>direction</th>\n",
       "      <th>internal</th>\n",
       "      <th>operator_id</th>\n",
       "      <th>is_missed_call</th>\n",
       "      <th>calls_count</th>\n",
       "      <th>call_duration</th>\n",
       "      <th>total_call_duration</th>\n",
       "      <th>month</th>\n",
       "      <th>tariff_plan</th>\n",
       "      <th>date_start</th>\n",
       "    </tr>\n",
       "  </thead>\n",
       "  <tbody>\n",
       "    <tr>\n",
       "      <th>0</th>\n",
       "      <td>166377</td>\n",
       "      <td>2019-08-04</td>\n",
       "      <td>in</td>\n",
       "      <td>False</td>\n",
       "      <td>0</td>\n",
       "      <td>True</td>\n",
       "      <td>2.0</td>\n",
       "      <td>0.0</td>\n",
       "      <td>4.0</td>\n",
       "      <td>8</td>\n",
       "      <td>B</td>\n",
       "      <td>2019-08-01</td>\n",
       "    </tr>\n",
       "    <tr>\n",
       "      <th>1</th>\n",
       "      <td>166377</td>\n",
       "      <td>2019-08-05</td>\n",
       "      <td>out</td>\n",
       "      <td>True</td>\n",
       "      <td>880022</td>\n",
       "      <td>True</td>\n",
       "      <td>3.0</td>\n",
       "      <td>0.0</td>\n",
       "      <td>5.0</td>\n",
       "      <td>8</td>\n",
       "      <td>B</td>\n",
       "      <td>2019-08-01</td>\n",
       "    </tr>\n",
       "    <tr>\n",
       "      <th>2</th>\n",
       "      <td>166377</td>\n",
       "      <td>2019-08-05</td>\n",
       "      <td>out</td>\n",
       "      <td>True</td>\n",
       "      <td>880020</td>\n",
       "      <td>True</td>\n",
       "      <td>1.0</td>\n",
       "      <td>0.0</td>\n",
       "      <td>1.0</td>\n",
       "      <td>8</td>\n",
       "      <td>B</td>\n",
       "      <td>2019-08-01</td>\n",
       "    </tr>\n",
       "    <tr>\n",
       "      <th>3</th>\n",
       "      <td>166377</td>\n",
       "      <td>2019-08-05</td>\n",
       "      <td>out</td>\n",
       "      <td>True</td>\n",
       "      <td>880020</td>\n",
       "      <td>False</td>\n",
       "      <td>1.0</td>\n",
       "      <td>10.0</td>\n",
       "      <td>18.0</td>\n",
       "      <td>8</td>\n",
       "      <td>B</td>\n",
       "      <td>2019-08-01</td>\n",
       "    </tr>\n",
       "    <tr>\n",
       "      <th>4</th>\n",
       "      <td>166377</td>\n",
       "      <td>2019-08-05</td>\n",
       "      <td>out</td>\n",
       "      <td>False</td>\n",
       "      <td>880022</td>\n",
       "      <td>True</td>\n",
       "      <td>3.0</td>\n",
       "      <td>0.0</td>\n",
       "      <td>25.0</td>\n",
       "      <td>8</td>\n",
       "      <td>B</td>\n",
       "      <td>2019-08-01</td>\n",
       "    </tr>\n",
       "    <tr>\n",
       "      <th>5</th>\n",
       "      <td>166377</td>\n",
       "      <td>2019-08-05</td>\n",
       "      <td>out</td>\n",
       "      <td>False</td>\n",
       "      <td>880020</td>\n",
       "      <td>False</td>\n",
       "      <td>2.0</td>\n",
       "      <td>3.0</td>\n",
       "      <td>29.0</td>\n",
       "      <td>8</td>\n",
       "      <td>B</td>\n",
       "      <td>2019-08-01</td>\n",
       "    </tr>\n",
       "    <tr>\n",
       "      <th>6</th>\n",
       "      <td>166377</td>\n",
       "      <td>2019-08-05</td>\n",
       "      <td>out</td>\n",
       "      <td>False</td>\n",
       "      <td>880020</td>\n",
       "      <td>True</td>\n",
       "      <td>8.0</td>\n",
       "      <td>0.0</td>\n",
       "      <td>50.0</td>\n",
       "      <td>8</td>\n",
       "      <td>B</td>\n",
       "      <td>2019-08-01</td>\n",
       "    </tr>\n",
       "    <tr>\n",
       "      <th>7</th>\n",
       "      <td>166377</td>\n",
       "      <td>2019-08-05</td>\n",
       "      <td>in</td>\n",
       "      <td>False</td>\n",
       "      <td>0</td>\n",
       "      <td>True</td>\n",
       "      <td>6.0</td>\n",
       "      <td>0.0</td>\n",
       "      <td>35.0</td>\n",
       "      <td>8</td>\n",
       "      <td>B</td>\n",
       "      <td>2019-08-01</td>\n",
       "    </tr>\n",
       "    <tr>\n",
       "      <th>8</th>\n",
       "      <td>166377</td>\n",
       "      <td>2019-08-06</td>\n",
       "      <td>in</td>\n",
       "      <td>False</td>\n",
       "      <td>0</td>\n",
       "      <td>True</td>\n",
       "      <td>4.0</td>\n",
       "      <td>0.0</td>\n",
       "      <td>62.0</td>\n",
       "      <td>8</td>\n",
       "      <td>B</td>\n",
       "      <td>2019-08-01</td>\n",
       "    </tr>\n",
       "    <tr>\n",
       "      <th>9</th>\n",
       "      <td>166377</td>\n",
       "      <td>2019-08-06</td>\n",
       "      <td>out</td>\n",
       "      <td>False</td>\n",
       "      <td>881278</td>\n",
       "      <td>True</td>\n",
       "      <td>3.0</td>\n",
       "      <td>0.0</td>\n",
       "      <td>29.0</td>\n",
       "      <td>8</td>\n",
       "      <td>B</td>\n",
       "      <td>2019-08-01</td>\n",
       "    </tr>\n",
       "  </tbody>\n",
       "</table>\n",
       "</div>"
      ],
      "text/plain": [
       "   user_id       date direction internal  operator_id is_missed_call  \\\n",
       "0   166377 2019-08-04        in    False            0           True   \n",
       "1   166377 2019-08-05       out     True       880022           True   \n",
       "2   166377 2019-08-05       out     True       880020           True   \n",
       "3   166377 2019-08-05       out     True       880020          False   \n",
       "4   166377 2019-08-05       out    False       880022           True   \n",
       "5   166377 2019-08-05       out    False       880020          False   \n",
       "6   166377 2019-08-05       out    False       880020           True   \n",
       "7   166377 2019-08-05        in    False            0           True   \n",
       "8   166377 2019-08-06        in    False            0           True   \n",
       "9   166377 2019-08-06       out    False       881278           True   \n",
       "\n",
       "   calls_count  call_duration  total_call_duration  month tariff_plan  \\\n",
       "0          2.0            0.0                  4.0      8           B   \n",
       "1          3.0            0.0                  5.0      8           B   \n",
       "2          1.0            0.0                  1.0      8           B   \n",
       "3          1.0           10.0                 18.0      8           B   \n",
       "4          3.0            0.0                 25.0      8           B   \n",
       "5          2.0            3.0                 29.0      8           B   \n",
       "6          8.0            0.0                 50.0      8           B   \n",
       "7          6.0            0.0                 35.0      8           B   \n",
       "8          4.0            0.0                 62.0      8           B   \n",
       "9          3.0            0.0                 29.0      8           B   \n",
       "\n",
       "  date_start  \n",
       "0 2019-08-01  \n",
       "1 2019-08-01  \n",
       "2 2019-08-01  \n",
       "3 2019-08-01  \n",
       "4 2019-08-01  \n",
       "5 2019-08-01  \n",
       "6 2019-08-01  \n",
       "7 2019-08-01  \n",
       "8 2019-08-01  \n",
       "9 2019-08-01  "
      ]
     },
     "execution_count": 84,
     "metadata": {},
     "output_type": "execute_result"
    }
   ],
   "source": [
    "tarif_data = telecom_dataset.merge(telecom_clients, on='user_id', how = 'inner')\n",
    "tarif_data.head(10)"
   ]
  },
  {
   "cell_type": "code",
   "execution_count": 85,
   "id": "041eb9e3",
   "metadata": {
    "ExecuteTime": {
     "end_time": "2023-07-20T10:17:00.118026Z",
     "start_time": "2023-07-20T10:17:00.088106Z"
    }
   },
   "outputs": [
    {
     "data": {
      "text/html": [
       "<div>\n",
       "<style scoped>\n",
       "    .dataframe tbody tr th:only-of-type {\n",
       "        vertical-align: middle;\n",
       "    }\n",
       "\n",
       "    .dataframe tbody tr th {\n",
       "        vertical-align: top;\n",
       "    }\n",
       "\n",
       "    .dataframe thead th {\n",
       "        text-align: right;\n",
       "    }\n",
       "</style>\n",
       "<table border=\"1\" class=\"dataframe\">\n",
       "  <thead>\n",
       "    <tr style=\"text-align: right;\">\n",
       "      <th></th>\n",
       "      <th>user_id</th>\n",
       "      <th>month</th>\n",
       "      <th>tariff_plan</th>\n",
       "    </tr>\n",
       "  </thead>\n",
       "  <tbody>\n",
       "    <tr>\n",
       "      <th>783</th>\n",
       "      <td>168583</td>\n",
       "      <td>11</td>\n",
       "      <td>B</td>\n",
       "    </tr>\n",
       "    <tr>\n",
       "      <th>784</th>\n",
       "      <td>168598</td>\n",
       "      <td>11</td>\n",
       "      <td>C</td>\n",
       "    </tr>\n",
       "    <tr>\n",
       "      <th>785</th>\n",
       "      <td>168601</td>\n",
       "      <td>11</td>\n",
       "      <td>C</td>\n",
       "    </tr>\n",
       "    <tr>\n",
       "      <th>786</th>\n",
       "      <td>168603</td>\n",
       "      <td>11</td>\n",
       "      <td>B</td>\n",
       "    </tr>\n",
       "    <tr>\n",
       "      <th>787</th>\n",
       "      <td>168606</td>\n",
       "      <td>11</td>\n",
       "      <td>C</td>\n",
       "    </tr>\n",
       "  </tbody>\n",
       "</table>\n",
       "</div>"
      ],
      "text/plain": [
       "     user_id  month tariff_plan\n",
       "783   168583     11           B\n",
       "784   168598     11           C\n",
       "785   168601     11           C\n",
       "786   168603     11           B\n",
       "787   168606     11           C"
      ]
     },
     "execution_count": 85,
     "metadata": {},
     "output_type": "execute_result"
    }
   ],
   "source": [
    "billing_data = tarif_data[['user_id', 'month', 'tariff_plan']]\n",
    "billing_data = billing_data.drop_duplicates().reset_index(drop=True)\n",
    "billing_data.tail()\n"
   ]
  },
  {
   "cell_type": "code",
   "execution_count": 86,
   "id": "6c33edf9",
   "metadata": {
    "ExecuteTime": {
     "end_time": "2023-07-20T10:17:00.149940Z",
     "start_time": "2023-07-20T10:17:00.120021Z"
    }
   },
   "outputs": [
    {
     "data": {
      "text/html": [
       "<div>\n",
       "<style scoped>\n",
       "    .dataframe tbody tr th:only-of-type {\n",
       "        vertical-align: middle;\n",
       "    }\n",
       "\n",
       "    .dataframe tbody tr th {\n",
       "        vertical-align: top;\n",
       "    }\n",
       "\n",
       "    .dataframe thead th {\n",
       "        text-align: right;\n",
       "    }\n",
       "</style>\n",
       "<table border=\"1\" class=\"dataframe\">\n",
       "  <thead>\n",
       "    <tr style=\"text-align: right;\">\n",
       "      <th></th>\n",
       "      <th>user_id</th>\n",
       "      <th>month</th>\n",
       "      <th>tariff_plan</th>\n",
       "      <th>operator_count</th>\n",
       "    </tr>\n",
       "  </thead>\n",
       "  <tbody>\n",
       "    <tr>\n",
       "      <th>0</th>\n",
       "      <td>166377</td>\n",
       "      <td>8</td>\n",
       "      <td>B</td>\n",
       "      <td>5.0</td>\n",
       "    </tr>\n",
       "    <tr>\n",
       "      <th>1</th>\n",
       "      <td>166377</td>\n",
       "      <td>9</td>\n",
       "      <td>B</td>\n",
       "      <td>4.0</td>\n",
       "    </tr>\n",
       "    <tr>\n",
       "      <th>2</th>\n",
       "      <td>166377</td>\n",
       "      <td>10</td>\n",
       "      <td>B</td>\n",
       "      <td>5.0</td>\n",
       "    </tr>\n",
       "    <tr>\n",
       "      <th>3</th>\n",
       "      <td>166377</td>\n",
       "      <td>11</td>\n",
       "      <td>B</td>\n",
       "      <td>4.0</td>\n",
       "    </tr>\n",
       "    <tr>\n",
       "      <th>4</th>\n",
       "      <td>166391</td>\n",
       "      <td>8</td>\n",
       "      <td>C</td>\n",
       "      <td>2.0</td>\n",
       "    </tr>\n",
       "  </tbody>\n",
       "</table>\n",
       "</div>"
      ],
      "text/plain": [
       "   user_id  month tariff_plan  operator_count\n",
       "0   166377      8           B             5.0\n",
       "1   166377      9           B             4.0\n",
       "2   166377     10           B             5.0\n",
       "3   166377     11           B             4.0\n",
       "4   166391      8           C             2.0"
      ]
     },
     "execution_count": 86,
     "metadata": {},
     "output_type": "execute_result"
    }
   ],
   "source": [
    "# добавляем количество операторов, убирая значение оператор 0\n",
    "billing_data = billing_data.merge(tarif_data.query('operator_id != 0').pivot_table(index = ['user_id', 'month'],\n",
    "                      values = ['operator_id'], \n",
    "                      aggfunc={\"operator_id\": 'nunique'}).reset_index(), on=['user_id', 'month'], how = 'outer')\n",
    "billing_data = billing_data.rename(columns = {'operator_id':'operator_count'})\n",
    "billing_data.head()"
   ]
  },
  {
   "cell_type": "code",
   "execution_count": 87,
   "id": "3cb15e45",
   "metadata": {
    "ExecuteTime": {
     "end_time": "2023-07-20T10:17:00.227733Z",
     "start_time": "2023-07-20T10:17:00.151935Z"
    }
   },
   "outputs": [
    {
     "data": {
      "text/html": [
       "<div>\n",
       "<style scoped>\n",
       "    .dataframe tbody tr th:only-of-type {\n",
       "        vertical-align: middle;\n",
       "    }\n",
       "\n",
       "    .dataframe tbody tr th {\n",
       "        vertical-align: top;\n",
       "    }\n",
       "\n",
       "    .dataframe thead th {\n",
       "        text-align: right;\n",
       "    }\n",
       "</style>\n",
       "<table border=\"1\" class=\"dataframe\">\n",
       "  <thead>\n",
       "    <tr style=\"text-align: right;\">\n",
       "      <th></th>\n",
       "      <th>user_id</th>\n",
       "      <th>month</th>\n",
       "      <th>in_call_m</th>\n",
       "    </tr>\n",
       "  </thead>\n",
       "  <tbody>\n",
       "    <tr>\n",
       "      <th>0</th>\n",
       "      <td>166377</td>\n",
       "      <td>8</td>\n",
       "      <td>27.0</td>\n",
       "    </tr>\n",
       "    <tr>\n",
       "      <th>1</th>\n",
       "      <td>166377</td>\n",
       "      <td>9</td>\n",
       "      <td>36.0</td>\n",
       "    </tr>\n",
       "    <tr>\n",
       "      <th>2</th>\n",
       "      <td>166377</td>\n",
       "      <td>10</td>\n",
       "      <td>45.0</td>\n",
       "    </tr>\n",
       "    <tr>\n",
       "      <th>3</th>\n",
       "      <td>166377</td>\n",
       "      <td>11</td>\n",
       "      <td>55.0</td>\n",
       "    </tr>\n",
       "    <tr>\n",
       "      <th>4</th>\n",
       "      <td>166391</td>\n",
       "      <td>8</td>\n",
       "      <td>5.0</td>\n",
       "    </tr>\n",
       "    <tr>\n",
       "      <th>...</th>\n",
       "      <td>...</td>\n",
       "      <td>...</td>\n",
       "      <td>...</td>\n",
       "    </tr>\n",
       "    <tr>\n",
       "      <th>774</th>\n",
       "      <td>168583</td>\n",
       "      <td>11</td>\n",
       "      <td>20.0</td>\n",
       "    </tr>\n",
       "    <tr>\n",
       "      <th>775</th>\n",
       "      <td>168598</td>\n",
       "      <td>11</td>\n",
       "      <td>76.0</td>\n",
       "    </tr>\n",
       "    <tr>\n",
       "      <th>776</th>\n",
       "      <td>168601</td>\n",
       "      <td>11</td>\n",
       "      <td>147.0</td>\n",
       "    </tr>\n",
       "    <tr>\n",
       "      <th>777</th>\n",
       "      <td>168603</td>\n",
       "      <td>11</td>\n",
       "      <td>0.0</td>\n",
       "    </tr>\n",
       "    <tr>\n",
       "      <th>778</th>\n",
       "      <td>168606</td>\n",
       "      <td>11</td>\n",
       "      <td>12.0</td>\n",
       "    </tr>\n",
       "  </tbody>\n",
       "</table>\n",
       "<p>779 rows × 3 columns</p>\n",
       "</div>"
      ],
      "text/plain": [
       "     user_id  month  in_call_m\n",
       "0     166377      8       27.0\n",
       "1     166377      9       36.0\n",
       "2     166377     10       45.0\n",
       "3     166377     11       55.0\n",
       "4     166391      8        5.0\n",
       "..       ...    ...        ...\n",
       "774   168583     11       20.0\n",
       "775   168598     11       76.0\n",
       "776   168601     11      147.0\n",
       "777   168603     11        0.0\n",
       "778   168606     11       12.0\n",
       "\n",
       "[779 rows x 3 columns]"
      ]
     },
     "execution_count": 87,
     "metadata": {},
     "output_type": "execute_result"
    }
   ],
   "source": [
    "# считаем длительность всех входящтих вызовов, не выделяя внутренние и внешние\n",
    "in_call = tarif_data.query('direction == \"in\"').pivot_table(\n",
    "    index = ['user_id', 'date', 'month', 'operator_id'],\n",
    "                      values = ['call_duration'], \n",
    "                      aggfunc={\"call_duration\": 'sum'}).reset_index()\n",
    "in_call['call_duration'] = in_call['call_duration'].map(lambda x: np.ceil(x/60))\n",
    "in_call = in_call.rename(columns = {'call_duration':'in_call_m'})\n",
    "\n",
    "\n",
    "in_call = in_call.pivot_table(index = ['user_id', 'month'],\n",
    "                      values = ['in_call_m'], \n",
    "                      aggfunc={\"in_call_m\": 'sum'}).reset_index()\n",
    "in_call"
   ]
  },
  {
   "cell_type": "code",
   "execution_count": 88,
   "id": "74a31108",
   "metadata": {
    "ExecuteTime": {
     "end_time": "2023-07-20T10:17:00.259648Z",
     "start_time": "2023-07-20T10:17:00.228730Z"
    }
   },
   "outputs": [
    {
     "data": {
      "text/html": [
       "<div>\n",
       "<style scoped>\n",
       "    .dataframe tbody tr th:only-of-type {\n",
       "        vertical-align: middle;\n",
       "    }\n",
       "\n",
       "    .dataframe tbody tr th {\n",
       "        vertical-align: top;\n",
       "    }\n",
       "\n",
       "    .dataframe thead th {\n",
       "        text-align: right;\n",
       "    }\n",
       "</style>\n",
       "<table border=\"1\" class=\"dataframe\">\n",
       "  <thead>\n",
       "    <tr style=\"text-align: right;\">\n",
       "      <th></th>\n",
       "      <th>user_id</th>\n",
       "      <th>month</th>\n",
       "      <th>out_internal_call_m</th>\n",
       "    </tr>\n",
       "  </thead>\n",
       "  <tbody>\n",
       "    <tr>\n",
       "      <th>0</th>\n",
       "      <td>166377</td>\n",
       "      <td>8</td>\n",
       "      <td>7.0</td>\n",
       "    </tr>\n",
       "    <tr>\n",
       "      <th>1</th>\n",
       "      <td>166377</td>\n",
       "      <td>9</td>\n",
       "      <td>5.0</td>\n",
       "    </tr>\n",
       "    <tr>\n",
       "      <th>2</th>\n",
       "      <td>166377</td>\n",
       "      <td>10</td>\n",
       "      <td>2.0</td>\n",
       "    </tr>\n",
       "    <tr>\n",
       "      <th>3</th>\n",
       "      <td>166377</td>\n",
       "      <td>11</td>\n",
       "      <td>4.0</td>\n",
       "    </tr>\n",
       "    <tr>\n",
       "      <th>4</th>\n",
       "      <td>166391</td>\n",
       "      <td>8</td>\n",
       "      <td>1.0</td>\n",
       "    </tr>\n",
       "  </tbody>\n",
       "</table>\n",
       "</div>"
      ],
      "text/plain": [
       "   user_id  month  out_internal_call_m\n",
       "0   166377      8                  7.0\n",
       "1   166377      9                  5.0\n",
       "2   166377     10                  2.0\n",
       "3   166377     11                  4.0\n",
       "4   166391      8                  1.0"
      ]
     },
     "execution_count": 88,
     "metadata": {},
     "output_type": "execute_result"
    }
   ],
   "source": [
    "out_internal_call = tarif_data.query('direction == \"out\" and internal == True').pivot_table(\n",
    "    index = ['user_id', 'date', 'month', 'operator_id'],\n",
    "                      values = ['total_call_duration'], \n",
    "                      aggfunc={\"total_call_duration\": 'sum'}).reset_index()\n",
    "out_internal_call['total_call_duration'] = out_internal_call['total_call_duration'].map(lambda x: np.ceil(x/60))\n",
    "out_internal_call = out_internal_call.rename(columns = {'total_call_duration':'out_internal_call_m'})\n",
    "\n",
    "\n",
    "out_internal_call = out_internal_call.pivot_table(index = ['user_id', 'month'],\n",
    "                      values = ['out_internal_call_m'], \n",
    "                      aggfunc={\"out_internal_call_m\": 'sum'}).reset_index()\n",
    "\n",
    "out_internal_call.head()"
   ]
  },
  {
   "cell_type": "code",
   "execution_count": 89,
   "id": "5d3d03c8",
   "metadata": {
    "ExecuteTime": {
     "end_time": "2023-07-20T10:17:00.323478Z",
     "start_time": "2023-07-20T10:17:00.260644Z"
    },
    "scrolled": true
   },
   "outputs": [
    {
     "data": {
      "text/html": [
       "<div>\n",
       "<style scoped>\n",
       "    .dataframe tbody tr th:only-of-type {\n",
       "        vertical-align: middle;\n",
       "    }\n",
       "\n",
       "    .dataframe tbody tr th {\n",
       "        vertical-align: top;\n",
       "    }\n",
       "\n",
       "    .dataframe thead th {\n",
       "        text-align: right;\n",
       "    }\n",
       "</style>\n",
       "<table border=\"1\" class=\"dataframe\">\n",
       "  <thead>\n",
       "    <tr style=\"text-align: right;\">\n",
       "      <th></th>\n",
       "      <th>user_id</th>\n",
       "      <th>month</th>\n",
       "      <th>out_no_internal_call_m</th>\n",
       "    </tr>\n",
       "  </thead>\n",
       "  <tbody>\n",
       "    <tr>\n",
       "      <th>0</th>\n",
       "      <td>166377</td>\n",
       "      <td>8</td>\n",
       "      <td>1322.0</td>\n",
       "    </tr>\n",
       "    <tr>\n",
       "      <th>1</th>\n",
       "      <td>166377</td>\n",
       "      <td>9</td>\n",
       "      <td>1792.0</td>\n",
       "    </tr>\n",
       "    <tr>\n",
       "      <th>2</th>\n",
       "      <td>166377</td>\n",
       "      <td>10</td>\n",
       "      <td>1679.0</td>\n",
       "    </tr>\n",
       "    <tr>\n",
       "      <th>3</th>\n",
       "      <td>166377</td>\n",
       "      <td>11</td>\n",
       "      <td>1614.0</td>\n",
       "    </tr>\n",
       "    <tr>\n",
       "      <th>4</th>\n",
       "      <td>166405</td>\n",
       "      <td>8</td>\n",
       "      <td>859.0</td>\n",
       "    </tr>\n",
       "  </tbody>\n",
       "</table>\n",
       "</div>"
      ],
      "text/plain": [
       "   user_id  month  out_no_internal_call_m\n",
       "0   166377      8                  1322.0\n",
       "1   166377      9                  1792.0\n",
       "2   166377     10                  1679.0\n",
       "3   166377     11                  1614.0\n",
       "4   166405      8                   859.0"
      ]
     },
     "execution_count": 89,
     "metadata": {},
     "output_type": "execute_result"
    }
   ],
   "source": [
    "# считаем количество минут для каждого оператора\n",
    "out_no_internal_call = tarif_data.query('direction == \"out\" and internal == False').pivot_table(\n",
    "    index = ['user_id', 'date', 'month', 'operator_id'],\n",
    "                      values = ['total_call_duration'], \n",
    "                      aggfunc={\"total_call_duration\": 'sum'}).reset_index()\n",
    "out_no_internal_call['total_call_duration'] = out_no_internal_call['total_call_duration'].map(lambda x: np.ceil(x/60))\n",
    "out_no_internal_call = out_no_internal_call.rename(columns = {'total_call_duration':'out_no_internal_call_m'})\n",
    "# производим группировку по клиентам\n",
    "out_no_internal_call = out_no_internal_call.pivot_table(index = ['user_id', 'month'],\n",
    "                      values = ['out_no_internal_call_m'], \n",
    "                      aggfunc={\"out_no_internal_call_m\": 'sum'}).reset_index()\n",
    "out_no_internal_call.head()"
   ]
  },
  {
   "cell_type": "code",
   "execution_count": 90,
   "id": "c4ea14bd",
   "metadata": {
    "ExecuteTime": {
     "end_time": "2023-07-20T10:17:00.339434Z",
     "start_time": "2023-07-20T10:17:00.324475Z"
    }
   },
   "outputs": [
    {
     "data": {
      "text/html": [
       "<div>\n",
       "<style scoped>\n",
       "    .dataframe tbody tr th:only-of-type {\n",
       "        vertical-align: middle;\n",
       "    }\n",
       "\n",
       "    .dataframe tbody tr th {\n",
       "        vertical-align: top;\n",
       "    }\n",
       "\n",
       "    .dataframe thead th {\n",
       "        text-align: right;\n",
       "    }\n",
       "</style>\n",
       "<table border=\"1\" class=\"dataframe\">\n",
       "  <thead>\n",
       "    <tr style=\"text-align: right;\">\n",
       "      <th></th>\n",
       "      <th>user_id</th>\n",
       "      <th>month</th>\n",
       "      <th>tariff_plan</th>\n",
       "      <th>operator_count</th>\n",
       "    </tr>\n",
       "  </thead>\n",
       "  <tbody>\n",
       "    <tr>\n",
       "      <th>0</th>\n",
       "      <td>166377</td>\n",
       "      <td>8</td>\n",
       "      <td>B</td>\n",
       "      <td>5.0</td>\n",
       "    </tr>\n",
       "    <tr>\n",
       "      <th>1</th>\n",
       "      <td>166377</td>\n",
       "      <td>9</td>\n",
       "      <td>B</td>\n",
       "      <td>4.0</td>\n",
       "    </tr>\n",
       "    <tr>\n",
       "      <th>2</th>\n",
       "      <td>166377</td>\n",
       "      <td>10</td>\n",
       "      <td>B</td>\n",
       "      <td>5.0</td>\n",
       "    </tr>\n",
       "    <tr>\n",
       "      <th>3</th>\n",
       "      <td>166377</td>\n",
       "      <td>11</td>\n",
       "      <td>B</td>\n",
       "      <td>4.0</td>\n",
       "    </tr>\n",
       "    <tr>\n",
       "      <th>4</th>\n",
       "      <td>166391</td>\n",
       "      <td>8</td>\n",
       "      <td>C</td>\n",
       "      <td>2.0</td>\n",
       "    </tr>\n",
       "  </tbody>\n",
       "</table>\n",
       "</div>"
      ],
      "text/plain": [
       "   user_id  month tariff_plan  operator_count\n",
       "0   166377      8           B             5.0\n",
       "1   166377      9           B             4.0\n",
       "2   166377     10           B             5.0\n",
       "3   166377     11           B             4.0\n",
       "4   166391      8           C             2.0"
      ]
     },
     "execution_count": 90,
     "metadata": {},
     "output_type": "execute_result"
    }
   ],
   "source": [
    "billing_data.head()"
   ]
  },
  {
   "cell_type": "code",
   "execution_count": 91,
   "id": "398c8142",
   "metadata": {
    "ExecuteTime": {
     "end_time": "2023-07-20T10:17:00.386311Z",
     "start_time": "2023-07-20T10:17:00.340431Z"
    }
   },
   "outputs": [
    {
     "data": {
      "text/html": [
       "<div>\n",
       "<style scoped>\n",
       "    .dataframe tbody tr th:only-of-type {\n",
       "        vertical-align: middle;\n",
       "    }\n",
       "\n",
       "    .dataframe tbody tr th {\n",
       "        vertical-align: top;\n",
       "    }\n",
       "\n",
       "    .dataframe thead th {\n",
       "        text-align: right;\n",
       "    }\n",
       "</style>\n",
       "<table border=\"1\" class=\"dataframe\">\n",
       "  <thead>\n",
       "    <tr style=\"text-align: right;\">\n",
       "      <th></th>\n",
       "      <th>user_id</th>\n",
       "      <th>month</th>\n",
       "      <th>tariff_plan</th>\n",
       "      <th>operator_count</th>\n",
       "      <th>out_no_internal_call_m</th>\n",
       "      <th>out_internal_call_m</th>\n",
       "      <th>in_call_m</th>\n",
       "    </tr>\n",
       "  </thead>\n",
       "  <tbody>\n",
       "    <tr>\n",
       "      <th>0</th>\n",
       "      <td>166377</td>\n",
       "      <td>8</td>\n",
       "      <td>B</td>\n",
       "      <td>5.0</td>\n",
       "      <td>1322.0</td>\n",
       "      <td>7.0</td>\n",
       "      <td>27.0</td>\n",
       "    </tr>\n",
       "    <tr>\n",
       "      <th>1</th>\n",
       "      <td>166377</td>\n",
       "      <td>9</td>\n",
       "      <td>B</td>\n",
       "      <td>4.0</td>\n",
       "      <td>1792.0</td>\n",
       "      <td>5.0</td>\n",
       "      <td>36.0</td>\n",
       "    </tr>\n",
       "    <tr>\n",
       "      <th>2</th>\n",
       "      <td>166377</td>\n",
       "      <td>10</td>\n",
       "      <td>B</td>\n",
       "      <td>5.0</td>\n",
       "      <td>1679.0</td>\n",
       "      <td>2.0</td>\n",
       "      <td>45.0</td>\n",
       "    </tr>\n",
       "    <tr>\n",
       "      <th>3</th>\n",
       "      <td>166377</td>\n",
       "      <td>11</td>\n",
       "      <td>B</td>\n",
       "      <td>4.0</td>\n",
       "      <td>1614.0</td>\n",
       "      <td>4.0</td>\n",
       "      <td>55.0</td>\n",
       "    </tr>\n",
       "    <tr>\n",
       "      <th>4</th>\n",
       "      <td>166391</td>\n",
       "      <td>8</td>\n",
       "      <td>C</td>\n",
       "      <td>2.0</td>\n",
       "      <td>0.0</td>\n",
       "      <td>1.0</td>\n",
       "      <td>5.0</td>\n",
       "    </tr>\n",
       "  </tbody>\n",
       "</table>\n",
       "</div>"
      ],
      "text/plain": [
       "   user_id  month tariff_plan  operator_count  out_no_internal_call_m  \\\n",
       "0   166377      8           B             5.0                  1322.0   \n",
       "1   166377      9           B             4.0                  1792.0   \n",
       "2   166377     10           B             5.0                  1679.0   \n",
       "3   166377     11           B             4.0                  1614.0   \n",
       "4   166391      8           C             2.0                     0.0   \n",
       "\n",
       "   out_internal_call_m  in_call_m  \n",
       "0                  7.0       27.0  \n",
       "1                  5.0       36.0  \n",
       "2                  2.0       45.0  \n",
       "3                  4.0       55.0  \n",
       "4                  1.0        5.0  "
      ]
     },
     "execution_count": 91,
     "metadata": {},
     "output_type": "execute_result"
    }
   ],
   "source": [
    "# получили итоговую таблицу с минутами\n",
    "billing_data = billing_data.merge(out_no_internal_call, on=['user_id', 'month'], how = 'outer')\n",
    "billing_data = billing_data.merge(out_internal_call, on=['user_id', 'month'], how = 'outer')\n",
    "billing_data = billing_data.merge(in_call, on=['user_id', 'month'], how = 'outer')\n",
    "billing_data = billing_data.fillna(0)\n",
    "billing_data.head()"
   ]
  },
  {
   "cell_type": "code",
   "execution_count": 92,
   "id": "6372ebbb",
   "metadata": {
    "ExecuteTime": {
     "end_time": "2023-07-20T10:17:00.401269Z",
     "start_time": "2023-07-20T10:17:00.389301Z"
    }
   },
   "outputs": [
    {
     "data": {
      "text/html": [
       "<div>\n",
       "<style scoped>\n",
       "    .dataframe tbody tr th:only-of-type {\n",
       "        vertical-align: middle;\n",
       "    }\n",
       "\n",
       "    .dataframe tbody tr th {\n",
       "        vertical-align: top;\n",
       "    }\n",
       "\n",
       "    .dataframe thead th {\n",
       "        text-align: right;\n",
       "    }\n",
       "</style>\n",
       "<table border=\"1\" class=\"dataframe\">\n",
       "  <thead>\n",
       "    <tr style=\"text-align: right;\">\n",
       "      <th></th>\n",
       "      <th>tariff_name</th>\n",
       "      <th>month_fee</th>\n",
       "      <th>inside_calls</th>\n",
       "      <th>outside_calls</th>\n",
       "      <th>operator</th>\n",
       "      <th>internal_call_limit</th>\n",
       "    </tr>\n",
       "  </thead>\n",
       "  <tbody>\n",
       "    <tr>\n",
       "      <th>0</th>\n",
       "      <td>A</td>\n",
       "      <td>4000</td>\n",
       "      <td>0.10</td>\n",
       "      <td>0.3</td>\n",
       "      <td>50</td>\n",
       "      <td>2000</td>\n",
       "    </tr>\n",
       "    <tr>\n",
       "      <th>1</th>\n",
       "      <td>B</td>\n",
       "      <td>2000</td>\n",
       "      <td>0.15</td>\n",
       "      <td>0.5</td>\n",
       "      <td>150</td>\n",
       "      <td>500</td>\n",
       "    </tr>\n",
       "    <tr>\n",
       "      <th>2</th>\n",
       "      <td>C</td>\n",
       "      <td>1000</td>\n",
       "      <td>0.30</td>\n",
       "      <td>0.7</td>\n",
       "      <td>300</td>\n",
       "      <td>0</td>\n",
       "    </tr>\n",
       "  </tbody>\n",
       "</table>\n",
       "</div>"
      ],
      "text/plain": [
       "  tariff_name  month_fee  inside_calls  outside_calls  operator  \\\n",
       "0           A       4000          0.10            0.3        50   \n",
       "1           B       2000          0.15            0.5       150   \n",
       "2           C       1000          0.30            0.7       300   \n",
       "\n",
       "   internal_call_limit  \n",
       "0                 2000  \n",
       "1                  500  \n",
       "2                    0  "
      ]
     },
     "execution_count": 92,
     "metadata": {},
     "output_type": "execute_result"
    }
   ],
   "source": [
    "tariffs = pd.DataFrame({\n",
    "    'tariff_name':['A', 'B', 'C'],\n",
    "    'month_fee':[4000, 2000, 1000],\n",
    "    'inside_calls':[0.1, 0.15, 0.3],\n",
    "    'outside_calls':[0.3, 0.5, 0.7],\n",
    "    'operator':[50, 150, 300],\n",
    "    'internal_call_limit':[2000, 500, 0]\n",
    "})\n",
    "tariffs"
   ]
  },
  {
   "cell_type": "code",
   "execution_count": 93,
   "id": "7e06e0e4",
   "metadata": {
    "ExecuteTime": {
     "end_time": "2023-07-20T10:17:06.655653Z",
     "start_time": "2023-07-20T10:17:00.403264Z"
    }
   },
   "outputs": [],
   "source": [
    "# Проведем расчеты затрат по всем тарифам:\n",
    "\n",
    "def monthly_revenue_best(row):\n",
    "    \n",
    "    # Добавление ежемесячной абонентской платы по всем тарифам:\n",
    "    result = []\n",
    "    for i in list(tariffs['tariff_name'].unique()):\n",
    "        tariff_name = str(i)\n",
    "        \n",
    "        # расчет операторов:\n",
    "        total = row['operator_count'] * int(tariffs[tariffs['tariff_name'] == tariff_name]['operator'])\n",
    "        \n",
    "        # добавление ежемесячной платы:\n",
    "        total += int(tariffs[tariffs['tariff_name'] == tariff_name]['month_fee'])\n",
    "        \n",
    "        # добавление платы за исходящие внешние:                 \n",
    "        total += row['out_no_internal_call_m'] * float(tariffs[tariffs['tariff_name'] == tariff_name]['outside_calls'])\n",
    "                 \n",
    "        # добавление платы за исходящие внутренние:            \n",
    "        if row['out_internal_call_m'] > float(tariffs[tariffs['tariff_name'] == tariff_name]['internal_call_limit']):\n",
    "            total += (row['out_internal_call_m'] - float(tariffs[tariffs['tariff_name'] == tariff_name]['internal_call_limit'])) \\\n",
    "                         * float(tariffs[tariffs['tariff_name'] == tariff_name]['inside_calls'])\n",
    "        \n",
    "        result += [[tariff_name, total]]\n",
    "        \n",
    "    # на основе расчетов выше созодадим датафрейм с тарифами:                             \n",
    "    tariff_costs = pd.DataFrame(result, columns = ['tariff_name', 'cost'])\n",
    "                     \n",
    "    # выбираем оптимальный тариф:   \n",
    "    best_tariff_name = tariff_costs.nsmallest(1, 'cost')['tariff_name'].values[0]\n",
    "    best_cost = tariff_costs.nsmallest(1, 'cost')['cost'].values[0]\n",
    "            \n",
    "    # определим затраты по действующему тарифу:   \n",
    "    current_cost = tariff_costs[tariff_costs['tariff_name'] == row['tariff_plan']]['cost'].values[0]\n",
    "    \n",
    "    \n",
    "            \n",
    "    # добавляем столбцы в исходный датафрейм:                    \n",
    "    row['pay'] = current_cost          \n",
    "    row['after_optimisation'] = best_cost\n",
    "    row['optimal_tariff'] = best_tariff_name\n",
    "    \n",
    "    # определяем нужно ли менять тариф \n",
    "    if row['tariff_plan'] == row['optimal_tariff']:\n",
    "        val = False\n",
    "    else :\n",
    "         val = True\n",
    "    row['change'] = val\n",
    "    \n",
    "    \n",
    "    return row    \n",
    "                         \n",
    "billing_data = billing_data.apply(monthly_revenue_best, axis = 1)"
   ]
  },
  {
   "cell_type": "code",
   "execution_count": 94,
   "id": "8011a74b",
   "metadata": {
    "ExecuteTime": {
     "end_time": "2023-07-20T10:17:06.687567Z",
     "start_time": "2023-07-20T10:17:06.656649Z"
    }
   },
   "outputs": [
    {
     "data": {
      "text/html": [
       "<div>\n",
       "<style scoped>\n",
       "    .dataframe tbody tr th:only-of-type {\n",
       "        vertical-align: middle;\n",
       "    }\n",
       "\n",
       "    .dataframe tbody tr th {\n",
       "        vertical-align: top;\n",
       "    }\n",
       "\n",
       "    .dataframe thead th {\n",
       "        text-align: right;\n",
       "    }\n",
       "</style>\n",
       "<table border=\"1\" class=\"dataframe\">\n",
       "  <thead>\n",
       "    <tr style=\"text-align: right;\">\n",
       "      <th></th>\n",
       "      <th>user_id</th>\n",
       "      <th>month</th>\n",
       "      <th>tariff_plan</th>\n",
       "      <th>operator_count</th>\n",
       "      <th>out_no_internal_call_m</th>\n",
       "      <th>out_internal_call_m</th>\n",
       "      <th>in_call_m</th>\n",
       "      <th>pay</th>\n",
       "      <th>after_optimisation</th>\n",
       "      <th>optimal_tariff</th>\n",
       "      <th>change</th>\n",
       "    </tr>\n",
       "  </thead>\n",
       "  <tbody>\n",
       "    <tr>\n",
       "      <th>0</th>\n",
       "      <td>166377</td>\n",
       "      <td>8</td>\n",
       "      <td>B</td>\n",
       "      <td>5.0</td>\n",
       "      <td>1322.0</td>\n",
       "      <td>7.0</td>\n",
       "      <td>27.0</td>\n",
       "      <td>3411.0</td>\n",
       "      <td>3411.0</td>\n",
       "      <td>B</td>\n",
       "      <td>False</td>\n",
       "    </tr>\n",
       "    <tr>\n",
       "      <th>1</th>\n",
       "      <td>166377</td>\n",
       "      <td>9</td>\n",
       "      <td>B</td>\n",
       "      <td>4.0</td>\n",
       "      <td>1792.0</td>\n",
       "      <td>5.0</td>\n",
       "      <td>36.0</td>\n",
       "      <td>3496.0</td>\n",
       "      <td>3455.9</td>\n",
       "      <td>C</td>\n",
       "      <td>True</td>\n",
       "    </tr>\n",
       "    <tr>\n",
       "      <th>2</th>\n",
       "      <td>166377</td>\n",
       "      <td>10</td>\n",
       "      <td>B</td>\n",
       "      <td>5.0</td>\n",
       "      <td>1679.0</td>\n",
       "      <td>2.0</td>\n",
       "      <td>45.0</td>\n",
       "      <td>3589.5</td>\n",
       "      <td>3589.5</td>\n",
       "      <td>B</td>\n",
       "      <td>False</td>\n",
       "    </tr>\n",
       "    <tr>\n",
       "      <th>3</th>\n",
       "      <td>166377</td>\n",
       "      <td>11</td>\n",
       "      <td>B</td>\n",
       "      <td>4.0</td>\n",
       "      <td>1614.0</td>\n",
       "      <td>4.0</td>\n",
       "      <td>55.0</td>\n",
       "      <td>3407.0</td>\n",
       "      <td>3331.0</td>\n",
       "      <td>C</td>\n",
       "      <td>True</td>\n",
       "    </tr>\n",
       "    <tr>\n",
       "      <th>4</th>\n",
       "      <td>166391</td>\n",
       "      <td>8</td>\n",
       "      <td>C</td>\n",
       "      <td>2.0</td>\n",
       "      <td>0.0</td>\n",
       "      <td>1.0</td>\n",
       "      <td>5.0</td>\n",
       "      <td>1600.3</td>\n",
       "      <td>1600.3</td>\n",
       "      <td>C</td>\n",
       "      <td>False</td>\n",
       "    </tr>\n",
       "  </tbody>\n",
       "</table>\n",
       "</div>"
      ],
      "text/plain": [
       "   user_id  month tariff_plan  operator_count  out_no_internal_call_m  \\\n",
       "0   166377      8           B             5.0                  1322.0   \n",
       "1   166377      9           B             4.0                  1792.0   \n",
       "2   166377     10           B             5.0                  1679.0   \n",
       "3   166377     11           B             4.0                  1614.0   \n",
       "4   166391      8           C             2.0                     0.0   \n",
       "\n",
       "   out_internal_call_m  in_call_m     pay  after_optimisation optimal_tariff  \\\n",
       "0                  7.0       27.0  3411.0              3411.0              B   \n",
       "1                  5.0       36.0  3496.0              3455.9              C   \n",
       "2                  2.0       45.0  3589.5              3589.5              B   \n",
       "3                  4.0       55.0  3407.0              3331.0              C   \n",
       "4                  1.0        5.0  1600.3              1600.3              C   \n",
       "\n",
       "   change  \n",
       "0   False  \n",
       "1    True  \n",
       "2   False  \n",
       "3    True  \n",
       "4   False  "
      ]
     },
     "execution_count": 94,
     "metadata": {},
     "output_type": "execute_result"
    }
   ],
   "source": [
    "billing_data.head()"
   ]
  },
  {
   "cell_type": "code",
   "execution_count": 95,
   "id": "f4222733",
   "metadata": {
    "ExecuteTime": {
     "end_time": "2023-07-20T10:17:06.718484Z",
     "start_time": "2023-07-20T10:17:06.689561Z"
    }
   },
   "outputs": [
    {
     "data": {
      "text/html": [
       "<div>\n",
       "<style scoped>\n",
       "    .dataframe tbody tr th:only-of-type {\n",
       "        vertical-align: middle;\n",
       "    }\n",
       "\n",
       "    .dataframe tbody tr th {\n",
       "        vertical-align: top;\n",
       "    }\n",
       "\n",
       "    .dataframe thead th {\n",
       "        text-align: right;\n",
       "    }\n",
       "</style>\n",
       "<table border=\"1\" class=\"dataframe\">\n",
       "  <thead>\n",
       "    <tr style=\"text-align: right;\">\n",
       "      <th></th>\n",
       "      <th>user_id</th>\n",
       "      <th>after_optimisation</th>\n",
       "      <th>change</th>\n",
       "      <th>optimal_tariff</th>\n",
       "      <th>pay</th>\n",
       "    </tr>\n",
       "  </thead>\n",
       "  <tbody>\n",
       "    <tr>\n",
       "      <th>0</th>\n",
       "      <td>166377</td>\n",
       "      <td>10376.4</td>\n",
       "      <td>2</td>\n",
       "      <td>2</td>\n",
       "      <td>10492.5</td>\n",
       "    </tr>\n",
       "    <tr>\n",
       "      <th>1</th>\n",
       "      <td>166391</td>\n",
       "      <td>3600.0</td>\n",
       "      <td>0</td>\n",
       "      <td>1</td>\n",
       "      <td>3600.0</td>\n",
       "    </tr>\n",
       "    <tr>\n",
       "      <th>2</th>\n",
       "      <td>166392</td>\n",
       "      <td>4800.0</td>\n",
       "      <td>0</td>\n",
       "      <td>1</td>\n",
       "      <td>4800.0</td>\n",
       "    </tr>\n",
       "    <tr>\n",
       "      <th>3</th>\n",
       "      <td>166399</td>\n",
       "      <td>2600.0</td>\n",
       "      <td>0</td>\n",
       "      <td>1</td>\n",
       "      <td>2600.0</td>\n",
       "    </tr>\n",
       "    <tr>\n",
       "      <th>4</th>\n",
       "      <td>166405</td>\n",
       "      <td>16477.5</td>\n",
       "      <td>2</td>\n",
       "      <td>2</td>\n",
       "      <td>16913.5</td>\n",
       "    </tr>\n",
       "  </tbody>\n",
       "</table>\n",
       "</div>"
      ],
      "text/plain": [
       "   user_id  after_optimisation  change  optimal_tariff      pay\n",
       "0   166377             10376.4       2               2  10492.5\n",
       "1   166391              3600.0       0               1   3600.0\n",
       "2   166392              4800.0       0               1   4800.0\n",
       "3   166399              2600.0       0               1   2600.0\n",
       "4   166405             16477.5       2               2  16913.5"
      ]
     },
     "execution_count": 95,
     "metadata": {},
     "output_type": "execute_result"
    }
   ],
   "source": [
    "optimisation = billing_data.query('month !=8').pivot_table(\n",
    "    index = ['user_id'], values = ['pay', 'after_optimisation', 'change', 'optimal_tariff'], \n",
    "    aggfunc={\"pay\": 'sum',\n",
    "            \"after_optimisation\": 'sum',\n",
    "            'change': 'sum',\n",
    "            'optimal_tariff': 'nunique'}).reset_index()\n",
    "optimisation.head()"
   ]
  },
  {
   "cell_type": "code",
   "execution_count": 96,
   "id": "b9b76ed5",
   "metadata": {
    "ExecuteTime": {
     "end_time": "2023-07-20T10:17:06.734444Z",
     "start_time": "2023-07-20T10:17:06.719481Z"
    }
   },
   "outputs": [
    {
     "data": {
      "text/plain": [
       "[166406,\n",
       " 166407,\n",
       " 166428,\n",
       " 166495,\n",
       " 166503,\n",
       " 166520,\n",
       " 166533,\n",
       " 166536,\n",
       " 166541,\n",
       " 166548,\n",
       " 166609,\n",
       " 166658,\n",
       " 166660,\n",
       " 166678,\n",
       " 166697,\n",
       " 166711,\n",
       " 166713,\n",
       " 166725,\n",
       " 166732,\n",
       " 166774,\n",
       " 166800,\n",
       " 166813,\n",
       " 166839,\n",
       " 166843,\n",
       " 166879,\n",
       " 166884,\n",
       " 166896,\n",
       " 166899,\n",
       " 166916,\n",
       " 166971,\n",
       " 166975,\n",
       " 166983,\n",
       " 167002,\n",
       " 167004,\n",
       " 167061,\n",
       " 167071,\n",
       " 167077,\n",
       " 167078,\n",
       " 167082,\n",
       " 167109,\n",
       " 167110,\n",
       " 167150,\n",
       " 167158,\n",
       " 167172,\n",
       " 167175,\n",
       " 167185,\n",
       " 167250,\n",
       " 167263,\n",
       " 167264,\n",
       " 167265,\n",
       " 167275,\n",
       " 167338,\n",
       " 167402,\n",
       " 167436,\n",
       " 167451,\n",
       " 167475,\n",
       " 167479,\n",
       " 167487,\n",
       " 167543,\n",
       " 167621,\n",
       " 167634,\n",
       " 167654,\n",
       " 167716]"
      ]
     },
     "execution_count": 96,
     "metadata": {},
     "output_type": "execute_result"
    }
   ],
   "source": [
    "# список пользователей, которые нужно предложить сменить тариф? как активных, так и пассивных\n",
    "optim = list(optimisation.query('change == 3 and optimal_tariff ==1')['user_id'])\n",
    "optim"
   ]
  },
  {
   "cell_type": "code",
   "execution_count": 97,
   "id": "980d2b51",
   "metadata": {
    "ExecuteTime": {
     "end_time": "2023-07-20T10:17:06.749402Z",
     "start_time": "2023-07-20T10:17:06.736436Z"
    }
   },
   "outputs": [
    {
     "data": {
      "text/plain": [
       "26"
      ]
     },
     "execution_count": 97,
     "metadata": {},
     "output_type": "execute_result"
    }
   ],
   "source": [
    "# список активных клиентов, которым нужно предложить изменить тариф\n",
    "optim_active = list(set(optim) & set(active_user_id))\n",
    "len(optim_active)"
   ]
  },
  {
   "cell_type": "code",
   "execution_count": 98,
   "id": "cbfb78b0",
   "metadata": {
    "ExecuteTime": {
     "end_time": "2023-07-20T10:17:06.765361Z",
     "start_time": "2023-07-20T10:17:06.751397Z"
    }
   },
   "outputs": [
    {
     "data": {
      "text/plain": [
       "[166658,\n",
       " 166916,\n",
       " 167172,\n",
       " 166406,\n",
       " 166407,\n",
       " 166536,\n",
       " 167175,\n",
       " 166541,\n",
       " 166800,\n",
       " 166678,\n",
       " 167071,\n",
       " 167082,\n",
       " 167479,\n",
       " 167487,\n",
       " 167109,\n",
       " 166725,\n",
       " 166983,\n",
       " 167004,\n",
       " 166495,\n",
       " 167264,\n",
       " 166879,\n",
       " 166503,\n",
       " 167150,\n",
       " 166896,\n",
       " 166899,\n",
       " 166520]"
      ]
     },
     "execution_count": 98,
     "metadata": {},
     "output_type": "execute_result"
    }
   ],
   "source": [
    "optim_active"
   ]
  },
  {
   "cell_type": "markdown",
   "id": "8defb90b",
   "metadata": {
    "ExecuteTime": {
     "end_time": "2023-06-08T17:26:57.032047Z",
     "start_time": "2023-06-08T17:26:57.014488Z"
    }
   },
   "source": [
    "### Расчет текущей выручки и выручки после оптимизации тарифов."
   ]
  },
  {
   "cell_type": "code",
   "execution_count": 99,
   "id": "ec3ff1de",
   "metadata": {
    "ExecuteTime": {
     "end_time": "2023-07-20T10:17:06.797274Z",
     "start_time": "2023-07-20T10:17:06.767355Z"
    }
   },
   "outputs": [
    {
     "data": {
      "text/html": [
       "<div>\n",
       "<style scoped>\n",
       "    .dataframe tbody tr th:only-of-type {\n",
       "        vertical-align: middle;\n",
       "    }\n",
       "\n",
       "    .dataframe tbody tr th {\n",
       "        vertical-align: top;\n",
       "    }\n",
       "\n",
       "    .dataframe thead th {\n",
       "        text-align: right;\n",
       "    }\n",
       "</style>\n",
       "<table border=\"1\" class=\"dataframe\">\n",
       "  <thead>\n",
       "    <tr style=\"text-align: right;\">\n",
       "      <th></th>\n",
       "      <th>user_id</th>\n",
       "      <th>month</th>\n",
       "      <th>tariff_plan</th>\n",
       "      <th>operator_count</th>\n",
       "      <th>out_no_internal_call_m</th>\n",
       "      <th>out_internal_call_m</th>\n",
       "      <th>in_call_m</th>\n",
       "      <th>pay</th>\n",
       "      <th>after_optimisation</th>\n",
       "      <th>optimal_tariff</th>\n",
       "      <th>change</th>\n",
       "      <th>status</th>\n",
       "    </tr>\n",
       "  </thead>\n",
       "  <tbody>\n",
       "    <tr>\n",
       "      <th>0</th>\n",
       "      <td>166377</td>\n",
       "      <td>8</td>\n",
       "      <td>B</td>\n",
       "      <td>5.0</td>\n",
       "      <td>1322.0</td>\n",
       "      <td>7.0</td>\n",
       "      <td>27.0</td>\n",
       "      <td>3411.0</td>\n",
       "      <td>3411.0</td>\n",
       "      <td>B</td>\n",
       "      <td>False</td>\n",
       "      <td>активный</td>\n",
       "    </tr>\n",
       "    <tr>\n",
       "      <th>1</th>\n",
       "      <td>166377</td>\n",
       "      <td>9</td>\n",
       "      <td>B</td>\n",
       "      <td>4.0</td>\n",
       "      <td>1792.0</td>\n",
       "      <td>5.0</td>\n",
       "      <td>36.0</td>\n",
       "      <td>3496.0</td>\n",
       "      <td>3496.0</td>\n",
       "      <td>B</td>\n",
       "      <td>True</td>\n",
       "      <td>активный</td>\n",
       "    </tr>\n",
       "    <tr>\n",
       "      <th>2</th>\n",
       "      <td>166377</td>\n",
       "      <td>10</td>\n",
       "      <td>B</td>\n",
       "      <td>5.0</td>\n",
       "      <td>1679.0</td>\n",
       "      <td>2.0</td>\n",
       "      <td>45.0</td>\n",
       "      <td>3589.5</td>\n",
       "      <td>3589.5</td>\n",
       "      <td>B</td>\n",
       "      <td>False</td>\n",
       "      <td>активный</td>\n",
       "    </tr>\n",
       "    <tr>\n",
       "      <th>3</th>\n",
       "      <td>166377</td>\n",
       "      <td>11</td>\n",
       "      <td>B</td>\n",
       "      <td>4.0</td>\n",
       "      <td>1614.0</td>\n",
       "      <td>4.0</td>\n",
       "      <td>55.0</td>\n",
       "      <td>3407.0</td>\n",
       "      <td>3407.0</td>\n",
       "      <td>B</td>\n",
       "      <td>True</td>\n",
       "      <td>активный</td>\n",
       "    </tr>\n",
       "    <tr>\n",
       "      <th>4</th>\n",
       "      <td>166391</td>\n",
       "      <td>8</td>\n",
       "      <td>C</td>\n",
       "      <td>2.0</td>\n",
       "      <td>0.0</td>\n",
       "      <td>1.0</td>\n",
       "      <td>5.0</td>\n",
       "      <td>1600.3</td>\n",
       "      <td>1600.3</td>\n",
       "      <td>C</td>\n",
       "      <td>False</td>\n",
       "      <td>пассивный</td>\n",
       "    </tr>\n",
       "  </tbody>\n",
       "</table>\n",
       "</div>"
      ],
      "text/plain": [
       "   user_id  month tariff_plan  operator_count  out_no_internal_call_m  \\\n",
       "0   166377      8           B             5.0                  1322.0   \n",
       "1   166377      9           B             4.0                  1792.0   \n",
       "2   166377     10           B             5.0                  1679.0   \n",
       "3   166377     11           B             4.0                  1614.0   \n",
       "4   166391      8           C             2.0                     0.0   \n",
       "\n",
       "   out_internal_call_m  in_call_m     pay  after_optimisation optimal_tariff  \\\n",
       "0                  7.0       27.0  3411.0              3411.0              B   \n",
       "1                  5.0       36.0  3496.0              3496.0              B   \n",
       "2                  2.0       45.0  3589.5              3589.5              B   \n",
       "3                  4.0       55.0  3407.0              3407.0              B   \n",
       "4                  1.0        5.0  1600.3              1600.3              C   \n",
       "\n",
       "   change     status  \n",
       "0   False   активный  \n",
       "1    True   активный  \n",
       "2   False   активный  \n",
       "3    True   активный  \n",
       "4   False  пассивный  "
      ]
     },
     "execution_count": 99,
     "metadata": {},
     "output_type": "execute_result"
    }
   ],
   "source": [
    "billing_data.loc[~billing_data['user_id'].isin(optim_active),  'after_optimisation'] = billing_data['pay']\n",
    "billing_data.loc[~billing_data['user_id'].isin(optim_active),  'optimal_tariff'] = billing_data['tariff_plan']\n",
    "billing_data.loc[~billing_data['user_id'].isin(active_user_id),  'status'] = 'пассивный'\n",
    "billing_data.loc[billing_data['user_id'].isin(active_user_id),  'status'] = 'активный'\n",
    "billing_data.head()"
   ]
  },
  {
   "cell_type": "code",
   "execution_count": 100,
   "id": "f9deb193",
   "metadata": {
    "ExecuteTime": {
     "end_time": "2023-07-20T10:17:06.813232Z",
     "start_time": "2023-07-20T10:17:06.799269Z"
    }
   },
   "outputs": [],
   "source": [
    "income_before_optimisation = billing_data.loc[((billing_data['month'] == first_month) \n",
    "| (billing_data['month'] == second_month) \n",
    "| (billing_data['month'] == third_month)), 'pay' ]\n",
    "\n",
    "income_after_optimisation = billing_data.loc[((billing_data['month'] == first_month) \n",
    "| (billing_data['month'] == second_month) \n",
    "| (billing_data['month'] == third_month)), 'after_optimisation' ]\n"
   ]
  },
  {
   "cell_type": "code",
   "execution_count": 101,
   "id": "30af85e7",
   "metadata": {
    "ExecuteTime": {
     "end_time": "2023-07-20T10:17:06.829214Z",
     "start_time": "2023-07-20T10:17:06.814228Z"
    }
   },
   "outputs": [
    {
     "name": "stdout",
     "output_type": "stream",
     "text": [
      "Для исследования был выбран период с 9 по 11 месяц. \n",
      "Выручка до оптимизации тарифов за данный период составила : 1788925.4499999997\n",
      "Выручка после оптимизации тарифов за данный период составила: 1722596.75\n",
      "Сокращение выручки составило: 66328.7 рублей или 3.71% \n"
     ]
    }
   ],
   "source": [
    "print(f'''Для исследования был выбран период с {first_month} по {third_month} месяц. \n",
    "Выручка до оптимизации тарифов за данный период составила : {income_before_optimisation.sum()}\n",
    "Выручка после оптимизации тарифов за данный период составила: {income_after_optimisation.sum()}\n",
    "Сокращение выручки составило: {round(income_before_optimisation.sum() - income_after_optimisation.sum(), 2)} рублей или {\n",
    "round(((income_before_optimisation.sum() - income_after_optimisation.sum())/income_before_optimisation.sum())*100, 2)}% ''') "
   ]
  },
  {
   "cell_type": "markdown",
   "id": "bc3f6129",
   "metadata": {
    "ExecuteTime": {
     "end_time": "2023-06-08T17:27:31.120116Z",
     "start_time": "2023-06-08T17:27:31.111174Z"
    }
   },
   "source": [
    "### Проверка гипотезы \"Средние затраты киентов не изменились после оптимизации\"."
   ]
  },
  {
   "cell_type": "markdown",
   "id": "22310c1e",
   "metadata": {},
   "source": [
    "Н0 \"Средние затраты активного пользователя на услуги компании до и после оптимизации не отличаются\"\n",
    "\n",
    "Н1 \"Средние затраты активного пользователя на услуги компании после оптимизации уменьшились\""
   ]
  },
  {
   "cell_type": "code",
   "execution_count": 102,
   "id": "78f860c5",
   "metadata": {
    "ExecuteTime": {
     "end_time": "2023-07-20T10:17:06.845147Z",
     "start_time": "2023-07-20T10:17:06.831183Z"
    }
   },
   "outputs": [
    {
     "name": "stdout",
     "output_type": "stream",
     "text": [
      "p-значение:  0.0807109922236971\n",
      "Не получилось отвергнуть нулевую гипотезу, вывод о различии сделать нельзя\n"
     ]
    }
   ],
   "source": [
    "alpha = 0.05  \n",
    "\n",
    "results = st.mannwhitneyu(list(income_before_optimisation),  list(income_after_optimisation),  True, 'greater')\n",
    "\n",
    "print('p-значение: ', results.pvalue)\n",
    "\n",
    "if results.pvalue < alpha:\n",
    "    print('Отвергаем нулевую гипотезу: разница статистически значима')\n",
    "else:\n",
    "    print(\n",
    "        'Не получилось отвергнуть нулевую гипотезу, вывод о различии сделать нельзя'\n",
    "    ) \n"
   ]
  },
  {
   "cell_type": "markdown",
   "id": "6800fc48",
   "metadata": {},
   "source": [
    "Cтатистическая значимость различий в средних затратах клиентов до и после оптимизации не обнаружена.\n",
    "Изменение тарифа у 26 активных клиента на оптимальный не значительно оказало влияние на выручку."
   ]
  },
  {
   "cell_type": "markdown",
   "id": "92cb888b",
   "metadata": {},
   "source": [
    "### Оценка деятельности компании"
   ]
  },
  {
   "cell_type": "markdown",
   "id": "f6e9a28b",
   "metadata": {
    "ExecuteTime": {
     "end_time": "2023-06-09T11:07:23.071099Z",
     "start_time": "2023-06-09T11:07:23.056140Z"
    }
   },
   "source": [
    "**ARPU** (средняя выручка (за месяц) в расчёте на одного клиента)"
   ]
  },
  {
   "cell_type": "code",
   "execution_count": 103,
   "id": "7d428bda",
   "metadata": {
    "ExecuteTime": {
     "end_time": "2023-07-20T10:17:06.876063Z",
     "start_time": "2023-07-20T10:17:06.847141Z"
    }
   },
   "outputs": [
    {
     "data": {
      "text/html": [
       "<div>\n",
       "<style scoped>\n",
       "    .dataframe tbody tr th:only-of-type {\n",
       "        vertical-align: middle;\n",
       "    }\n",
       "\n",
       "    .dataframe tbody tr th {\n",
       "        vertical-align: top;\n",
       "    }\n",
       "\n",
       "    .dataframe thead th {\n",
       "        text-align: right;\n",
       "    }\n",
       "</style>\n",
       "<table border=\"1\" class=\"dataframe\">\n",
       "  <thead>\n",
       "    <tr style=\"text-align: right;\">\n",
       "      <th></th>\n",
       "      <th>pay</th>\n",
       "      <th>user_id</th>\n",
       "      <th>arpu</th>\n",
       "    </tr>\n",
       "    <tr>\n",
       "      <th>month</th>\n",
       "      <th></th>\n",
       "      <th></th>\n",
       "      <th></th>\n",
       "    </tr>\n",
       "  </thead>\n",
       "  <tbody>\n",
       "    <tr>\n",
       "      <th>8</th>\n",
       "      <td>187539.60</td>\n",
       "      <td>84</td>\n",
       "      <td>2232.61</td>\n",
       "    </tr>\n",
       "    <tr>\n",
       "      <th>9</th>\n",
       "      <td>422674.70</td>\n",
       "      <td>172</td>\n",
       "      <td>2457.41</td>\n",
       "    </tr>\n",
       "    <tr>\n",
       "      <th>10</th>\n",
       "      <td>681319.10</td>\n",
       "      <td>272</td>\n",
       "      <td>2504.85</td>\n",
       "    </tr>\n",
       "    <tr>\n",
       "      <th>11</th>\n",
       "      <td>684931.65</td>\n",
       "      <td>260</td>\n",
       "      <td>2634.35</td>\n",
       "    </tr>\n",
       "  </tbody>\n",
       "</table>\n",
       "</div>"
      ],
      "text/plain": [
       "             pay  user_id     arpu\n",
       "month                             \n",
       "8      187539.60       84  2232.61\n",
       "9      422674.70      172  2457.41\n",
       "10     681319.10      272  2504.85\n",
       "11     684931.65      260  2634.35"
      ]
     },
     "execution_count": 103,
     "metadata": {},
     "output_type": "execute_result"
    }
   ],
   "source": [
    "arpu = billing_data.pivot_table(index= 'month', values = ['pay', 'user_id' ] , aggfunc = ({'user_id': \"nunique\",'pay': 'sum' }))\n",
    "arpu['arpu'] = round(arpu['pay']/arpu['user_id'], 2)\n",
    "arpu"
   ]
  },
  {
   "cell_type": "code",
   "execution_count": 105,
   "id": "11983425",
   "metadata": {
    "ExecuteTime": {
     "end_time": "2023-07-20T10:17:07.287961Z",
     "start_time": "2023-07-20T10:17:06.924933Z"
    }
   },
   "outputs": [
    {
     "data": {
      "image/png": "[encoded data removed]",
      "text/plain": [
       "<Figure size 1600x600 with 2 Axes>"
      ]
     },
     "metadata": {},
     "output_type": "display_data"
    }
   ],
   "source": [
    "fig, (ax1, ax2) = plt.subplots(1, 2, figsize=(16, 6))\n",
    "sns.set_style(\"whitegrid\")\n",
    "sns.barplot(x=month, y=arpu['arpu'].values, color='blue', alpha=0.7, ax=ax1)\n",
    "ax1.set_ylabel('ARPU, руб.')\n",
    "ax1.set_ylim([0, 3000])\n",
    "ax1.set_title('Средняя выручка по месяцам в расчёте на одного клиента')\n",
    "ax1.set_xlabel('Месяц')\n",
    "\n",
    "sns.lineplot(x=month, y=arpu['user_id'].values, color='red', ax=ax2)\n",
    "ax2.set_ylabel('Количество клиентов')\n",
    "ax2.set_ylim([0, 300])\n",
    "ax2.set_title('Количество клиентов по месяцам')\n",
    "ax2.set_xlabel('Месяц')\n",
    "\n",
    "plt.show()"
   ]
  },
  {
   "cell_type": "markdown",
   "id": "b523d30a",
   "metadata": {},
   "source": [
    "**ARPM** (Average Revenue Per Minute) – средняя выручка на одну минуту разговора"
   ]
  },
  {
   "cell_type": "code",
   "execution_count": 106,
   "id": "0b8e0350",
   "metadata": {
    "ExecuteTime": {
     "end_time": "2023-07-20T10:17:07.318880Z",
     "start_time": "2023-07-20T10:17:07.289956Z"
    }
   },
   "outputs": [
    {
     "data": {
      "text/html": [
       "<div>\n",
       "<style scoped>\n",
       "    .dataframe tbody tr th:only-of-type {\n",
       "        vertical-align: middle;\n",
       "    }\n",
       "\n",
       "    .dataframe tbody tr th {\n",
       "        vertical-align: top;\n",
       "    }\n",
       "\n",
       "    .dataframe thead th {\n",
       "        text-align: right;\n",
       "    }\n",
       "</style>\n",
       "<table border=\"1\" class=\"dataframe\">\n",
       "  <thead>\n",
       "    <tr style=\"text-align: right;\">\n",
       "      <th></th>\n",
       "      <th>user_id</th>\n",
       "      <th>month</th>\n",
       "      <th>tariff_plan</th>\n",
       "      <th>operator_count</th>\n",
       "      <th>out_no_internal_call_m</th>\n",
       "      <th>out_internal_call_m</th>\n",
       "      <th>in_call_m</th>\n",
       "      <th>pay</th>\n",
       "      <th>after_optimisation</th>\n",
       "      <th>optimal_tariff</th>\n",
       "      <th>change</th>\n",
       "      <th>status</th>\n",
       "    </tr>\n",
       "  </thead>\n",
       "  <tbody>\n",
       "    <tr>\n",
       "      <th>0</th>\n",
       "      <td>166377</td>\n",
       "      <td>8</td>\n",
       "      <td>B</td>\n",
       "      <td>5.0</td>\n",
       "      <td>1322.0</td>\n",
       "      <td>7.0</td>\n",
       "      <td>27.0</td>\n",
       "      <td>3411.0</td>\n",
       "      <td>3411.0</td>\n",
       "      <td>B</td>\n",
       "      <td>False</td>\n",
       "      <td>активный</td>\n",
       "    </tr>\n",
       "    <tr>\n",
       "      <th>1</th>\n",
       "      <td>166377</td>\n",
       "      <td>9</td>\n",
       "      <td>B</td>\n",
       "      <td>4.0</td>\n",
       "      <td>1792.0</td>\n",
       "      <td>5.0</td>\n",
       "      <td>36.0</td>\n",
       "      <td>3496.0</td>\n",
       "      <td>3496.0</td>\n",
       "      <td>B</td>\n",
       "      <td>True</td>\n",
       "      <td>активный</td>\n",
       "    </tr>\n",
       "    <tr>\n",
       "      <th>2</th>\n",
       "      <td>166377</td>\n",
       "      <td>10</td>\n",
       "      <td>B</td>\n",
       "      <td>5.0</td>\n",
       "      <td>1679.0</td>\n",
       "      <td>2.0</td>\n",
       "      <td>45.0</td>\n",
       "      <td>3589.5</td>\n",
       "      <td>3589.5</td>\n",
       "      <td>B</td>\n",
       "      <td>False</td>\n",
       "      <td>активный</td>\n",
       "    </tr>\n",
       "    <tr>\n",
       "      <th>3</th>\n",
       "      <td>166377</td>\n",
       "      <td>11</td>\n",
       "      <td>B</td>\n",
       "      <td>4.0</td>\n",
       "      <td>1614.0</td>\n",
       "      <td>4.0</td>\n",
       "      <td>55.0</td>\n",
       "      <td>3407.0</td>\n",
       "      <td>3407.0</td>\n",
       "      <td>B</td>\n",
       "      <td>True</td>\n",
       "      <td>активный</td>\n",
       "    </tr>\n",
       "    <tr>\n",
       "      <th>4</th>\n",
       "      <td>166391</td>\n",
       "      <td>8</td>\n",
       "      <td>C</td>\n",
       "      <td>2.0</td>\n",
       "      <td>0.0</td>\n",
       "      <td>1.0</td>\n",
       "      <td>5.0</td>\n",
       "      <td>1600.3</td>\n",
       "      <td>1600.3</td>\n",
       "      <td>C</td>\n",
       "      <td>False</td>\n",
       "      <td>пассивный</td>\n",
       "    </tr>\n",
       "    <tr>\n",
       "      <th>...</th>\n",
       "      <td>...</td>\n",
       "      <td>...</td>\n",
       "      <td>...</td>\n",
       "      <td>...</td>\n",
       "      <td>...</td>\n",
       "      <td>...</td>\n",
       "      <td>...</td>\n",
       "      <td>...</td>\n",
       "      <td>...</td>\n",
       "      <td>...</td>\n",
       "      <td>...</td>\n",
       "      <td>...</td>\n",
       "    </tr>\n",
       "    <tr>\n",
       "      <th>783</th>\n",
       "      <td>168583</td>\n",
       "      <td>11</td>\n",
       "      <td>B</td>\n",
       "      <td>2.0</td>\n",
       "      <td>0.0</td>\n",
       "      <td>0.0</td>\n",
       "      <td>20.0</td>\n",
       "      <td>2300.0</td>\n",
       "      <td>2300.0</td>\n",
       "      <td>B</td>\n",
       "      <td>True</td>\n",
       "      <td>пассивный</td>\n",
       "    </tr>\n",
       "    <tr>\n",
       "      <th>784</th>\n",
       "      <td>168598</td>\n",
       "      <td>11</td>\n",
       "      <td>C</td>\n",
       "      <td>1.0</td>\n",
       "      <td>0.0</td>\n",
       "      <td>0.0</td>\n",
       "      <td>76.0</td>\n",
       "      <td>1300.0</td>\n",
       "      <td>1300.0</td>\n",
       "      <td>C</td>\n",
       "      <td>False</td>\n",
       "      <td>пассивный</td>\n",
       "    </tr>\n",
       "    <tr>\n",
       "      <th>785</th>\n",
       "      <td>168601</td>\n",
       "      <td>11</td>\n",
       "      <td>C</td>\n",
       "      <td>2.0</td>\n",
       "      <td>564.0</td>\n",
       "      <td>0.0</td>\n",
       "      <td>147.0</td>\n",
       "      <td>1994.8</td>\n",
       "      <td>1994.8</td>\n",
       "      <td>C</td>\n",
       "      <td>False</td>\n",
       "      <td>пассивный</td>\n",
       "    </tr>\n",
       "    <tr>\n",
       "      <th>786</th>\n",
       "      <td>168603</td>\n",
       "      <td>11</td>\n",
       "      <td>B</td>\n",
       "      <td>1.0</td>\n",
       "      <td>22.0</td>\n",
       "      <td>0.0</td>\n",
       "      <td>0.0</td>\n",
       "      <td>2161.0</td>\n",
       "      <td>2161.0</td>\n",
       "      <td>B</td>\n",
       "      <td>True</td>\n",
       "      <td>пассивный</td>\n",
       "    </tr>\n",
       "    <tr>\n",
       "      <th>787</th>\n",
       "      <td>168606</td>\n",
       "      <td>11</td>\n",
       "      <td>C</td>\n",
       "      <td>1.0</td>\n",
       "      <td>17.0</td>\n",
       "      <td>65.0</td>\n",
       "      <td>12.0</td>\n",
       "      <td>1331.4</td>\n",
       "      <td>1331.4</td>\n",
       "      <td>C</td>\n",
       "      <td>False</td>\n",
       "      <td>пассивный</td>\n",
       "    </tr>\n",
       "  </tbody>\n",
       "</table>\n",
       "<p>788 rows × 12 columns</p>\n",
       "</div>"
      ],
      "text/plain": [
       "     user_id  month tariff_plan  operator_count  out_no_internal_call_m  \\\n",
       "0     166377      8           B             5.0                  1322.0   \n",
       "1     166377      9           B             4.0                  1792.0   \n",
       "2     166377     10           B             5.0                  1679.0   \n",
       "3     166377     11           B             4.0                  1614.0   \n",
       "4     166391      8           C             2.0                     0.0   \n",
       "..       ...    ...         ...             ...                     ...   \n",
       "783   168583     11           B             2.0                     0.0   \n",
       "784   168598     11           C             1.0                     0.0   \n",
       "785   168601     11           C             2.0                   564.0   \n",
       "786   168603     11           B             1.0                    22.0   \n",
       "787   168606     11           C             1.0                    17.0   \n",
       "\n",
       "     out_internal_call_m  in_call_m     pay  after_optimisation  \\\n",
       "0                    7.0       27.0  3411.0              3411.0   \n",
       "1                    5.0       36.0  3496.0              3496.0   \n",
       "2                    2.0       45.0  3589.5              3589.5   \n",
       "3                    4.0       55.0  3407.0              3407.0   \n",
       "4                    1.0        5.0  1600.3              1600.3   \n",
       "..                   ...        ...     ...                 ...   \n",
       "783                  0.0       20.0  2300.0              2300.0   \n",
       "784                  0.0       76.0  1300.0              1300.0   \n",
       "785                  0.0      147.0  1994.8              1994.8   \n",
       "786                  0.0        0.0  2161.0              2161.0   \n",
       "787                 65.0       12.0  1331.4              1331.4   \n",
       "\n",
       "    optimal_tariff  change     status  \n",
       "0                B   False   активный  \n",
       "1                B    True   активный  \n",
       "2                B   False   активный  \n",
       "3                B    True   активный  \n",
       "4                C   False  пассивный  \n",
       "..             ...     ...        ...  \n",
       "783              B    True  пассивный  \n",
       "784              C   False  пассивный  \n",
       "785              C   False  пассивный  \n",
       "786              B    True  пассивный  \n",
       "787              C   False  пассивный  \n",
       "\n",
       "[788 rows x 12 columns]"
      ]
     },
     "execution_count": 106,
     "metadata": {},
     "output_type": "execute_result"
    }
   ],
   "source": [
    "billing_data"
   ]
  },
  {
   "cell_type": "code",
   "execution_count": 107,
   "id": "1c5992e9",
   "metadata": {
    "ExecuteTime": {
     "end_time": "2023-07-20T10:17:07.349799Z",
     "start_time": "2023-07-20T10:17:07.319876Z"
    },
    "scrolled": true
   },
   "outputs": [
    {
     "data": {
      "text/html": [
       "<div>\n",
       "<style scoped>\n",
       "    .dataframe tbody tr th:only-of-type {\n",
       "        vertical-align: middle;\n",
       "    }\n",
       "\n",
       "    .dataframe tbody tr th {\n",
       "        vertical-align: top;\n",
       "    }\n",
       "\n",
       "    .dataframe thead th {\n",
       "        text-align: right;\n",
       "    }\n",
       "</style>\n",
       "<table border=\"1\" class=\"dataframe\">\n",
       "  <thead>\n",
       "    <tr style=\"text-align: right;\">\n",
       "      <th></th>\n",
       "      <th>in_call_m</th>\n",
       "      <th>out_internal_call_m</th>\n",
       "      <th>out_no_internal_call_m</th>\n",
       "      <th>pay</th>\n",
       "      <th>total_m</th>\n",
       "      <th>ARPM</th>\n",
       "    </tr>\n",
       "    <tr>\n",
       "      <th>month</th>\n",
       "      <th></th>\n",
       "      <th></th>\n",
       "      <th></th>\n",
       "      <th></th>\n",
       "      <th></th>\n",
       "      <th></th>\n",
       "    </tr>\n",
       "  </thead>\n",
       "  <tbody>\n",
       "    <tr>\n",
       "      <th>8</th>\n",
       "      <td>3260.0</td>\n",
       "      <td>108.0</td>\n",
       "      <td>16751.0</td>\n",
       "      <td>187539.60</td>\n",
       "      <td>20119.0</td>\n",
       "      <td>9.32</td>\n",
       "    </tr>\n",
       "    <tr>\n",
       "      <th>9</th>\n",
       "      <td>20087.0</td>\n",
       "      <td>1745.0</td>\n",
       "      <td>87368.0</td>\n",
       "      <td>422674.70</td>\n",
       "      <td>109200.0</td>\n",
       "      <td>3.87</td>\n",
       "    </tr>\n",
       "    <tr>\n",
       "      <th>10</th>\n",
       "      <td>54267.0</td>\n",
       "      <td>3578.0</td>\n",
       "      <td>201248.0</td>\n",
       "      <td>681319.10</td>\n",
       "      <td>259093.0</td>\n",
       "      <td>2.63</td>\n",
       "    </tr>\n",
       "    <tr>\n",
       "      <th>11</th>\n",
       "      <td>84056.0</td>\n",
       "      <td>6977.0</td>\n",
       "      <td>233721.0</td>\n",
       "      <td>684931.65</td>\n",
       "      <td>324754.0</td>\n",
       "      <td>2.11</td>\n",
       "    </tr>\n",
       "  </tbody>\n",
       "</table>\n",
       "</div>"
      ],
      "text/plain": [
       "       in_call_m  out_internal_call_m  out_no_internal_call_m        pay  \\\n",
       "month                                                                      \n",
       "8         3260.0                108.0                 16751.0  187539.60   \n",
       "9        20087.0               1745.0                 87368.0  422674.70   \n",
       "10       54267.0               3578.0                201248.0  681319.10   \n",
       "11       84056.0               6977.0                233721.0  684931.65   \n",
       "\n",
       "        total_m  ARPM  \n",
       "month                  \n",
       "8       20119.0  9.32  \n",
       "9      109200.0  3.87  \n",
       "10     259093.0  2.63  \n",
       "11     324754.0  2.11  "
      ]
     },
     "execution_count": 107,
     "metadata": {},
     "output_type": "execute_result"
    }
   ],
   "source": [
    "ARPM = billing_data.pivot_table(index= 'month', \n",
    "                                values = ['pay', 'in_call_m', 'out_no_internal_call_m', 'out_internal_call_m'] , \n",
    "                                aggfunc =  'sum')\n",
    "ARPM['total_m'] = ARPM['in_call_m']+ARPM['out_no_internal_call_m']+ARPM['out_internal_call_m']\n",
    "\n",
    "ARPM['ARPM'] = round(ARPM['pay']/(ARPM['total_m']), 2)\n",
    "\n",
    "ARPM"
   ]
  },
  {
   "cell_type": "code",
   "execution_count": 108,
   "id": "13b32fa0",
   "metadata": {
    "ExecuteTime": {
     "end_time": "2023-07-20T10:17:07.714854Z",
     "start_time": "2023-07-20T10:17:07.351791Z"
    }
   },
   "outputs": [
    {
     "data": {
      "image/png": "[encoded data removed]",
      "text/plain": [
       "<Figure size 1600x600 with 2 Axes>"
      ]
     },
     "metadata": {},
     "output_type": "display_data"
    }
   ],
   "source": [
    "fig, (ax1, ax2) = plt.subplots(1, 2, figsize=(16, 6))\n",
    "sns.set_style(\"whitegrid\")\n",
    "sns.barplot(x=ARPM.index, y=ARPM['ARPM'].values, color='blue', alpha=0.7, ax=ax1)\n",
    "ax1.set_ylabel('ARPM, руб.')\n",
    "ax1.set_ylim([0, 10])\n",
    "ax1.set_title('Средняя выручка на одну минуту разговора')\n",
    "ax1.set_xlabel('Месяц')\n",
    "\n",
    "sns.lineplot(x=ARPM.index, y=ARPM['total_m'], color='red', ax=ax2)\n",
    "ax2.set_ylabel('Количество минут')\n",
    "ax2.set_ylim([16000, 350000])\n",
    "ax2.set_title('Количество минут разговоров по месяцам')\n",
    "ax2.set_xlabel('Месяц')\n",
    "plt.show()"
   ]
  },
  {
   "cell_type": "markdown",
   "id": "cf23225e",
   "metadata": {},
   "source": [
    "### Изучение потребительского поведения неактивных и активных клиентов."
   ]
  },
  {
   "cell_type": "code",
   "execution_count": 110,
   "id": "ea02f19a",
   "metadata": {
    "ExecuteTime": {
     "end_time": "2023-07-20T10:17:07.856474Z",
     "start_time": "2023-07-20T10:17:07.748731Z"
    }
   },
   "outputs": [
    {
     "data": {
      "image/png": "[encoded data removed]",
      "text/plain": [
       "<Figure size 640x480 with 1 Axes>"
      ]
     },
     "metadata": {},
     "output_type": "display_data"
    }
   ],
   "source": [
    "colors = sns.color_palette('pastel')[ 0:2 ]\n",
    "plt.pie(billing_data[['user_id', 'status']].drop_duplicates().status.value_counts(), \n",
    "        labels=billing_data[['user_id', 'status']].drop_duplicates().status.value_counts().index, \n",
    "        autopct='%1.1f%%',\n",
    "       colors= colors)\n",
    "plt.title('Распределение клиентов');"
   ]
  },
  {
   "cell_type": "code",
   "execution_count": 113,
   "id": "fb5c5d4e",
   "metadata": {
    "ExecuteTime": {
     "end_time": "2023-07-20T10:17:07.984133Z",
     "start_time": "2023-07-20T10:17:07.955179Z"
    }
   },
   "outputs": [
    {
     "data": {
      "text/html": [
       "<div>\n",
       "<style scoped>\n",
       "    .dataframe tbody tr th:only-of-type {\n",
       "        vertical-align: middle;\n",
       "    }\n",
       "\n",
       "    .dataframe tbody tr th {\n",
       "        vertical-align: top;\n",
       "    }\n",
       "\n",
       "    .dataframe thead th {\n",
       "        text-align: right;\n",
       "    }\n",
       "</style>\n",
       "<table border=\"1\" class=\"dataframe\">\n",
       "  <thead>\n",
       "    <tr style=\"text-align: right;\">\n",
       "      <th></th>\n",
       "      <th>tariff_plan</th>\n",
       "      <th>status</th>\n",
       "      <th>month</th>\n",
       "      <th>out_no_internal_call_m</th>\n",
       "    </tr>\n",
       "  </thead>\n",
       "  <tbody>\n",
       "    <tr>\n",
       "      <th>0</th>\n",
       "      <td>A</td>\n",
       "      <td>активный</td>\n",
       "      <td>8</td>\n",
       "      <td>51.0</td>\n",
       "    </tr>\n",
       "    <tr>\n",
       "      <th>1</th>\n",
       "      <td>A</td>\n",
       "      <td>активный</td>\n",
       "      <td>9</td>\n",
       "      <td>479.0</td>\n",
       "    </tr>\n",
       "    <tr>\n",
       "      <th>2</th>\n",
       "      <td>A</td>\n",
       "      <td>активный</td>\n",
       "      <td>10</td>\n",
       "      <td>2483.0</td>\n",
       "    </tr>\n",
       "    <tr>\n",
       "      <th>3</th>\n",
       "      <td>A</td>\n",
       "      <td>активный</td>\n",
       "      <td>11</td>\n",
       "      <td>2425.0</td>\n",
       "    </tr>\n",
       "    <tr>\n",
       "      <th>4</th>\n",
       "      <td>A</td>\n",
       "      <td>пассивный</td>\n",
       "      <td>8</td>\n",
       "      <td>169.0</td>\n",
       "    </tr>\n",
       "    <tr>\n",
       "      <th>5</th>\n",
       "      <td>A</td>\n",
       "      <td>пассивный</td>\n",
       "      <td>9</td>\n",
       "      <td>21442.0</td>\n",
       "    </tr>\n",
       "    <tr>\n",
       "      <th>6</th>\n",
       "      <td>A</td>\n",
       "      <td>пассивный</td>\n",
       "      <td>10</td>\n",
       "      <td>88628.0</td>\n",
       "    </tr>\n",
       "    <tr>\n",
       "      <th>7</th>\n",
       "      <td>A</td>\n",
       "      <td>пассивный</td>\n",
       "      <td>11</td>\n",
       "      <td>117787.0</td>\n",
       "    </tr>\n",
       "    <tr>\n",
       "      <th>8</th>\n",
       "      <td>B</td>\n",
       "      <td>активный</td>\n",
       "      <td>8</td>\n",
       "      <td>12454.0</td>\n",
       "    </tr>\n",
       "    <tr>\n",
       "      <th>9</th>\n",
       "      <td>B</td>\n",
       "      <td>активный</td>\n",
       "      <td>9</td>\n",
       "      <td>24145.0</td>\n",
       "    </tr>\n",
       "    <tr>\n",
       "      <th>10</th>\n",
       "      <td>B</td>\n",
       "      <td>активный</td>\n",
       "      <td>10</td>\n",
       "      <td>32564.0</td>\n",
       "    </tr>\n",
       "    <tr>\n",
       "      <th>11</th>\n",
       "      <td>B</td>\n",
       "      <td>активный</td>\n",
       "      <td>11</td>\n",
       "      <td>33803.0</td>\n",
       "    </tr>\n",
       "    <tr>\n",
       "      <th>12</th>\n",
       "      <td>B</td>\n",
       "      <td>пассивный</td>\n",
       "      <td>8</td>\n",
       "      <td>1809.0</td>\n",
       "    </tr>\n",
       "    <tr>\n",
       "      <th>13</th>\n",
       "      <td>B</td>\n",
       "      <td>пассивный</td>\n",
       "      <td>9</td>\n",
       "      <td>4644.0</td>\n",
       "    </tr>\n",
       "    <tr>\n",
       "      <th>14</th>\n",
       "      <td>B</td>\n",
       "      <td>пассивный</td>\n",
       "      <td>10</td>\n",
       "      <td>15500.0</td>\n",
       "    </tr>\n",
       "    <tr>\n",
       "      <th>15</th>\n",
       "      <td>B</td>\n",
       "      <td>пассивный</td>\n",
       "      <td>11</td>\n",
       "      <td>22767.0</td>\n",
       "    </tr>\n",
       "    <tr>\n",
       "      <th>16</th>\n",
       "      <td>C</td>\n",
       "      <td>активный</td>\n",
       "      <td>8</td>\n",
       "      <td>1327.0</td>\n",
       "    </tr>\n",
       "    <tr>\n",
       "      <th>17</th>\n",
       "      <td>C</td>\n",
       "      <td>активный</td>\n",
       "      <td>9</td>\n",
       "      <td>18770.0</td>\n",
       "    </tr>\n",
       "    <tr>\n",
       "      <th>18</th>\n",
       "      <td>C</td>\n",
       "      <td>активный</td>\n",
       "      <td>10</td>\n",
       "      <td>27028.0</td>\n",
       "    </tr>\n",
       "    <tr>\n",
       "      <th>19</th>\n",
       "      <td>C</td>\n",
       "      <td>активный</td>\n",
       "      <td>11</td>\n",
       "      <td>19289.0</td>\n",
       "    </tr>\n",
       "    <tr>\n",
       "      <th>20</th>\n",
       "      <td>C</td>\n",
       "      <td>пассивный</td>\n",
       "      <td>8</td>\n",
       "      <td>941.0</td>\n",
       "    </tr>\n",
       "    <tr>\n",
       "      <th>21</th>\n",
       "      <td>C</td>\n",
       "      <td>пассивный</td>\n",
       "      <td>9</td>\n",
       "      <td>17888.0</td>\n",
       "    </tr>\n",
       "    <tr>\n",
       "      <th>22</th>\n",
       "      <td>C</td>\n",
       "      <td>пассивный</td>\n",
       "      <td>10</td>\n",
       "      <td>35045.0</td>\n",
       "    </tr>\n",
       "    <tr>\n",
       "      <th>23</th>\n",
       "      <td>C</td>\n",
       "      <td>пассивный</td>\n",
       "      <td>11</td>\n",
       "      <td>37650.0</td>\n",
       "    </tr>\n",
       "  </tbody>\n",
       "</table>\n",
       "</div>"
      ],
      "text/plain": [
       "   tariff_plan     status  month  out_no_internal_call_m\n",
       "0            A   активный      8                    51.0\n",
       "1            A   активный      9                   479.0\n",
       "2            A   активный     10                  2483.0\n",
       "3            A   активный     11                  2425.0\n",
       "4            A  пассивный      8                   169.0\n",
       "5            A  пассивный      9                 21442.0\n",
       "6            A  пассивный     10                 88628.0\n",
       "7            A  пассивный     11                117787.0\n",
       "8            B   активный      8                 12454.0\n",
       "9            B   активный      9                 24145.0\n",
       "10           B   активный     10                 32564.0\n",
       "11           B   активный     11                 33803.0\n",
       "12           B  пассивный      8                  1809.0\n",
       "13           B  пассивный      9                  4644.0\n",
       "14           B  пассивный     10                 15500.0\n",
       "15           B  пассивный     11                 22767.0\n",
       "16           C   активный      8                  1327.0\n",
       "17           C   активный      9                 18770.0\n",
       "18           C   активный     10                 27028.0\n",
       "19           C   активный     11                 19289.0\n",
       "20           C  пассивный      8                   941.0\n",
       "21           C  пассивный      9                 17888.0\n",
       "22           C  пассивный     10                 35045.0\n",
       "23           C  пассивный     11                 37650.0"
      ]
     },
     "execution_count": 113,
     "metadata": {},
     "output_type": "execute_result"
    }
   ],
   "source": [
    "pivot_out_no_internal = billing_data.pivot_table(\n",
    "    index= ['tariff_plan', 'status', 'month'], values ='out_no_internal_call_m', aggfunc='sum' ).reset_index()\n",
    "pivot_out_no_internal"
   ]
  },
  {
   "cell_type": "code",
   "execution_count": 114,
   "id": "fa62a988",
   "metadata": {
    "ExecuteTime": {
     "end_time": "2023-07-20T10:17:08.377083Z",
     "start_time": "2023-07-20T10:17:07.986096Z"
    }
   },
   "outputs": [
    {
     "data": {
      "image/png": "[encoded data removed]",
      "text/plain": [
       "<Figure size 1700x600 with 1 Axes>"
      ]
     },
     "metadata": {},
     "output_type": "display_data"
    }
   ],
   "source": [
    "#посмотрим в разрезе тарифов распределение времени\n",
    "fig, ax = plt.subplots(1, 1, figsize=(17, 6))\n",
    "sns.boxplot(data=billing_data.sort_values(by = ['month','tariff_plan']), \n",
    "            x=\"month\", y=\"out_no_internal_call_m\", hue=\"status\" )\n",
    "\n",
    "plt.title('Распределение времени, истраченного клиентами на исходящие внешние вызовы')\n",
    "plt.ylabel('Количество минут')\n",
    "plt.xlabel('Месяц')\n",
    "ax.set_ylim([0, 4000])\n",
    "plt.show()"
   ]
  },
  {
   "cell_type": "markdown",
   "id": "119d6ea2",
   "metadata": {},
   "source": [
    "Активные пользователи значительно больше тратят времени на исходящие внешние вызовы в сентябре и октябре. Пассивные пользователи активизировались в ноябре."
   ]
  },
  {
   "cell_type": "code",
   "execution_count": 116,
   "id": "923fd291",
   "metadata": {
    "ExecuteTime": {
     "end_time": "2023-07-20T10:17:08.471994Z",
     "start_time": "2023-07-20T10:17:08.457001Z"
    }
   },
   "outputs": [],
   "source": [
    "pivot_out_internal = billing_data.pivot_table(\n",
    "    index= ['tariff_plan', 'status', 'month'], values ='out_internal_call_m', aggfunc='mean' ).reset_index()"
   ]
  },
  {
   "cell_type": "code",
   "execution_count": 117,
   "id": "97cc94e7",
   "metadata": {
    "ExecuteTime": {
     "end_time": "2023-07-20T10:17:08.781586Z",
     "start_time": "2023-07-20T10:17:08.472959Z"
    }
   },
   "outputs": [
    {
     "data": {
      "image/png": "[encoded data removed]",
      "text/plain": [
       "<Figure size 1700x600 with 1 Axes>"
      ]
     },
     "metadata": {},
     "output_type": "display_data"
    }
   ],
   "source": [
    "#посмотрим в разрезе тарифов распределение времени\n",
    "fig, ax = plt.subplots(1, 1, figsize=(17, 6))\n",
    "sns.boxplot(data=billing_data.sort_values(by = ['month','tariff_plan']), \n",
    "            x=\"month\", y=\"out_internal_call_m\", hue=\"status\" )\n",
    "\n",
    "plt.title('Распределение времени, истраченного клиентами на внутренние исходящие вызовы')\n",
    "plt.ylabel('Количество минут')\n",
    "plt.xlabel('Месяц')\n",
    "ax.set_ylim([0, 50])\n",
    "plt.show()"
   ]
  },
  {
   "cell_type": "markdown",
   "id": "ce78fe1a",
   "metadata": {},
   "source": [
    "Пассивые пользователи почти не совершают внутренних исходящих вызовов. Также наблюдается повышение активности в ноябре у пассивных пользователей."
   ]
  },
  {
   "cell_type": "code",
   "execution_count": 119,
   "id": "6bdb770c",
   "metadata": {
    "ExecuteTime": {
     "end_time": "2023-07-20T10:17:08.861054Z",
     "start_time": "2023-07-20T10:17:08.846094Z"
    }
   },
   "outputs": [
    {
     "data": {
      "text/html": [
       "<div>\n",
       "<style scoped>\n",
       "    .dataframe tbody tr th:only-of-type {\n",
       "        vertical-align: middle;\n",
       "    }\n",
       "\n",
       "    .dataframe tbody tr th {\n",
       "        vertical-align: top;\n",
       "    }\n",
       "\n",
       "    .dataframe thead th {\n",
       "        text-align: right;\n",
       "    }\n",
       "</style>\n",
       "<table border=\"1\" class=\"dataframe\">\n",
       "  <thead>\n",
       "    <tr style=\"text-align: right;\">\n",
       "      <th></th>\n",
       "      <th>tariff_plan</th>\n",
       "      <th>status</th>\n",
       "      <th>month</th>\n",
       "      <th>in_call_m</th>\n",
       "    </tr>\n",
       "  </thead>\n",
       "  <tbody>\n",
       "    <tr>\n",
       "      <th>0</th>\n",
       "      <td>A</td>\n",
       "      <td>активный</td>\n",
       "      <td>8</td>\n",
       "      <td>8.500000</td>\n",
       "    </tr>\n",
       "    <tr>\n",
       "      <th>1</th>\n",
       "      <td>A</td>\n",
       "      <td>активный</td>\n",
       "      <td>9</td>\n",
       "      <td>234.428571</td>\n",
       "    </tr>\n",
       "    <tr>\n",
       "      <th>2</th>\n",
       "      <td>A</td>\n",
       "      <td>активный</td>\n",
       "      <td>10</td>\n",
       "      <td>667.571429</td>\n",
       "    </tr>\n",
       "    <tr>\n",
       "      <th>3</th>\n",
       "      <td>A</td>\n",
       "      <td>активный</td>\n",
       "      <td>11</td>\n",
       "      <td>515.571429</td>\n",
       "    </tr>\n",
       "    <tr>\n",
       "      <th>4</th>\n",
       "      <td>A</td>\n",
       "      <td>пассивный</td>\n",
       "      <td>8</td>\n",
       "      <td>14.250000</td>\n",
       "    </tr>\n",
       "  </tbody>\n",
       "</table>\n",
       "</div>"
      ],
      "text/plain": [
       "  tariff_plan     status  month   in_call_m\n",
       "0           A   активный      8    8.500000\n",
       "1           A   активный      9  234.428571\n",
       "2           A   активный     10  667.571429\n",
       "3           A   активный     11  515.571429\n",
       "4           A  пассивный      8   14.250000"
      ]
     },
     "execution_count": 119,
     "metadata": {},
     "output_type": "execute_result"
    }
   ],
   "source": [
    "pivot_in = billing_data.pivot_table(\n",
    "    index= ['tariff_plan', 'status', 'month'], values ='in_call_m', aggfunc='mean' ).reset_index()\n",
    "pivot_in.head()"
   ]
  },
  {
   "cell_type": "code",
   "execution_count": 120,
   "id": "fe995b1f",
   "metadata": {
    "ExecuteTime": {
     "end_time": "2023-07-20T10:17:09.141158Z",
     "start_time": "2023-07-20T10:17:08.862050Z"
    }
   },
   "outputs": [
    {
     "data": {
      "image/png": "[encoded data removed]",
      "text/plain": [
       "<Figure size 1000x600 with 1 Axes>"
      ]
     },
     "metadata": {},
     "output_type": "display_data"
    }
   ],
   "source": [
    "fig, ax = plt.subplots(1, 1, figsize=(10, 6))\n",
    "sns.lineplot(data=pivot_in, \n",
    "            x=\"month\", y=\"in_call_m\", hue=\"tariff_plan\", style='status' )\n",
    "\n",
    "plt.title('Среднее количество минут, затраченное операторами на входящие звонки')\n",
    "plt.ylabel('Количество минут')\n",
    "plt.xlabel('Месяц')\n",
    "\n",
    "plt.show()"
   ]
  },
  {
   "cell_type": "code",
   "execution_count": 122,
   "id": "d736b85b",
   "metadata": {
    "ExecuteTime": {
     "end_time": "2023-07-20T10:17:09.237095Z",
     "start_time": "2023-07-20T10:17:09.208140Z"
    }
   },
   "outputs": [
    {
     "data": {
      "text/html": [
       "<div>\n",
       "<style scoped>\n",
       "    .dataframe tbody tr th:only-of-type {\n",
       "        vertical-align: middle;\n",
       "    }\n",
       "\n",
       "    .dataframe tbody tr th {\n",
       "        vertical-align: top;\n",
       "    }\n",
       "\n",
       "    .dataframe thead th {\n",
       "        text-align: right;\n",
       "    }\n",
       "</style>\n",
       "<table border=\"1\" class=\"dataframe\">\n",
       "  <thead>\n",
       "    <tr style=\"text-align: right;\">\n",
       "      <th></th>\n",
       "      <th>tariff_plan</th>\n",
       "      <th>status</th>\n",
       "      <th>pay</th>\n",
       "    </tr>\n",
       "  </thead>\n",
       "  <tbody>\n",
       "    <tr>\n",
       "      <th>0</th>\n",
       "      <td>A</td>\n",
       "      <td>активный</td>\n",
       "      <td>4368.214286</td>\n",
       "    </tr>\n",
       "    <tr>\n",
       "      <th>1</th>\n",
       "      <td>A</td>\n",
       "      <td>пассивный</td>\n",
       "      <td>6017.550000</td>\n",
       "    </tr>\n",
       "    <tr>\n",
       "      <th>2</th>\n",
       "      <td>B</td>\n",
       "      <td>активный</td>\n",
       "      <td>3432.673913</td>\n",
       "    </tr>\n",
       "    <tr>\n",
       "      <th>3</th>\n",
       "      <td>B</td>\n",
       "      <td>пассивный</td>\n",
       "      <td>2518.036301</td>\n",
       "    </tr>\n",
       "    <tr>\n",
       "      <th>4</th>\n",
       "      <td>C</td>\n",
       "      <td>активный</td>\n",
       "      <td>2440.674074</td>\n",
       "    </tr>\n",
       "    <tr>\n",
       "      <th>5</th>\n",
       "      <td>C</td>\n",
       "      <td>пассивный</td>\n",
       "      <td>1789.830556</td>\n",
       "    </tr>\n",
       "  </tbody>\n",
       "</table>\n",
       "</div>"
      ],
      "text/plain": [
       "  tariff_plan     status          pay\n",
       "0           A   активный  4368.214286\n",
       "1           A  пассивный  6017.550000\n",
       "2           B   активный  3432.673913\n",
       "3           B  пассивный  2518.036301\n",
       "4           C   активный  2440.674074\n",
       "5           C  пассивный  1789.830556"
      ]
     },
     "execution_count": 122,
     "metadata": {},
     "output_type": "execute_result"
    }
   ],
   "source": [
    "pivot_11 = billing_data.query('month ==11').pivot_table(\n",
    "    index= ['tariff_plan', 'status'], values ='pay', aggfunc='mean' ).reset_index()\n",
    "pivot_11"
   ]
  },
  {
   "cell_type": "markdown",
   "id": "0674c11e",
   "metadata": {},
   "source": [
    "Заказчик запросил тенденцию по выручке с пользователей в ноябре.\n",
    "Самыми привлекательными с точки зрения выручки явялются активные пользователи использующие тариф C.\n",
    "При этом пассивные пользователи использующие тариф А приносят больше всего выручки."
   ]
  },
  {
   "cell_type": "code",
   "execution_count": 124,
   "id": "12f129b9",
   "metadata": {
    "ExecuteTime": {
     "end_time": "2023-07-20T10:17:09.332806Z",
     "start_time": "2023-07-20T10:17:09.302886Z"
    },
    "code_folding": []
   },
   "outputs": [
    {
     "data": {
      "text/html": [
       "<div>\n",
       "<style scoped>\n",
       "    .dataframe tbody tr th:only-of-type {\n",
       "        vertical-align: middle;\n",
       "    }\n",
       "\n",
       "    .dataframe tbody tr th {\n",
       "        vertical-align: top;\n",
       "    }\n",
       "\n",
       "    .dataframe thead th {\n",
       "        text-align: right;\n",
       "    }\n",
       "</style>\n",
       "<table border=\"1\" class=\"dataframe\">\n",
       "  <thead>\n",
       "    <tr style=\"text-align: right;\">\n",
       "      <th></th>\n",
       "      <th>optimal_tariff</th>\n",
       "      <th>status</th>\n",
       "      <th>after_optimisation</th>\n",
       "    </tr>\n",
       "  </thead>\n",
       "  <tbody>\n",
       "    <tr>\n",
       "      <th>0</th>\n",
       "      <td>A</td>\n",
       "      <td>активный</td>\n",
       "      <td>5936.800000</td>\n",
       "    </tr>\n",
       "    <tr>\n",
       "      <th>1</th>\n",
       "      <td>A</td>\n",
       "      <td>пассивный</td>\n",
       "      <td>6017.550000</td>\n",
       "    </tr>\n",
       "    <tr>\n",
       "      <th>2</th>\n",
       "      <td>B</td>\n",
       "      <td>активный</td>\n",
       "      <td>4238.838462</td>\n",
       "    </tr>\n",
       "    <tr>\n",
       "      <th>3</th>\n",
       "      <td>B</td>\n",
       "      <td>пассивный</td>\n",
       "      <td>2518.036301</td>\n",
       "    </tr>\n",
       "    <tr>\n",
       "      <th>4</th>\n",
       "      <td>C</td>\n",
       "      <td>активный</td>\n",
       "      <td>2050.711905</td>\n",
       "    </tr>\n",
       "    <tr>\n",
       "      <th>5</th>\n",
       "      <td>C</td>\n",
       "      <td>пассивный</td>\n",
       "      <td>1789.830556</td>\n",
       "    </tr>\n",
       "  </tbody>\n",
       "</table>\n",
       "</div>"
      ],
      "text/plain": [
       "  optimal_tariff     status  after_optimisation\n",
       "0              A   активный         5936.800000\n",
       "1              A  пассивный         6017.550000\n",
       "2              B   активный         4238.838462\n",
       "3              B  пассивный         2518.036301\n",
       "4              C   активный         2050.711905\n",
       "5              C  пассивный         1789.830556"
      ]
     },
     "execution_count": 124,
     "metadata": {},
     "output_type": "execute_result"
    }
   ],
   "source": [
    "pivot_11_opt = billing_data.query('month ==11').pivot_table(\n",
    "    index= ['optimal_tariff', 'status'], values ='after_optimisation', aggfunc='mean' ).reset_index()\n",
    "pivot_11_opt"
   ]
  },
  {
   "cell_type": "markdown",
   "id": "8ca6a633",
   "metadata": {
    "ExecuteTime": {
     "end_time": "2023-06-09T14:18:17.804385Z",
     "start_time": "2023-06-09T14:18:17.789425Z"
    }
   },
   "source": [
    "При условии внедрения оптимизации в ноябре значитально увеличивается средний чек для активных клиентов в Тарифе А."
   ]
  },
  {
   "cell_type": "markdown",
   "id": "cfae269f",
   "metadata": {},
   "source": [
    "## Выводы "
   ]
  },
  {
   "cell_type": "markdown",
   "id": "8444f4af",
   "metadata": {},
   "source": [
    "### Общие выводы"
   ]
  },
  {
   "cell_type": "markdown",
   "id": "a1fb2e80",
   "metadata": {},
   "source": [
    "**О компании:**  Клиентами «Нупозвони» являются организации, которым нужно распределять множество входящих вызовов на различных операторов, либо осуществлять исходящие вызовы силами операторов. Также операторы могут осуществлять внутренние вызовы, то есть вызовы друг между другом, которые осуществляются внутри сети виртуальной телефонии.\n",
    "\n",
    "**Заказчик:** гениральный деректор «Нупозвони»\n",
    "\n",
    "**Первоначальный запрос:** поиск клиентов, которые переплачивают, анализ влияния изменений на выручку.\n",
    "    \n",
    "**Цель проекта:** выявление активных клиентов за последние 3 месяца, использующих неэффективный тариф с целью сохранения лояльности клиента, и провести анализ изменения выручки компании при пререводе клиентов на оптимальные тарифы.\n",
    "\n",
    "Для достижения поставленной цели требуется выполнение следующих **задач**: \n",
    "* определние критерия активности клиента\n",
    "* расчет всех возможных вариантов по каждому тарифу по всем клиентам\n",
    "* расчет текущей выручки и предполагаемая выручка после внесения изменений\n",
    "\n",
    "Анализ проводится 3 раз в месяца. \n",
    "Рассматриваемый период сентябрь - ноябрь (ноябрь считаем полным месяцем)\n",
    "\n",
    "**Всего**: 306 клиентов\n",
    "\n",
    "**Активных** : 57 (18, 6%)\n",
    "\n",
    "**Пассивных**: 249(81.4%)\n",
    "\n",
    "Активными клиентами считаются те, кто за месяц выговаривал больше, чем 50% пользователей. Активным будет считаться клиент, который перешел границу 50 перцентиля в каждый месяц рассматриваемого периода. \n",
    "\n"
   ]
  },
  {
   "cell_type": "markdown",
   "id": "c3236d7e",
   "metadata": {},
   "source": [
    "В результате проведенного анализа составлен список активных клиентов неоптимально использующих свой тариф. \n",
    "Среди всех активных клиентов(57) 26-ти требуется предожить заменить тариф. Данные клиенты составляют 46% от всех активных клиентов и 8% от всех клиентов.\n",
    "\n",
    "\n",
    "* Выручка до оптимизации тарифов за данный период составила : 1788925.45\n",
    "* Выручка после оптимизации тарифов за данный период составила: 1722596.75\n",
    "* Сокращение выручки составило: 66328.7 рублей или 3.71% "
   ]
  },
  {
   "cell_type": "markdown",
   "id": "749514a7",
   "metadata": {},
   "source": [
    "**Спикок активных клиентов**, которым требуется предложить оптимизацию тарифов:\n",
    "\n",
    "user_id: 166658, 166916, 167172, 166406, 166407, 166536, 167175, 166541, 166800, 166678, 167071, 167082, 167479, 167487, 167109, 166725, 166983, 167004, 166495, 167264, 166879, 166503, 167150, 166896, 166899, 166520"
   ]
  },
  {
   "cell_type": "markdown",
   "id": "b8ca5363",
   "metadata": {},
   "source": [
    "В рамках исследования были проверены 2 гипотезы\n",
    "\n",
    "**Гипотеза 1**\n",
    "\n",
    "Н0 \"Активные и неактивные пользователи говорят в среднем одинаково\"\n",
    "\n",
    "Н1 \"Время разговора у активных пользователей в среднем больше, чем у неактивных\"\n",
    "\n",
    "По результатам проверки онаружено, что статистически значимые различия есть и активные пользователи говорят почти в 4 раза больше. \n",
    "    \n",
    "**Гипотеза 2**\n",
    "\n",
    "Н0 \"Средние затраты активного пользователя на услуги компании до и после оптимизации не отличаются\"\n",
    "Н1 \"Средние затраты активного пользователя на услуги компании после оптимизации уменьшились\"\n",
    "\n",
    "Cтатистическая значимость различий в средних затратах клиентов до и после оптимизации не обнаружена. Изменение тарифов не повлекло за собой сильного изменения среднего чека. "
   ]
  },
  {
   "cell_type": "markdown",
   "id": "73cf1224",
   "metadata": {
    "ExecuteTime": {
     "end_time": "2023-06-09T14:49:51.334118Z",
     "start_time": "2023-06-09T14:49:51.316166Z"
    }
   },
   "source": [
    "### Рекомендации "
   ]
  },
  {
   "cell_type": "markdown",
   "id": "be9d1558",
   "metadata": {},
   "source": [
    "В ходе анализа были выявлены 16 клиентов, у которых звонки не доходят до оператора. Они составляют 5% от общего числа клиентов. Требуется убедиться, что данное явление не является неисправностью с нашей стороны. \n",
    "\n",
    "user_id: 167265, 168578, 167939, 167077, 167721, 168490, 167114, 168329, 168013, 167981, 166584, 167631, 167768, 168340, 168024, 168446"
   ]
  },
  {
   "cell_type": "markdown",
   "id": "88906ffd",
   "metadata": {},
   "source": [
    "Компания активно наращивает свою клиентскую базу. С августа по ноябрь число клиентов увеличилось с 84 до 260. Однако наблюдается уход клиентов по сравнению с октябрём месяцем. Требуется получить обратную связь от клиентов, которые ушли в ноябре и сделать им оффер, который позволит удержать клиента. \n",
    "\n",
    "Несмотря на уход клиентов по показателю ARPU наблюдается положительная динамика.\n",
    "Требуется работа с показателем ARPM. Наблюдается сильный рост количества выговариваемых минут клиентами, но при этом значительно падает стоимость одной минуты для компании \"Ну позвони\".\n",
    "Требуется вовлечение пассивных клиентов и после этого уточнения понятий \"активный клиент\" и \"пассивный клиент\""
   ]
  },
  {
   "cell_type": "markdown",
   "id": "93889985",
   "metadata": {},
   "source": [
    "### Ссылка на презентацию\n",
    "https://disk.yandex.ru/d/nF6EmGpYZiDK_w"
   ]
  },
  {
   "cell_type": "markdown",
   "id": "5a93ea18",
   "metadata": {
    "ExecuteTime": {
     "end_time": "2023-06-09T16:03:35.384270Z",
     "start_time": "2023-06-09T16:03:35.369311Z"
    }
   },
   "source": [
    "### Ссылка на дашборд"
   ]
  },
  {
   "cell_type": "markdown",
   "id": "73207531",
   "metadata": {},
   "source": [
    "https://public.tableau.com/views/_16864799440990/Dashboard1?:language=en-US&publish=yes&:display_count=n&:origin=viz_share_link"
   ]
  }
 ],
 "metadata": {
  "ExecuteTimeLog": [
   {
    "duration": 128,
    "start_time": "2023-05-29T13:56:36.222Z"
   },
   {
    "duration": 40,
    "start_time": "2023-05-29T13:57:03.803Z"
   },
   {
    "duration": 7,
    "start_time": "2023-05-29T13:57:46.220Z"
   },
   {
    "duration": 338,
    "start_time": "2023-05-29T13:57:49.810Z"
   },
   {
    "duration": 223,
    "start_time": "2023-05-29T13:57:50.403Z"
   },
   {
    "duration": 2342,
    "start_time": "2023-05-29T13:58:01.695Z"
   },
   {
    "duration": 133,
    "start_time": "2023-05-29T13:58:25.723Z"
   },
   {
    "duration": 370,
    "start_time": "2023-05-29T13:58:36.480Z"
   },
   {
    "duration": 129,
    "start_time": "2023-05-29T13:58:36.852Z"
   },
   {
    "duration": 15,
    "start_time": "2023-05-29T13:58:36.982Z"
   },
   {
    "duration": 34,
    "start_time": "2023-05-29T13:58:36.999Z"
   },
   {
    "duration": 6,
    "start_time": "2023-05-29T13:58:37.035Z"
   },
   {
    "duration": 12,
    "start_time": "2023-05-29T13:58:37.042Z"
   },
   {
    "duration": 11,
    "start_time": "2023-05-29T13:58:37.056Z"
   },
   {
    "duration": 11,
    "start_time": "2023-05-29T13:58:37.071Z"
   },
   {
    "duration": 3,
    "start_time": "2023-05-29T13:58:48.989Z"
   },
   {
    "duration": 2,
    "start_time": "2023-05-29T14:06:48.950Z"
   },
   {
    "duration": 2,
    "start_time": "2023-05-29T14:19:04.787Z"
   },
   {
    "duration": 323,
    "start_time": "2023-05-29T14:19:43.419Z"
   },
   {
    "duration": 130,
    "start_time": "2023-05-29T14:19:43.744Z"
   },
   {
    "duration": 15,
    "start_time": "2023-05-29T14:19:43.876Z"
   },
   {
    "duration": 16,
    "start_time": "2023-05-29T14:19:43.892Z"
   },
   {
    "duration": 7,
    "start_time": "2023-05-29T14:19:43.910Z"
   },
   {
    "duration": 11,
    "start_time": "2023-05-29T14:19:43.919Z"
   },
   {
    "duration": 21,
    "start_time": "2023-05-29T14:19:43.932Z"
   },
   {
    "duration": 11,
    "start_time": "2023-05-29T14:19:43.974Z"
   },
   {
    "duration": 18,
    "start_time": "2023-05-29T14:26:41.766Z"
   },
   {
    "duration": 10,
    "start_time": "2023-05-29T14:26:47.120Z"
   },
   {
    "duration": 7,
    "start_time": "2023-05-29T14:27:48.632Z"
   },
   {
    "duration": 6,
    "start_time": "2023-05-29T14:28:42.748Z"
   },
   {
    "duration": 339,
    "start_time": "2023-05-29T14:28:48.127Z"
   },
   {
    "duration": 131,
    "start_time": "2023-05-29T14:28:48.506Z"
   },
   {
    "duration": 16,
    "start_time": "2023-05-29T14:28:48.640Z"
   },
   {
    "duration": 17,
    "start_time": "2023-05-29T14:28:48.658Z"
   },
   {
    "duration": 12,
    "start_time": "2023-05-29T14:28:48.676Z"
   },
   {
    "duration": 14,
    "start_time": "2023-05-29T14:28:48.690Z"
   },
   {
    "duration": 11,
    "start_time": "2023-05-29T14:28:48.705Z"
   },
   {
    "duration": 17,
    "start_time": "2023-05-29T14:28:48.717Z"
   },
   {
    "duration": 16,
    "start_time": "2023-05-29T14:28:48.735Z"
   },
   {
    "duration": 16,
    "start_time": "2023-05-29T14:28:48.753Z"
   },
   {
    "duration": 384,
    "start_time": "2023-05-29T14:29:38.644Z"
   },
   {
    "duration": 119,
    "start_time": "2023-05-29T14:29:39.029Z"
   },
   {
    "duration": 18,
    "start_time": "2023-05-29T14:29:39.149Z"
   },
   {
    "duration": 13,
    "start_time": "2023-05-29T14:29:39.169Z"
   },
   {
    "duration": 10,
    "start_time": "2023-05-29T14:29:39.184Z"
   },
   {
    "duration": 8,
    "start_time": "2023-05-29T14:29:39.196Z"
   },
   {
    "duration": 18,
    "start_time": "2023-05-29T14:29:39.206Z"
   },
   {
    "duration": 8,
    "start_time": "2023-05-29T14:29:39.225Z"
   },
   {
    "duration": 9,
    "start_time": "2023-05-29T14:29:39.235Z"
   },
   {
    "duration": 25,
    "start_time": "2023-05-29T14:29:39.246Z"
   },
   {
    "duration": 1724,
    "start_time": "2023-06-11T19:02:41.479Z"
   },
   {
    "duration": 513,
    "start_time": "2023-06-11T19:02:43.206Z"
   },
   {
    "duration": 72,
    "start_time": "2023-06-11T19:02:43.721Z"
   },
   {
    "duration": 16,
    "start_time": "2023-06-11T19:02:43.795Z"
   },
   {
    "duration": 73,
    "start_time": "2023-06-11T19:02:43.813Z"
   },
   {
    "duration": 22,
    "start_time": "2023-06-11T19:02:43.887Z"
   },
   {
    "duration": 72,
    "start_time": "2023-06-11T19:02:43.910Z"
   },
   {
    "duration": 6,
    "start_time": "2023-06-11T19:02:43.984Z"
   },
   {
    "duration": 5,
    "start_time": "2023-06-11T19:02:43.992Z"
   },
   {
    "duration": 77,
    "start_time": "2023-06-11T19:02:44.001Z"
   },
   {
    "duration": 13,
    "start_time": "2023-06-11T19:02:44.080Z"
   },
   {
    "duration": 90,
    "start_time": "2023-06-11T19:02:44.095Z"
   },
   {
    "duration": 20,
    "start_time": "2023-06-11T19:02:44.187Z"
   },
   {
    "duration": 66,
    "start_time": "2023-06-11T19:02:44.209Z"
   },
   {
    "duration": 11,
    "start_time": "2023-06-11T19:02:44.277Z"
   },
   {
    "duration": 5,
    "start_time": "2023-06-11T19:02:44.291Z"
   },
   {
    "duration": 9,
    "start_time": "2023-06-11T19:02:44.298Z"
   },
   {
    "duration": 70,
    "start_time": "2023-06-11T19:02:44.309Z"
   },
   {
    "duration": 6,
    "start_time": "2023-06-11T19:02:44.381Z"
   },
   {
    "duration": 13,
    "start_time": "2023-06-11T19:02:44.388Z"
   },
   {
    "duration": 81,
    "start_time": "2023-06-11T19:02:44.403Z"
   },
   {
    "duration": 10,
    "start_time": "2023-06-11T19:02:44.486Z"
   },
   {
    "duration": 82,
    "start_time": "2023-06-11T19:02:44.497Z"
   },
   {
    "duration": 26,
    "start_time": "2023-06-11T19:02:44.580Z"
   },
   {
    "duration": 4,
    "start_time": "2023-06-11T19:02:44.607Z"
   },
   {
    "duration": 68,
    "start_time": "2023-06-11T19:02:44.612Z"
   },
   {
    "duration": 4,
    "start_time": "2023-06-11T19:02:44.682Z"
   },
   {
    "duration": 16,
    "start_time": "2023-06-11T19:02:44.690Z"
   },
   {
    "duration": 103,
    "start_time": "2023-06-11T19:02:44.708Z"
   },
   {
    "duration": 66,
    "start_time": "2023-06-11T19:02:44.813Z"
   },
   {
    "duration": 340,
    "start_time": "2023-06-11T19:02:44.880Z"
   },
   {
    "duration": 6,
    "start_time": "2023-06-11T19:02:45.222Z"
   },
   {
    "duration": 7,
    "start_time": "2023-06-11T19:02:45.230Z"
   },
   {
    "duration": 39,
    "start_time": "2023-06-11T19:02:45.238Z"
   },
   {
    "duration": 13,
    "start_time": "2023-06-11T19:02:45.278Z"
   },
   {
    "duration": 24,
    "start_time": "2023-06-11T19:02:45.293Z"
   },
   {
    "duration": 73,
    "start_time": "2023-06-11T19:02:45.319Z"
   },
   {
    "duration": 3,
    "start_time": "2023-06-11T19:02:45.394Z"
   },
   {
    "duration": 77,
    "start_time": "2023-06-11T19:02:45.399Z"
   },
   {
    "duration": 33,
    "start_time": "2023-06-11T19:02:45.479Z"
   },
   {
    "duration": 279,
    "start_time": "2023-06-11T19:02:45.514Z"
   },
   {
    "duration": 85,
    "start_time": "2023-06-11T19:02:45.795Z"
   },
   {
    "duration": 14,
    "start_time": "2023-06-11T19:02:45.882Z"
   },
   {
    "duration": 4,
    "start_time": "2023-06-11T19:02:45.897Z"
   },
   {
    "duration": 8,
    "start_time": "2023-06-11T19:02:45.903Z"
   },
   {
    "duration": 66,
    "start_time": "2023-06-11T19:02:45.913Z"
   },
   {
    "duration": 9,
    "start_time": "2023-06-11T19:02:45.980Z"
   },
   {
    "duration": 10,
    "start_time": "2023-06-11T19:02:45.990Z"
   },
   {
    "duration": 1196,
    "start_time": "2023-06-11T19:02:46.002Z"
   },
   {
    "duration": 7,
    "start_time": "2023-06-11T19:02:47.199Z"
   },
   {
    "duration": 13,
    "start_time": "2023-06-11T19:02:47.276Z"
   },
   {
    "duration": 85,
    "start_time": "2023-06-11T19:02:47.290Z"
   },
   {
    "duration": 329,
    "start_time": "2023-06-11T19:02:47.377Z"
   },
   {
    "duration": 71,
    "start_time": "2023-06-11T19:02:47.708Z"
   },
   {
    "duration": 4,
    "start_time": "2023-06-11T19:02:47.781Z"
   },
   {
    "duration": 10,
    "start_time": "2023-06-11T19:02:47.787Z"
   },
   {
    "duration": 75,
    "start_time": "2023-06-11T19:02:47.800Z"
   },
   {
    "duration": 5,
    "start_time": "2023-06-11T19:02:47.877Z"
   },
   {
    "duration": 27,
    "start_time": "2023-06-11T19:02:47.884Z"
   },
   {
    "duration": 64,
    "start_time": "2023-06-11T19:02:47.913Z"
   },
   {
    "duration": 5,
    "start_time": "2023-06-11T19:02:47.978Z"
   },
   {
    "duration": 1007,
    "start_time": "2023-06-11T19:02:47.984Z"
   },
   {
    "duration": 16,
    "start_time": "2023-06-11T19:02:48.993Z"
   },
   {
    "duration": 12,
    "start_time": "2023-06-11T19:02:49.011Z"
   },
   {
    "duration": 5,
    "start_time": "2023-06-11T19:02:49.025Z"
   },
   {
    "duration": 4,
    "start_time": "2023-06-11T19:02:49.032Z"
   },
   {
    "duration": 7,
    "start_time": "2023-06-11T19:02:49.037Z"
   },
   {
    "duration": 31,
    "start_time": "2023-06-11T19:02:49.046Z"
   },
   {
    "duration": 23,
    "start_time": "2023-06-11T19:02:49.078Z"
   },
   {
    "duration": 10,
    "start_time": "2023-06-11T19:02:49.102Z"
   },
   {
    "duration": 120,
    "start_time": "2023-06-11T19:02:49.113Z"
   },
   {
    "duration": 60,
    "start_time": "2023-06-11T19:02:49.235Z"
   },
   {
    "duration": 48,
    "start_time": "2023-06-11T19:02:49.296Z"
   },
   {
    "duration": 66,
    "start_time": "2023-06-11T19:02:49.345Z"
   },
   {
    "duration": 2,
    "start_time": "2023-06-11T19:02:49.412Z"
   },
   {
    "duration": 13,
    "start_time": "2023-06-11T19:02:49.416Z"
   },
   {
    "duration": 10,
    "start_time": "2023-06-11T19:02:49.430Z"
   },
   {
    "duration": 7,
    "start_time": "2023-06-11T19:02:49.441Z"
   },
   {
    "duration": 29,
    "start_time": "2023-06-11T19:02:49.449Z"
   },
   {
    "duration": 10,
    "start_time": "2023-06-11T19:02:49.480Z"
   },
   {
    "duration": 7,
    "start_time": "2023-06-11T19:02:49.492Z"
   },
   {
    "duration": 6,
    "start_time": "2023-06-11T19:02:49.506Z"
   },
   {
    "duration": 31,
    "start_time": "2023-06-11T19:02:49.514Z"
   },
   {
    "duration": 49,
    "start_time": "2023-06-11T19:02:49.547Z"
   },
   {
    "duration": 42,
    "start_time": "2023-06-11T19:02:49.598Z"
   },
   {
    "duration": 78,
    "start_time": "2023-06-11T19:02:49.642Z"
   },
   {
    "duration": 32,
    "start_time": "2023-06-11T19:02:49.721Z"
   },
   {
    "duration": 60,
    "start_time": "2023-06-11T19:02:49.754Z"
   },
   {
    "duration": 11,
    "start_time": "2023-06-11T19:02:49.816Z"
   },
   {
    "duration": 34,
    "start_time": "2023-06-11T19:02:49.829Z"
   },
   {
    "duration": 26,
    "start_time": "2023-06-11T19:02:49.864Z"
   },
   {
    "duration": 15,
    "start_time": "2023-06-11T19:02:49.892Z"
   },
   {
    "duration": 34,
    "start_time": "2023-06-11T19:02:49.909Z"
   },
   {
    "duration": 44,
    "start_time": "2023-06-11T19:02:49.944Z"
   },
   {
    "duration": 16,
    "start_time": "2023-06-11T19:02:49.989Z"
   },
   {
    "duration": 31,
    "start_time": "2023-06-11T19:02:50.006Z"
   },
   {
    "duration": 80,
    "start_time": "2023-06-11T19:02:50.038Z"
   },
   {
    "duration": 9,
    "start_time": "2023-06-11T19:02:50.120Z"
   },
   {
    "duration": 20,
    "start_time": "2023-06-11T19:02:50.130Z"
   },
   {
    "duration": 29,
    "start_time": "2023-06-11T19:02:50.152Z"
   },
   {
    "duration": 14,
    "start_time": "2023-06-11T19:02:50.182Z"
   },
   {
    "duration": 29,
    "start_time": "2023-06-11T19:02:50.198Z"
   },
   {
    "duration": 19,
    "start_time": "2023-06-11T19:02:50.229Z"
   },
   {
    "duration": 34,
    "start_time": "2023-06-11T19:02:50.250Z"
   },
   {
    "duration": 33,
    "start_time": "2023-06-11T19:02:50.286Z"
   },
   {
    "duration": 34,
    "start_time": "2023-06-11T19:02:50.320Z"
   },
   {
    "duration": 56,
    "start_time": "2023-06-11T19:02:50.356Z"
   },
   {
    "duration": 25,
    "start_time": "2023-06-11T19:02:50.414Z"
   },
   {
    "duration": 42,
    "start_time": "2023-06-11T19:02:50.441Z"
   },
   {
    "duration": 16,
    "start_time": "2023-06-11T19:02:50.485Z"
   },
   {
    "duration": 59,
    "start_time": "2023-06-11T19:02:50.503Z"
   },
   {
    "duration": 11,
    "start_time": "2023-06-11T19:02:50.575Z"
   },
   {
    "duration": 56,
    "start_time": "2023-06-11T19:02:50.588Z"
   },
   {
    "duration": 69,
    "start_time": "2023-06-11T19:02:50.646Z"
   },
   {
    "duration": 17,
    "start_time": "2023-06-11T19:02:50.717Z"
   },
   {
    "duration": 72,
    "start_time": "2023-06-11T19:02:50.736Z"
   },
   {
    "duration": 12,
    "start_time": "2023-06-11T19:02:50.810Z"
   },
   {
    "duration": 77,
    "start_time": "2023-06-11T19:02:50.823Z"
   },
   {
    "duration": 2694,
    "start_time": "2023-06-12T05:16:10.613Z"
   },
   {
    "duration": 733,
    "start_time": "2023-06-12T05:16:13.372Z"
   },
   {
    "duration": 166,
    "start_time": "2023-06-12T05:16:14.107Z"
   },
   {
    "duration": 21,
    "start_time": "2023-06-12T05:16:14.279Z"
   },
   {
    "duration": 111,
    "start_time": "2023-06-12T05:16:14.302Z"
   },
   {
    "duration": 70,
    "start_time": "2023-06-12T05:16:14.414Z"
   },
   {
    "duration": 12,
    "start_time": "2023-06-12T05:16:14.487Z"
   },
   {
    "duration": 19,
    "start_time": "2023-06-12T05:16:14.501Z"
   },
   {
    "duration": 58,
    "start_time": "2023-06-12T05:16:14.521Z"
   },
   {
    "duration": 32,
    "start_time": "2023-06-12T05:16:14.582Z"
   },
   {
    "duration": 74,
    "start_time": "2023-06-12T05:16:14.616Z"
   },
   {
    "duration": 89,
    "start_time": "2023-06-12T05:16:14.693Z"
   },
   {
    "duration": 93,
    "start_time": "2023-06-12T05:16:14.788Z"
   },
   {
    "duration": 8,
    "start_time": "2023-06-12T05:16:14.888Z"
   },
   {
    "duration": 79,
    "start_time": "2023-06-12T05:16:14.898Z"
   },
   {
    "duration": 4,
    "start_time": "2023-06-12T05:16:14.978Z"
   },
   {
    "duration": 98,
    "start_time": "2023-06-12T05:16:14.988Z"
   },
   {
    "duration": 6,
    "start_time": "2023-06-12T05:16:15.087Z"
   },
   {
    "duration": 86,
    "start_time": "2023-06-12T05:16:15.094Z"
   },
   {
    "duration": 8,
    "start_time": "2023-06-12T05:16:15.183Z"
   },
   {
    "duration": 97,
    "start_time": "2023-06-12T05:16:15.193Z"
   },
   {
    "duration": 90,
    "start_time": "2023-06-12T05:16:15.295Z"
   },
   {
    "duration": 94,
    "start_time": "2023-06-12T05:16:15.386Z"
   },
   {
    "duration": 116,
    "start_time": "2023-06-12T05:16:15.484Z"
   },
   {
    "duration": 70,
    "start_time": "2023-06-12T05:16:15.602Z"
   },
   {
    "duration": 18,
    "start_time": "2023-06-12T05:16:15.675Z"
   },
   {
    "duration": 80,
    "start_time": "2023-06-12T05:16:15.695Z"
   },
   {
    "duration": 195,
    "start_time": "2023-06-12T05:16:15.780Z"
   },
   {
    "duration": 117,
    "start_time": "2023-06-12T05:16:15.976Z"
   },
   {
    "duration": 185,
    "start_time": "2023-06-12T05:16:16.095Z"
   },
   {
    "duration": 94,
    "start_time": "2023-06-12T05:16:16.284Z"
   },
   {
    "duration": 141,
    "start_time": "2023-06-12T05:16:16.382Z"
   },
   {
    "duration": 18,
    "start_time": "2023-06-12T05:16:16.524Z"
   },
   {
    "duration": 12,
    "start_time": "2023-06-12T05:16:16.543Z"
   },
   {
    "duration": 7,
    "start_time": "2023-06-12T05:16:16.579Z"
   },
   {
    "duration": 41,
    "start_time": "2023-06-12T05:16:16.588Z"
   },
   {
    "duration": 66,
    "start_time": "2023-06-12T05:16:16.630Z"
   },
   {
    "duration": 17,
    "start_time": "2023-06-12T05:16:16.697Z"
   },
   {
    "duration": 18,
    "start_time": "2023-06-12T05:16:16.715Z"
   },
   {
    "duration": 389,
    "start_time": "2023-06-12T05:16:16.734Z"
   },
   {
    "duration": 81,
    "start_time": "2023-06-12T05:16:17.125Z"
   },
   {
    "duration": 5,
    "start_time": "2023-06-12T05:16:17.207Z"
   },
   {
    "duration": 70,
    "start_time": "2023-06-12T05:16:17.213Z"
   },
   {
    "duration": 32,
    "start_time": "2023-06-12T05:16:17.289Z"
   },
   {
    "duration": 61,
    "start_time": "2023-06-12T05:16:17.322Z"
   },
   {
    "duration": 5,
    "start_time": "2023-06-12T05:16:17.386Z"
   },
   {
    "duration": 20,
    "start_time": "2023-06-12T05:16:17.392Z"
   },
   {
    "duration": 71,
    "start_time": "2023-06-12T05:16:17.413Z"
   },
   {
    "duration": 1029,
    "start_time": "2023-06-12T05:16:17.486Z"
   },
   {
    "duration": 64,
    "start_time": "2023-06-12T05:16:18.516Z"
   },
   {
    "duration": 30,
    "start_time": "2023-06-12T05:16:18.586Z"
   },
   {
    "duration": 18,
    "start_time": "2023-06-12T05:16:18.618Z"
   },
   {
    "duration": 144,
    "start_time": "2023-06-12T05:16:18.637Z"
   },
   {
    "duration": 16,
    "start_time": "2023-06-12T05:16:18.783Z"
   },
   {
    "duration": 9,
    "start_time": "2023-06-12T05:16:18.800Z"
   },
   {
    "duration": 10,
    "start_time": "2023-06-12T05:16:18.810Z"
   },
   {
    "duration": 5,
    "start_time": "2023-06-12T05:16:18.821Z"
   },
   {
    "duration": 5,
    "start_time": "2023-06-12T05:16:18.828Z"
   },
   {
    "duration": 65,
    "start_time": "2023-06-12T05:16:18.834Z"
   },
   {
    "duration": 2,
    "start_time": "2023-06-12T05:16:18.901Z"
   },
   {
    "duration": 8,
    "start_time": "2023-06-12T05:16:18.905Z"
   },
   {
    "duration": 515,
    "start_time": "2023-06-12T05:16:18.914Z"
   },
   {
    "duration": 16,
    "start_time": "2023-06-12T05:16:19.430Z"
   },
   {
    "duration": 15,
    "start_time": "2023-06-12T05:16:19.447Z"
   },
   {
    "duration": 5,
    "start_time": "2023-06-12T05:16:19.463Z"
   },
   {
    "duration": 21,
    "start_time": "2023-06-12T05:16:19.470Z"
   },
   {
    "duration": 10,
    "start_time": "2023-06-12T05:16:19.493Z"
   },
   {
    "duration": 19,
    "start_time": "2023-06-12T05:16:19.504Z"
   },
   {
    "duration": 19,
    "start_time": "2023-06-12T05:16:19.524Z"
   },
   {
    "duration": 8,
    "start_time": "2023-06-12T05:16:19.545Z"
   },
   {
    "duration": 109,
    "start_time": "2023-06-12T05:16:19.554Z"
   },
   {
    "duration": 62,
    "start_time": "2023-06-12T05:16:19.665Z"
   },
   {
    "duration": 59,
    "start_time": "2023-06-12T05:16:19.729Z"
   },
   {
    "duration": 47,
    "start_time": "2023-06-12T05:16:19.790Z"
   },
   {
    "duration": 3,
    "start_time": "2023-06-12T05:16:19.838Z"
   },
   {
    "duration": 14,
    "start_time": "2023-06-12T05:16:19.842Z"
   },
   {
    "duration": 33,
    "start_time": "2023-06-12T05:16:19.858Z"
   },
   {
    "duration": 7,
    "start_time": "2023-06-12T05:16:19.892Z"
   },
   {
    "duration": 9,
    "start_time": "2023-06-12T05:16:19.901Z"
   },
   {
    "duration": 7,
    "start_time": "2023-06-12T05:16:19.911Z"
   },
   {
    "duration": 6,
    "start_time": "2023-06-12T05:16:19.919Z"
   },
   {
    "duration": 12,
    "start_time": "2023-06-12T05:16:19.930Z"
   },
   {
    "duration": 42,
    "start_time": "2023-06-12T05:16:19.944Z"
   },
   {
    "duration": 21,
    "start_time": "2023-06-12T05:16:19.987Z"
   },
   {
    "duration": 31,
    "start_time": "2023-06-12T05:16:20.010Z"
   },
   {
    "duration": 65,
    "start_time": "2023-06-12T05:16:20.042Z"
   },
   {
    "duration": 31,
    "start_time": "2023-06-12T05:16:20.108Z"
   },
   {
    "duration": 49,
    "start_time": "2023-06-12T05:16:20.140Z"
   },
   {
    "duration": 8,
    "start_time": "2023-06-12T05:16:20.190Z"
   },
   {
    "duration": 24,
    "start_time": "2023-06-12T05:16:20.199Z"
   },
   {
    "duration": 18,
    "start_time": "2023-06-12T05:16:20.225Z"
   },
   {
    "duration": 40,
    "start_time": "2023-06-12T05:16:20.244Z"
   },
   {
    "duration": 30,
    "start_time": "2023-06-12T05:16:20.286Z"
   },
   {
    "duration": 25,
    "start_time": "2023-06-12T05:16:20.317Z"
   },
   {
    "duration": 30,
    "start_time": "2023-06-12T05:16:20.343Z"
   },
   {
    "duration": 36,
    "start_time": "2023-06-12T05:16:20.376Z"
   },
   {
    "duration": 45,
    "start_time": "2023-06-12T05:16:20.413Z"
   },
   {
    "duration": 20,
    "start_time": "2023-06-12T05:16:20.461Z"
   },
   {
    "duration": 23,
    "start_time": "2023-06-12T05:16:20.483Z"
   },
   {
    "duration": 42,
    "start_time": "2023-06-12T05:16:20.508Z"
   },
   {
    "duration": 10,
    "start_time": "2023-06-12T05:16:20.552Z"
   },
   {
    "duration": 42,
    "start_time": "2023-06-12T05:16:20.563Z"
   },
   {
    "duration": 16,
    "start_time": "2023-06-12T05:16:20.607Z"
   },
   {
    "duration": 37,
    "start_time": "2023-06-12T05:16:20.624Z"
   },
   {
    "duration": 35,
    "start_time": "2023-06-12T05:16:20.662Z"
   },
   {
    "duration": 18,
    "start_time": "2023-06-12T05:16:20.699Z"
   },
   {
    "duration": 21,
    "start_time": "2023-06-12T05:16:20.719Z"
   },
   {
    "duration": 16,
    "start_time": "2023-06-12T05:16:20.742Z"
   },
   {
    "duration": 64,
    "start_time": "2023-06-12T05:16:20.759Z"
   },
   {
    "duration": 17,
    "start_time": "2023-06-12T05:16:20.825Z"
   },
   {
    "duration": 71,
    "start_time": "2023-06-12T05:16:20.843Z"
   },
   {
    "duration": 14,
    "start_time": "2023-06-12T05:16:20.916Z"
   },
   {
    "duration": 67,
    "start_time": "2023-06-12T05:16:20.932Z"
   },
   {
    "duration": 54,
    "start_time": "2023-06-12T05:16:21.001Z"
   },
   {
    "duration": 35,
    "start_time": "2023-06-12T05:16:21.056Z"
   },
   {
    "duration": 46,
    "start_time": "2023-06-12T05:16:21.092Z"
   },
   {
    "duration": 12,
    "start_time": "2023-06-12T05:16:21.140Z"
   },
   {
    "duration": 76,
    "start_time": "2023-06-12T05:16:21.154Z"
   },
   {
    "duration": 114,
    "start_time": "2023-06-12T06:29:38.141Z"
   },
   {
    "duration": 112,
    "start_time": "2023-06-12T06:29:48.312Z"
   },
   {
    "duration": 103,
    "start_time": "2023-06-12T06:29:49.644Z"
   },
   {
    "duration": 25,
    "start_time": "2023-06-12T06:29:57.997Z"
   },
   {
    "duration": 93,
    "start_time": "2023-06-12T06:30:08.290Z"
   },
   {
    "duration": 93,
    "start_time": "2023-06-12T06:35:26.852Z"
   },
   {
    "duration": 13,
    "start_time": "2023-06-12T06:35:52.927Z"
   },
   {
    "duration": 14,
    "start_time": "2023-06-12T06:36:48.811Z"
   },
   {
    "duration": 11,
    "start_time": "2023-06-12T06:37:34.302Z"
   },
   {
    "duration": 17,
    "start_time": "2023-06-12T06:38:14.311Z"
   },
   {
    "duration": 973,
    "start_time": "2023-06-12T06:38:33.662Z"
   },
   {
    "duration": 531,
    "start_time": "2023-06-12T06:38:34.637Z"
   },
   {
    "duration": 21,
    "start_time": "2023-06-12T06:38:35.169Z"
   },
   {
    "duration": 46,
    "start_time": "2023-06-12T06:38:35.195Z"
   },
   {
    "duration": 13,
    "start_time": "2023-06-12T06:38:35.243Z"
   },
   {
    "duration": 29,
    "start_time": "2023-06-12T06:38:35.258Z"
   },
   {
    "duration": 49,
    "start_time": "2023-06-12T06:38:35.290Z"
   },
   {
    "duration": 6,
    "start_time": "2023-06-12T06:38:35.341Z"
   },
   {
    "duration": 5,
    "start_time": "2023-06-12T06:38:35.349Z"
   },
   {
    "duration": 25,
    "start_time": "2023-06-12T06:38:35.358Z"
   },
   {
    "duration": 41,
    "start_time": "2023-06-12T06:38:35.393Z"
   },
   {
    "duration": 18,
    "start_time": "2023-06-12T06:38:35.436Z"
   },
   {
    "duration": 9,
    "start_time": "2023-06-12T06:38:35.455Z"
   },
   {
    "duration": 7,
    "start_time": "2023-06-12T06:38:35.465Z"
   },
   {
    "duration": 66,
    "start_time": "2023-06-12T06:38:35.474Z"
   },
   {
    "duration": 10,
    "start_time": "2023-06-12T06:38:35.541Z"
   },
   {
    "duration": 12,
    "start_time": "2023-06-12T06:38:35.552Z"
   },
   {
    "duration": 54,
    "start_time": "2023-06-12T06:38:35.566Z"
   },
   {
    "duration": 10,
    "start_time": "2023-06-12T06:38:35.622Z"
   },
   {
    "duration": 15,
    "start_time": "2023-06-12T06:38:35.634Z"
   },
   {
    "duration": 29,
    "start_time": "2023-06-12T06:38:35.651Z"
   },
   {
    "duration": 25,
    "start_time": "2023-06-12T06:38:35.685Z"
   },
   {
    "duration": 26,
    "start_time": "2023-06-12T06:38:35.714Z"
   },
   {
    "duration": 21,
    "start_time": "2023-06-12T06:38:35.742Z"
   },
   {
    "duration": 120,
    "start_time": "2023-06-12T06:38:35.765Z"
   },
   {
    "duration": 3,
    "start_time": "2023-06-12T06:38:35.886Z"
   },
   {
    "duration": 33,
    "start_time": "2023-06-12T06:38:35.891Z"
   },
   {
    "duration": 6,
    "start_time": "2023-06-12T06:38:35.929Z"
   },
   {
    "duration": 18,
    "start_time": "2023-06-12T06:38:35.936Z"
   },
   {
    "duration": 80,
    "start_time": "2023-06-12T06:38:35.956Z"
   },
   {
    "duration": 34,
    "start_time": "2023-06-12T06:38:36.038Z"
   },
   {
    "duration": 29,
    "start_time": "2023-06-12T06:38:36.077Z"
   },
   {
    "duration": 44,
    "start_time": "2023-06-12T06:38:36.109Z"
   },
   {
    "duration": 8,
    "start_time": "2023-06-12T06:38:36.155Z"
   },
   {
    "duration": 60,
    "start_time": "2023-06-12T06:38:36.165Z"
   },
   {
    "duration": 10,
    "start_time": "2023-06-12T06:38:36.228Z"
   },
   {
    "duration": 5,
    "start_time": "2023-06-12T06:38:36.240Z"
   },
   {
    "duration": 8,
    "start_time": "2023-06-12T06:38:36.246Z"
   },
   {
    "duration": 12,
    "start_time": "2023-06-12T06:38:36.256Z"
   },
   {
    "duration": 59,
    "start_time": "2023-06-12T06:38:36.270Z"
   },
   {
    "duration": 18,
    "start_time": "2023-06-12T06:38:36.330Z"
   },
   {
    "duration": 4,
    "start_time": "2023-06-12T06:38:36.350Z"
   },
   {
    "duration": 20,
    "start_time": "2023-06-12T06:38:36.356Z"
   },
   {
    "duration": 39,
    "start_time": "2023-06-12T06:38:36.386Z"
   },
   {
    "duration": 40,
    "start_time": "2023-06-12T06:38:36.427Z"
   },
   {
    "duration": 24,
    "start_time": "2023-06-12T06:38:36.468Z"
   },
   {
    "duration": 35,
    "start_time": "2023-06-12T06:38:36.497Z"
   },
   {
    "duration": 7,
    "start_time": "2023-06-12T06:38:36.534Z"
   },
   {
    "duration": 10,
    "start_time": "2023-06-12T06:38:36.543Z"
   },
   {
    "duration": 10,
    "start_time": "2023-06-12T06:38:36.554Z"
   },
   {
    "duration": 57,
    "start_time": "2023-06-12T06:38:36.566Z"
   },
   {
    "duration": 10,
    "start_time": "2023-06-12T06:38:36.625Z"
   },
   {
    "duration": 864,
    "start_time": "2023-06-12T06:38:36.637Z"
   },
   {
    "duration": 12,
    "start_time": "2023-06-12T06:38:37.506Z"
   },
   {
    "duration": 14,
    "start_time": "2023-06-12T06:38:37.520Z"
   },
   {
    "duration": 54,
    "start_time": "2023-06-12T06:38:37.536Z"
   },
   {
    "duration": 208,
    "start_time": "2023-06-12T06:38:37.598Z"
   },
   {
    "duration": 21,
    "start_time": "2023-06-12T06:38:37.808Z"
   },
   {
    "duration": 8,
    "start_time": "2023-06-12T06:38:37.831Z"
   },
   {
    "duration": 36,
    "start_time": "2023-06-12T06:38:37.841Z"
   },
   {
    "duration": 10,
    "start_time": "2023-06-12T06:38:37.881Z"
   },
   {
    "duration": 21,
    "start_time": "2023-06-12T06:38:37.896Z"
   },
   {
    "duration": 30,
    "start_time": "2023-06-12T06:38:37.919Z"
   },
   {
    "duration": 4,
    "start_time": "2023-06-12T06:38:37.951Z"
   },
   {
    "duration": 33,
    "start_time": "2023-06-12T06:38:37.957Z"
   },
   {
    "duration": 637,
    "start_time": "2023-06-12T06:38:37.991Z"
   },
   {
    "duration": 15,
    "start_time": "2023-06-12T06:38:38.629Z"
   },
   {
    "duration": 21,
    "start_time": "2023-06-12T06:38:38.645Z"
   },
   {
    "duration": 35,
    "start_time": "2023-06-12T06:38:38.668Z"
   },
   {
    "duration": 20,
    "start_time": "2023-06-12T06:38:38.705Z"
   },
   {
    "duration": 11,
    "start_time": "2023-06-12T06:38:38.727Z"
   },
   {
    "duration": 18,
    "start_time": "2023-06-12T06:38:38.740Z"
   },
   {
    "duration": 24,
    "start_time": "2023-06-12T06:38:38.760Z"
   },
   {
    "duration": 17,
    "start_time": "2023-06-12T06:38:38.788Z"
   },
   {
    "duration": 124,
    "start_time": "2023-06-12T06:38:38.806Z"
   },
   {
    "duration": 74,
    "start_time": "2023-06-12T06:38:38.931Z"
   },
   {
    "duration": 48,
    "start_time": "2023-06-12T06:38:39.007Z"
   },
   {
    "duration": 76,
    "start_time": "2023-06-12T06:38:39.056Z"
   },
   {
    "duration": 3,
    "start_time": "2023-06-12T06:38:39.134Z"
   },
   {
    "duration": 16,
    "start_time": "2023-06-12T06:38:39.139Z"
   },
   {
    "duration": 50,
    "start_time": "2023-06-12T06:38:39.173Z"
   },
   {
    "duration": 5,
    "start_time": "2023-06-12T06:38:39.228Z"
   },
   {
    "duration": 16,
    "start_time": "2023-06-12T06:38:39.234Z"
   },
   {
    "duration": 11,
    "start_time": "2023-06-12T06:38:39.252Z"
   },
   {
    "duration": 56,
    "start_time": "2023-06-12T06:38:39.264Z"
   },
   {
    "duration": 14,
    "start_time": "2023-06-12T06:38:39.321Z"
   },
   {
    "duration": 32,
    "start_time": "2023-06-12T06:38:39.337Z"
   },
   {
    "duration": 35,
    "start_time": "2023-06-12T06:38:39.375Z"
   },
   {
    "duration": 38,
    "start_time": "2023-06-12T06:38:39.416Z"
   },
   {
    "duration": 66,
    "start_time": "2023-06-12T06:38:39.456Z"
   },
   {
    "duration": 49,
    "start_time": "2023-06-12T06:38:39.524Z"
   },
   {
    "duration": 62,
    "start_time": "2023-06-12T06:38:39.574Z"
   },
   {
    "duration": 10,
    "start_time": "2023-06-12T06:38:39.638Z"
   },
   {
    "duration": 54,
    "start_time": "2023-06-12T06:38:39.650Z"
   },
   {
    "duration": 36,
    "start_time": "2023-06-12T06:38:39.707Z"
   },
   {
    "duration": 32,
    "start_time": "2023-06-12T06:38:39.744Z"
   },
   {
    "duration": 68,
    "start_time": "2023-06-12T06:38:39.779Z"
   },
   {
    "duration": 89,
    "start_time": "2023-06-12T06:38:39.848Z"
   },
   {
    "duration": 14,
    "start_time": "2023-06-12T06:38:39.938Z"
   },
   {
    "duration": 25,
    "start_time": "2023-06-12T06:38:39.953Z"
   },
   {
    "duration": 58,
    "start_time": "2023-06-12T06:38:39.980Z"
   },
   {
    "duration": 7,
    "start_time": "2023-06-12T06:38:40.040Z"
   },
   {
    "duration": 22,
    "start_time": "2023-06-12T06:38:40.048Z"
   },
   {
    "duration": 52,
    "start_time": "2023-06-12T06:38:40.077Z"
   },
   {
    "duration": 6,
    "start_time": "2023-06-12T06:38:40.131Z"
   },
   {
    "duration": 13,
    "start_time": "2023-06-12T06:38:40.138Z"
   },
   {
    "duration": 9,
    "start_time": "2023-06-12T06:38:40.153Z"
   },
   {
    "duration": 25,
    "start_time": "2023-06-12T06:38:40.164Z"
   },
   {
    "duration": 53,
    "start_time": "2023-06-12T06:38:40.191Z"
   },
   {
    "duration": 47,
    "start_time": "2023-06-12T06:38:40.246Z"
   },
   {
    "duration": 45,
    "start_time": "2023-06-12T06:38:40.297Z"
   },
   {
    "duration": 24,
    "start_time": "2023-06-12T06:38:40.343Z"
   },
   {
    "duration": 92,
    "start_time": "2023-06-12T06:38:40.374Z"
   },
   {
    "duration": 36,
    "start_time": "2023-06-12T06:38:40.468Z"
   },
   {
    "duration": 117,
    "start_time": "2023-06-12T06:38:40.505Z"
   },
   {
    "duration": 25,
    "start_time": "2023-06-12T06:38:40.625Z"
   },
   {
    "duration": 73,
    "start_time": "2023-06-12T06:38:40.652Z"
   },
   {
    "duration": 90,
    "start_time": "2023-06-12T06:38:40.727Z"
   },
   {
    "duration": 16,
    "start_time": "2023-06-12T06:38:40.819Z"
   },
   {
    "duration": 71,
    "start_time": "2023-06-12T06:38:40.837Z"
   },
   {
    "duration": 16,
    "start_time": "2023-06-12T06:38:40.910Z"
   },
   {
    "duration": 86,
    "start_time": "2023-06-12T06:38:40.928Z"
   },
   {
    "duration": 10,
    "start_time": "2023-06-12T06:40:03.771Z"
   },
   {
    "duration": 913,
    "start_time": "2023-06-12T06:40:07.334Z"
   },
   {
    "duration": 355,
    "start_time": "2023-06-12T06:40:08.249Z"
   },
   {
    "duration": 16,
    "start_time": "2023-06-12T06:40:08.606Z"
   },
   {
    "duration": 14,
    "start_time": "2023-06-12T06:40:08.625Z"
   },
   {
    "duration": 16,
    "start_time": "2023-06-12T06:40:08.641Z"
   },
   {
    "duration": 28,
    "start_time": "2023-06-12T06:40:08.674Z"
   },
   {
    "duration": 15,
    "start_time": "2023-06-12T06:40:08.704Z"
   },
   {
    "duration": 7,
    "start_time": "2023-06-12T06:40:08.721Z"
   },
   {
    "duration": 10,
    "start_time": "2023-06-12T06:40:08.729Z"
   },
   {
    "duration": 13,
    "start_time": "2023-06-12T06:40:08.741Z"
   },
   {
    "duration": 28,
    "start_time": "2023-06-12T06:40:08.756Z"
   },
   {
    "duration": 23,
    "start_time": "2023-06-12T06:40:08.789Z"
   },
   {
    "duration": 8,
    "start_time": "2023-06-12T06:40:08.813Z"
   },
   {
    "duration": 7,
    "start_time": "2023-06-12T06:40:08.822Z"
   },
   {
    "duration": 16,
    "start_time": "2023-06-12T06:40:08.830Z"
   },
   {
    "duration": 8,
    "start_time": "2023-06-12T06:40:08.847Z"
   },
   {
    "duration": 6,
    "start_time": "2023-06-12T06:40:08.857Z"
   },
   {
    "duration": 44,
    "start_time": "2023-06-12T06:40:08.864Z"
   },
   {
    "duration": 17,
    "start_time": "2023-06-12T06:40:08.909Z"
   },
   {
    "duration": 13,
    "start_time": "2023-06-12T06:40:08.927Z"
   },
   {
    "duration": 39,
    "start_time": "2023-06-12T06:40:08.941Z"
   },
   {
    "duration": 13,
    "start_time": "2023-06-12T06:40:08.981Z"
   },
   {
    "duration": 27,
    "start_time": "2023-06-12T06:40:08.997Z"
   },
   {
    "duration": 22,
    "start_time": "2023-06-12T06:40:09.025Z"
   },
   {
    "duration": 97,
    "start_time": "2023-06-12T06:40:09.048Z"
   },
   {
    "duration": 3,
    "start_time": "2023-06-12T06:40:09.147Z"
   },
   {
    "duration": 12,
    "start_time": "2023-06-12T06:40:09.152Z"
   },
   {
    "duration": 8,
    "start_time": "2023-06-12T06:40:09.167Z"
   },
   {
    "duration": 37,
    "start_time": "2023-06-12T06:40:09.179Z"
   },
   {
    "duration": 49,
    "start_time": "2023-06-12T06:40:09.218Z"
   },
   {
    "duration": 34,
    "start_time": "2023-06-12T06:40:09.269Z"
   },
   {
    "duration": 40,
    "start_time": "2023-06-12T06:40:09.304Z"
   },
   {
    "duration": 45,
    "start_time": "2023-06-12T06:40:09.345Z"
   },
   {
    "duration": 11,
    "start_time": "2023-06-12T06:40:09.392Z"
   },
   {
    "duration": 17,
    "start_time": "2023-06-12T06:40:09.404Z"
   },
   {
    "duration": 14,
    "start_time": "2023-06-12T06:40:09.422Z"
   },
   {
    "duration": 17,
    "start_time": "2023-06-12T06:40:09.437Z"
   },
   {
    "duration": 6,
    "start_time": "2023-06-12T06:40:09.456Z"
   },
   {
    "duration": 6,
    "start_time": "2023-06-12T06:40:09.464Z"
   },
   {
    "duration": 50,
    "start_time": "2023-06-12T06:40:09.475Z"
   },
   {
    "duration": 18,
    "start_time": "2023-06-12T06:40:09.526Z"
   },
   {
    "duration": 4,
    "start_time": "2023-06-12T06:40:09.546Z"
   },
   {
    "duration": 83,
    "start_time": "2023-06-12T06:40:09.551Z"
   },
   {
    "duration": 27,
    "start_time": "2023-06-12T06:40:09.636Z"
   },
   {
    "duration": 48,
    "start_time": "2023-06-12T06:40:09.664Z"
   },
   {
    "duration": 5,
    "start_time": "2023-06-12T06:40:09.714Z"
   },
   {
    "duration": 6,
    "start_time": "2023-06-12T06:40:09.721Z"
   },
   {
    "duration": 8,
    "start_time": "2023-06-12T06:40:09.729Z"
   },
   {
    "duration": 14,
    "start_time": "2023-06-12T06:40:09.738Z"
   },
   {
    "duration": 25,
    "start_time": "2023-06-12T06:40:09.754Z"
   },
   {
    "duration": 30,
    "start_time": "2023-06-12T06:40:09.781Z"
   },
   {
    "duration": 6,
    "start_time": "2023-06-12T06:40:09.813Z"
   },
   {
    "duration": 612,
    "start_time": "2023-06-12T06:40:09.821Z"
   },
   {
    "duration": 56,
    "start_time": "2023-06-12T06:40:10.435Z"
   },
   {
    "duration": 55,
    "start_time": "2023-06-12T06:40:10.493Z"
   },
   {
    "duration": 214,
    "start_time": "2023-06-12T06:40:10.550Z"
   },
   {
    "duration": 216,
    "start_time": "2023-06-12T06:40:10.767Z"
   },
   {
    "duration": 22,
    "start_time": "2023-06-12T06:40:10.988Z"
   },
   {
    "duration": 14,
    "start_time": "2023-06-12T06:40:11.012Z"
   },
   {
    "duration": 76,
    "start_time": "2023-06-12T06:40:11.028Z"
   },
   {
    "duration": 20,
    "start_time": "2023-06-12T06:40:11.106Z"
   },
   {
    "duration": 23,
    "start_time": "2023-06-12T06:40:11.128Z"
   },
   {
    "duration": 47,
    "start_time": "2023-06-12T06:40:11.152Z"
   },
   {
    "duration": 26,
    "start_time": "2023-06-12T06:40:11.200Z"
   },
   {
    "duration": 17,
    "start_time": "2023-06-12T06:40:11.227Z"
   },
   {
    "duration": 653,
    "start_time": "2023-06-12T06:40:11.246Z"
   },
   {
    "duration": 15,
    "start_time": "2023-06-12T06:40:11.900Z"
   },
   {
    "duration": 18,
    "start_time": "2023-06-12T06:40:11.917Z"
   },
   {
    "duration": 23,
    "start_time": "2023-06-12T06:40:11.936Z"
   },
   {
    "duration": 50,
    "start_time": "2023-06-12T06:40:11.961Z"
   },
   {
    "duration": 22,
    "start_time": "2023-06-12T06:40:12.012Z"
   },
   {
    "duration": 28,
    "start_time": "2023-06-12T06:40:12.036Z"
   },
   {
    "duration": 39,
    "start_time": "2023-06-12T06:40:12.065Z"
   },
   {
    "duration": 30,
    "start_time": "2023-06-12T06:40:12.106Z"
   },
   {
    "duration": 130,
    "start_time": "2023-06-12T06:40:12.137Z"
   },
   {
    "duration": 63,
    "start_time": "2023-06-12T06:40:12.271Z"
   },
   {
    "duration": 69,
    "start_time": "2023-06-12T06:40:12.336Z"
   },
   {
    "duration": 54,
    "start_time": "2023-06-12T06:40:12.407Z"
   },
   {
    "duration": 13,
    "start_time": "2023-06-12T06:40:12.463Z"
   },
   {
    "duration": 34,
    "start_time": "2023-06-12T06:40:12.484Z"
   },
   {
    "duration": 10,
    "start_time": "2023-06-12T06:40:12.520Z"
   },
   {
    "duration": 8,
    "start_time": "2023-06-12T06:40:12.536Z"
   },
   {
    "duration": 14,
    "start_time": "2023-06-12T06:40:12.545Z"
   },
   {
    "duration": 9,
    "start_time": "2023-06-12T06:40:12.560Z"
   },
   {
    "duration": 37,
    "start_time": "2023-06-12T06:40:12.570Z"
   },
   {
    "duration": 6,
    "start_time": "2023-06-12T06:40:12.609Z"
   },
   {
    "duration": 37,
    "start_time": "2023-06-12T06:40:12.617Z"
   },
   {
    "duration": 30,
    "start_time": "2023-06-12T06:40:12.655Z"
   },
   {
    "duration": 30,
    "start_time": "2023-06-12T06:40:12.687Z"
   },
   {
    "duration": 41,
    "start_time": "2023-06-12T06:40:12.719Z"
   },
   {
    "duration": 52,
    "start_time": "2023-06-12T06:40:12.762Z"
   },
   {
    "duration": 39,
    "start_time": "2023-06-12T06:40:12.816Z"
   },
   {
    "duration": 15,
    "start_time": "2023-06-12T06:40:12.857Z"
   },
   {
    "duration": 45,
    "start_time": "2023-06-12T06:40:12.876Z"
   },
   {
    "duration": 22,
    "start_time": "2023-06-12T06:40:12.922Z"
   },
   {
    "duration": 22,
    "start_time": "2023-06-12T06:40:12.945Z"
   },
   {
    "duration": 53,
    "start_time": "2023-06-12T06:40:12.969Z"
   },
   {
    "duration": 31,
    "start_time": "2023-06-12T06:40:13.023Z"
   },
   {
    "duration": 32,
    "start_time": "2023-06-12T06:40:13.056Z"
   },
   {
    "duration": 24,
    "start_time": "2023-06-12T06:40:13.090Z"
   },
   {
    "duration": 44,
    "start_time": "2023-06-12T06:40:13.117Z"
   },
   {
    "duration": 21,
    "start_time": "2023-06-12T06:40:13.164Z"
   },
   {
    "duration": 22,
    "start_time": "2023-06-12T06:40:13.186Z"
   },
   {
    "duration": 28,
    "start_time": "2023-06-12T06:40:13.210Z"
   },
   {
    "duration": 5,
    "start_time": "2023-06-12T06:40:13.240Z"
   },
   {
    "duration": 59,
    "start_time": "2023-06-12T06:40:13.246Z"
   },
   {
    "duration": 11,
    "start_time": "2023-06-12T06:40:13.306Z"
   },
   {
    "duration": 21,
    "start_time": "2023-06-12T06:40:13.318Z"
   },
   {
    "duration": 18,
    "start_time": "2023-06-12T06:40:13.341Z"
   },
   {
    "duration": 27,
    "start_time": "2023-06-12T06:40:13.360Z"
   },
   {
    "duration": 40,
    "start_time": "2023-06-12T06:40:13.388Z"
   },
   {
    "duration": 19,
    "start_time": "2023-06-12T06:40:13.430Z"
   },
   {
    "duration": 60,
    "start_time": "2023-06-12T06:40:13.451Z"
   },
   {
    "duration": 17,
    "start_time": "2023-06-12T06:40:13.513Z"
   },
   {
    "duration": 84,
    "start_time": "2023-06-12T06:40:13.532Z"
   },
   {
    "duration": 12,
    "start_time": "2023-06-12T06:40:13.618Z"
   },
   {
    "duration": 75,
    "start_time": "2023-06-12T06:40:13.632Z"
   },
   {
    "duration": 106,
    "start_time": "2023-06-12T06:40:13.709Z"
   },
   {
    "duration": 17,
    "start_time": "2023-06-12T06:40:13.816Z"
   },
   {
    "duration": 69,
    "start_time": "2023-06-12T06:40:13.834Z"
   },
   {
    "duration": 16,
    "start_time": "2023-06-12T06:40:13.905Z"
   },
   {
    "duration": 78,
    "start_time": "2023-06-12T06:40:13.923Z"
   },
   {
    "duration": 17,
    "start_time": "2023-06-12T06:41:18.863Z"
   },
   {
    "duration": 992,
    "start_time": "2023-06-12T06:41:24.503Z"
   },
   {
    "duration": 349,
    "start_time": "2023-06-12T06:41:25.502Z"
   },
   {
    "duration": 16,
    "start_time": "2023-06-12T06:41:25.853Z"
   },
   {
    "duration": 33,
    "start_time": "2023-06-12T06:41:25.870Z"
   },
   {
    "duration": 11,
    "start_time": "2023-06-12T06:41:25.906Z"
   },
   {
    "duration": 19,
    "start_time": "2023-06-12T06:41:25.919Z"
   },
   {
    "duration": 12,
    "start_time": "2023-06-12T06:41:25.939Z"
   },
   {
    "duration": 4,
    "start_time": "2023-06-12T06:41:25.952Z"
   },
   {
    "duration": 23,
    "start_time": "2023-06-12T06:41:25.958Z"
   },
   {
    "duration": 20,
    "start_time": "2023-06-12T06:41:25.989Z"
   },
   {
    "duration": 12,
    "start_time": "2023-06-12T06:41:26.010Z"
   },
   {
    "duration": 10,
    "start_time": "2023-06-12T06:41:26.024Z"
   },
   {
    "duration": 7,
    "start_time": "2023-06-12T06:41:26.035Z"
   },
   {
    "duration": 8,
    "start_time": "2023-06-12T06:41:26.044Z"
   },
   {
    "duration": 13,
    "start_time": "2023-06-12T06:41:26.054Z"
   },
   {
    "duration": 36,
    "start_time": "2023-06-12T06:41:26.068Z"
   },
   {
    "duration": 8,
    "start_time": "2023-06-12T06:41:26.106Z"
   },
   {
    "duration": 11,
    "start_time": "2023-06-12T06:41:26.116Z"
   },
   {
    "duration": 7,
    "start_time": "2023-06-12T06:41:26.129Z"
   },
   {
    "duration": 12,
    "start_time": "2023-06-12T06:41:26.138Z"
   },
   {
    "duration": 22,
    "start_time": "2023-06-12T06:41:26.152Z"
   },
   {
    "duration": 18,
    "start_time": "2023-06-12T06:41:26.179Z"
   },
   {
    "duration": 30,
    "start_time": "2023-06-12T06:41:26.198Z"
   },
   {
    "duration": 21,
    "start_time": "2023-06-12T06:41:26.230Z"
   },
   {
    "duration": 96,
    "start_time": "2023-06-12T06:41:26.252Z"
   },
   {
    "duration": 4,
    "start_time": "2023-06-12T06:41:26.350Z"
   },
   {
    "duration": 12,
    "start_time": "2023-06-12T06:41:26.355Z"
   },
   {
    "duration": 15,
    "start_time": "2023-06-12T06:41:26.373Z"
   },
   {
    "duration": 29,
    "start_time": "2023-06-12T06:41:26.393Z"
   },
   {
    "duration": 77,
    "start_time": "2023-06-12T06:41:26.423Z"
   },
   {
    "duration": 13,
    "start_time": "2023-06-12T06:41:26.502Z"
   },
   {
    "duration": 15,
    "start_time": "2023-06-12T06:41:26.516Z"
   },
   {
    "duration": 34,
    "start_time": "2023-06-12T06:41:26.532Z"
   },
   {
    "duration": 12,
    "start_time": "2023-06-12T06:41:26.567Z"
   },
   {
    "duration": 35,
    "start_time": "2023-06-12T06:41:26.585Z"
   },
   {
    "duration": 11,
    "start_time": "2023-06-12T06:41:26.622Z"
   },
   {
    "duration": 13,
    "start_time": "2023-06-12T06:41:26.634Z"
   },
   {
    "duration": 14,
    "start_time": "2023-06-12T06:41:26.648Z"
   },
   {
    "duration": 13,
    "start_time": "2023-06-12T06:41:26.664Z"
   },
   {
    "duration": 45,
    "start_time": "2023-06-12T06:41:26.678Z"
   },
   {
    "duration": 18,
    "start_time": "2023-06-12T06:41:26.725Z"
   },
   {
    "duration": 3,
    "start_time": "2023-06-12T06:41:26.744Z"
   },
   {
    "duration": 12,
    "start_time": "2023-06-12T06:41:26.749Z"
   },
   {
    "duration": 33,
    "start_time": "2023-06-12T06:41:26.763Z"
   },
   {
    "duration": 54,
    "start_time": "2023-06-12T06:41:26.799Z"
   },
   {
    "duration": 5,
    "start_time": "2023-06-12T06:41:26.855Z"
   },
   {
    "duration": 8,
    "start_time": "2023-06-12T06:41:26.861Z"
   },
   {
    "duration": 36,
    "start_time": "2023-06-12T06:41:26.870Z"
   },
   {
    "duration": 8,
    "start_time": "2023-06-12T06:41:26.909Z"
   },
   {
    "duration": 7,
    "start_time": "2023-06-12T06:41:26.918Z"
   },
   {
    "duration": 9,
    "start_time": "2023-06-12T06:41:26.926Z"
   },
   {
    "duration": 17,
    "start_time": "2023-06-12T06:41:26.937Z"
   },
   {
    "duration": 662,
    "start_time": "2023-06-12T06:41:26.955Z"
   },
   {
    "duration": 65,
    "start_time": "2023-06-12T06:41:27.619Z"
   },
   {
    "duration": 46,
    "start_time": "2023-06-12T06:41:27.686Z"
   },
   {
    "duration": 19,
    "start_time": "2023-06-12T06:41:27.733Z"
   },
   {
    "duration": 158,
    "start_time": "2023-06-12T06:41:27.753Z"
   },
   {
    "duration": 17,
    "start_time": "2023-06-12T06:41:27.913Z"
   },
   {
    "duration": 4,
    "start_time": "2023-06-12T06:41:27.932Z"
   },
   {
    "duration": 37,
    "start_time": "2023-06-12T06:41:27.937Z"
   },
   {
    "duration": 41,
    "start_time": "2023-06-12T06:41:27.978Z"
   },
   {
    "duration": 4,
    "start_time": "2023-06-12T06:41:28.021Z"
   },
   {
    "duration": 26,
    "start_time": "2023-06-12T06:41:28.026Z"
   },
   {
    "duration": 23,
    "start_time": "2023-06-12T06:41:28.053Z"
   },
   {
    "duration": 3,
    "start_time": "2023-06-12T06:41:28.080Z"
   },
   {
    "duration": 548,
    "start_time": "2023-06-12T06:41:28.086Z"
   },
   {
    "duration": 14,
    "start_time": "2023-06-12T06:41:28.636Z"
   },
   {
    "duration": 13,
    "start_time": "2023-06-12T06:41:28.652Z"
   },
   {
    "duration": 16,
    "start_time": "2023-06-12T06:41:28.666Z"
   },
   {
    "duration": 24,
    "start_time": "2023-06-12T06:41:28.687Z"
   },
   {
    "duration": 8,
    "start_time": "2023-06-12T06:41:28.713Z"
   },
   {
    "duration": 26,
    "start_time": "2023-06-12T06:41:28.722Z"
   },
   {
    "duration": 20,
    "start_time": "2023-06-12T06:41:28.749Z"
   },
   {
    "duration": 15,
    "start_time": "2023-06-12T06:41:28.771Z"
   },
   {
    "duration": 131,
    "start_time": "2023-06-12T06:41:28.788Z"
   },
   {
    "duration": 63,
    "start_time": "2023-06-12T06:41:28.921Z"
   },
   {
    "duration": 55,
    "start_time": "2023-06-12T06:41:28.985Z"
   },
   {
    "duration": 68,
    "start_time": "2023-06-12T06:41:29.041Z"
   },
   {
    "duration": 2,
    "start_time": "2023-06-12T06:41:29.111Z"
   },
   {
    "duration": 15,
    "start_time": "2023-06-12T06:41:29.115Z"
   },
   {
    "duration": 22,
    "start_time": "2023-06-12T06:41:29.131Z"
   },
   {
    "duration": 16,
    "start_time": "2023-06-12T06:41:29.158Z"
   },
   {
    "duration": 14,
    "start_time": "2023-06-12T06:41:29.179Z"
   },
   {
    "duration": 20,
    "start_time": "2023-06-12T06:41:29.199Z"
   },
   {
    "duration": 9,
    "start_time": "2023-06-12T06:41:29.220Z"
   },
   {
    "duration": 18,
    "start_time": "2023-06-12T06:41:29.230Z"
   },
   {
    "duration": 53,
    "start_time": "2023-06-12T06:41:29.250Z"
   },
   {
    "duration": 26,
    "start_time": "2023-06-12T06:41:29.304Z"
   },
   {
    "duration": 27,
    "start_time": "2023-06-12T06:41:29.332Z"
   },
   {
    "duration": 52,
    "start_time": "2023-06-12T06:41:29.361Z"
   },
   {
    "duration": 61,
    "start_time": "2023-06-12T06:41:29.415Z"
   },
   {
    "duration": 52,
    "start_time": "2023-06-12T06:41:29.478Z"
   },
   {
    "duration": 7,
    "start_time": "2023-06-12T06:41:29.531Z"
   },
   {
    "duration": 27,
    "start_time": "2023-06-12T06:41:29.539Z"
   },
   {
    "duration": 32,
    "start_time": "2023-06-12T06:41:29.567Z"
   },
   {
    "duration": 22,
    "start_time": "2023-06-12T06:41:29.602Z"
   },
   {
    "duration": 29,
    "start_time": "2023-06-12T06:41:29.625Z"
   },
   {
    "duration": 33,
    "start_time": "2023-06-12T06:41:29.655Z"
   },
   {
    "duration": 31,
    "start_time": "2023-06-12T06:41:29.692Z"
   },
   {
    "duration": 20,
    "start_time": "2023-06-12T06:41:29.725Z"
   },
   {
    "duration": 56,
    "start_time": "2023-06-12T06:41:29.746Z"
   },
   {
    "duration": 17,
    "start_time": "2023-06-12T06:41:29.803Z"
   },
   {
    "duration": 27,
    "start_time": "2023-06-12T06:41:29.821Z"
   },
   {
    "duration": 25,
    "start_time": "2023-06-12T06:41:29.850Z"
   },
   {
    "duration": 12,
    "start_time": "2023-06-12T06:41:29.876Z"
   },
   {
    "duration": 21,
    "start_time": "2023-06-12T06:41:29.890Z"
   },
   {
    "duration": 9,
    "start_time": "2023-06-12T06:41:29.913Z"
   },
   {
    "duration": 23,
    "start_time": "2023-06-12T06:41:29.923Z"
   },
   {
    "duration": 19,
    "start_time": "2023-06-12T06:41:29.948Z"
   },
   {
    "duration": 33,
    "start_time": "2023-06-12T06:41:29.969Z"
   },
   {
    "duration": 46,
    "start_time": "2023-06-12T06:41:30.004Z"
   },
   {
    "duration": 57,
    "start_time": "2023-06-12T06:41:30.052Z"
   },
   {
    "duration": 104,
    "start_time": "2023-06-12T06:41:30.111Z"
   },
   {
    "duration": 31,
    "start_time": "2023-06-12T06:41:30.217Z"
   },
   {
    "duration": 113,
    "start_time": "2023-06-12T06:41:30.250Z"
   },
   {
    "duration": 19,
    "start_time": "2023-06-12T06:41:30.365Z"
   },
   {
    "duration": 112,
    "start_time": "2023-06-12T06:41:30.390Z"
   },
   {
    "duration": 154,
    "start_time": "2023-06-12T06:41:30.504Z"
   },
   {
    "duration": 29,
    "start_time": "2023-06-12T06:41:30.660Z"
   },
   {
    "duration": 217,
    "start_time": "2023-06-12T06:41:30.690Z"
   },
   {
    "duration": 17,
    "start_time": "2023-06-12T06:41:30.909Z"
   },
   {
    "duration": 134,
    "start_time": "2023-06-12T06:41:30.974Z"
   },
   {
    "duration": 4,
    "start_time": "2023-06-12T06:43:13.103Z"
   },
   {
    "duration": 53,
    "start_time": "2023-06-12T06:43:44.342Z"
   },
   {
    "duration": 1004,
    "start_time": "2023-06-12T06:43:52.400Z"
   },
   {
    "duration": 241,
    "start_time": "2023-06-12T06:43:53.406Z"
   },
   {
    "duration": 16,
    "start_time": "2023-06-12T06:43:53.649Z"
   },
   {
    "duration": 49,
    "start_time": "2023-06-12T06:43:53.666Z"
   },
   {
    "duration": 11,
    "start_time": "2023-06-12T06:43:53.717Z"
   },
   {
    "duration": 29,
    "start_time": "2023-06-12T06:43:53.729Z"
   },
   {
    "duration": 16,
    "start_time": "2023-06-12T06:43:53.760Z"
   },
   {
    "duration": 25,
    "start_time": "2023-06-12T06:43:53.787Z"
   },
   {
    "duration": 19,
    "start_time": "2023-06-12T06:43:53.814Z"
   },
   {
    "duration": 25,
    "start_time": "2023-06-12T06:43:53.835Z"
   },
   {
    "duration": 19,
    "start_time": "2023-06-12T06:43:53.861Z"
   },
   {
    "duration": 36,
    "start_time": "2023-06-12T06:43:53.885Z"
   },
   {
    "duration": 13,
    "start_time": "2023-06-12T06:43:53.923Z"
   },
   {
    "duration": 18,
    "start_time": "2023-06-12T06:43:53.939Z"
   },
   {
    "duration": 15,
    "start_time": "2023-06-12T06:43:53.959Z"
   },
   {
    "duration": 42,
    "start_time": "2023-06-12T06:43:53.976Z"
   },
   {
    "duration": 20,
    "start_time": "2023-06-12T06:43:54.020Z"
   },
   {
    "duration": 12,
    "start_time": "2023-06-12T06:43:54.041Z"
   },
   {
    "duration": 12,
    "start_time": "2023-06-12T06:43:54.055Z"
   },
   {
    "duration": 39,
    "start_time": "2023-06-12T06:43:54.069Z"
   },
   {
    "duration": 17,
    "start_time": "2023-06-12T06:43:54.109Z"
   },
   {
    "duration": 10,
    "start_time": "2023-06-12T06:43:54.128Z"
   },
   {
    "duration": 25,
    "start_time": "2023-06-12T06:43:54.139Z"
   },
   {
    "duration": 40,
    "start_time": "2023-06-12T06:43:54.165Z"
   },
   {
    "duration": 118,
    "start_time": "2023-06-12T06:43:54.207Z"
   },
   {
    "duration": 4,
    "start_time": "2023-06-12T06:43:54.327Z"
   },
   {
    "duration": 21,
    "start_time": "2023-06-12T06:43:54.333Z"
   },
   {
    "duration": 14,
    "start_time": "2023-06-12T06:43:54.355Z"
   },
   {
    "duration": 48,
    "start_time": "2023-06-12T06:43:54.371Z"
   },
   {
    "duration": 75,
    "start_time": "2023-06-12T06:43:54.420Z"
   },
   {
    "duration": 17,
    "start_time": "2023-06-12T06:43:54.498Z"
   },
   {
    "duration": 36,
    "start_time": "2023-06-12T06:43:54.517Z"
   },
   {
    "duration": 4,
    "start_time": "2023-06-12T06:43:54.554Z"
   },
   {
    "duration": 67,
    "start_time": "2023-06-12T06:43:54.559Z"
   },
   {
    "duration": 7,
    "start_time": "2023-06-12T06:43:54.628Z"
   },
   {
    "duration": 28,
    "start_time": "2023-06-12T06:43:54.636Z"
   },
   {
    "duration": 40,
    "start_time": "2023-06-12T06:43:54.666Z"
   },
   {
    "duration": 12,
    "start_time": "2023-06-12T06:43:54.708Z"
   },
   {
    "duration": 14,
    "start_time": "2023-06-12T06:43:54.722Z"
   },
   {
    "duration": 12,
    "start_time": "2023-06-12T06:43:54.739Z"
   },
   {
    "duration": 36,
    "start_time": "2023-06-12T06:43:54.759Z"
   },
   {
    "duration": 48,
    "start_time": "2023-06-12T06:43:54.796Z"
   },
   {
    "duration": 4,
    "start_time": "2023-06-12T06:43:54.846Z"
   },
   {
    "duration": 14,
    "start_time": "2023-06-12T06:43:54.851Z"
   },
   {
    "duration": 53,
    "start_time": "2023-06-12T06:43:54.867Z"
   },
   {
    "duration": 47,
    "start_time": "2023-06-12T06:43:54.922Z"
   },
   {
    "duration": 16,
    "start_time": "2023-06-12T06:43:54.979Z"
   },
   {
    "duration": 26,
    "start_time": "2023-06-12T06:43:54.999Z"
   },
   {
    "duration": 15,
    "start_time": "2023-06-12T06:43:55.027Z"
   },
   {
    "duration": 24,
    "start_time": "2023-06-12T06:43:55.044Z"
   },
   {
    "duration": 40,
    "start_time": "2023-06-12T06:43:55.070Z"
   },
   {
    "duration": 11,
    "start_time": "2023-06-12T06:43:55.111Z"
   },
   {
    "duration": 20,
    "start_time": "2023-06-12T06:43:55.124Z"
   },
   {
    "duration": 762,
    "start_time": "2023-06-12T06:43:55.146Z"
   },
   {
    "duration": 71,
    "start_time": "2023-06-12T06:43:55.911Z"
   },
   {
    "duration": 15,
    "start_time": "2023-06-12T06:43:55.992Z"
   },
   {
    "duration": 28,
    "start_time": "2023-06-12T06:43:56.010Z"
   },
   {
    "duration": 212,
    "start_time": "2023-06-12T06:43:56.040Z"
   },
   {
    "duration": 40,
    "start_time": "2023-06-12T06:43:56.254Z"
   },
   {
    "duration": 28,
    "start_time": "2023-06-12T06:43:56.296Z"
   },
   {
    "duration": 6,
    "start_time": "2023-06-12T06:43:56.326Z"
   },
   {
    "duration": 5,
    "start_time": "2023-06-12T06:43:56.335Z"
   },
   {
    "duration": 7,
    "start_time": "2023-06-12T06:43:56.376Z"
   },
   {
    "duration": 50,
    "start_time": "2023-06-12T06:43:56.384Z"
   },
   {
    "duration": 4,
    "start_time": "2023-06-12T06:43:56.436Z"
   },
   {
    "duration": 7,
    "start_time": "2023-06-12T06:43:56.441Z"
   },
   {
    "duration": 655,
    "start_time": "2023-06-12T06:43:56.450Z"
   },
   {
    "duration": 20,
    "start_time": "2023-06-12T06:43:57.111Z"
   },
   {
    "duration": 13,
    "start_time": "2023-06-12T06:43:57.133Z"
   },
   {
    "duration": 7,
    "start_time": "2023-06-12T06:43:57.148Z"
   },
   {
    "duration": 5,
    "start_time": "2023-06-12T06:43:57.157Z"
   },
   {
    "duration": 10,
    "start_time": "2023-06-12T06:43:57.163Z"
   },
   {
    "duration": 50,
    "start_time": "2023-06-12T06:43:57.176Z"
   },
   {
    "duration": 29,
    "start_time": "2023-06-12T06:43:57.228Z"
   },
   {
    "duration": 20,
    "start_time": "2023-06-12T06:43:57.261Z"
   },
   {
    "duration": 208,
    "start_time": "2023-06-12T06:43:57.294Z"
   },
   {
    "duration": 74,
    "start_time": "2023-06-12T06:43:57.504Z"
   },
   {
    "duration": 60,
    "start_time": "2023-06-12T06:43:57.587Z"
   },
   {
    "duration": 73,
    "start_time": "2023-06-12T06:43:57.649Z"
   },
   {
    "duration": 3,
    "start_time": "2023-06-12T06:43:57.724Z"
   },
   {
    "duration": 20,
    "start_time": "2023-06-12T06:43:57.728Z"
   },
   {
    "duration": 38,
    "start_time": "2023-06-12T06:43:57.750Z"
   },
   {
    "duration": 6,
    "start_time": "2023-06-12T06:43:57.794Z"
   },
   {
    "duration": 15,
    "start_time": "2023-06-12T06:43:57.801Z"
   },
   {
    "duration": 12,
    "start_time": "2023-06-12T06:43:57.817Z"
   },
   {
    "duration": 9,
    "start_time": "2023-06-12T06:43:57.830Z"
   },
   {
    "duration": 12,
    "start_time": "2023-06-12T06:43:57.840Z"
   },
   {
    "duration": 44,
    "start_time": "2023-06-12T06:43:57.854Z"
   },
   {
    "duration": 24,
    "start_time": "2023-06-12T06:43:57.900Z"
   },
   {
    "duration": 32,
    "start_time": "2023-06-12T06:43:57.925Z"
   },
   {
    "duration": 71,
    "start_time": "2023-06-12T06:43:57.958Z"
   },
   {
    "duration": 72,
    "start_time": "2023-06-12T06:43:58.031Z"
   },
   {
    "duration": 43,
    "start_time": "2023-06-12T06:43:58.107Z"
   },
   {
    "duration": 8,
    "start_time": "2023-06-12T06:43:58.151Z"
   },
   {
    "duration": 39,
    "start_time": "2023-06-12T06:43:58.161Z"
   },
   {
    "duration": 20,
    "start_time": "2023-06-12T06:43:58.203Z"
   },
   {
    "duration": 18,
    "start_time": "2023-06-12T06:43:58.224Z"
   },
   {
    "duration": 45,
    "start_time": "2023-06-12T06:43:58.244Z"
   },
   {
    "duration": 48,
    "start_time": "2023-06-12T06:43:58.290Z"
   },
   {
    "duration": 76,
    "start_time": "2023-06-12T06:43:58.340Z"
   },
   {
    "duration": 19,
    "start_time": "2023-06-12T06:43:58.417Z"
   },
   {
    "duration": 42,
    "start_time": "2023-06-12T06:43:58.438Z"
   },
   {
    "duration": 7,
    "start_time": "2023-06-12T06:43:58.487Z"
   },
   {
    "duration": 17,
    "start_time": "2023-06-12T06:43:58.496Z"
   },
   {
    "duration": 38,
    "start_time": "2023-06-12T06:43:58.514Z"
   },
   {
    "duration": 5,
    "start_time": "2023-06-12T06:43:58.554Z"
   },
   {
    "duration": 18,
    "start_time": "2023-06-12T06:43:58.561Z"
   },
   {
    "duration": 40,
    "start_time": "2023-06-12T06:43:58.580Z"
   },
   {
    "duration": 33,
    "start_time": "2023-06-12T06:43:58.622Z"
   },
   {
    "duration": 32,
    "start_time": "2023-06-12T06:43:58.656Z"
   },
   {
    "duration": 24,
    "start_time": "2023-06-12T06:43:58.690Z"
   },
   {
    "duration": 25,
    "start_time": "2023-06-12T06:43:58.716Z"
   },
   {
    "duration": 18,
    "start_time": "2023-06-12T06:43:58.742Z"
   },
   {
    "duration": 61,
    "start_time": "2023-06-12T06:43:58.761Z"
   },
   {
    "duration": 18,
    "start_time": "2023-06-12T06:43:58.824Z"
   },
   {
    "duration": 69,
    "start_time": "2023-06-12T06:43:58.844Z"
   },
   {
    "duration": 12,
    "start_time": "2023-06-12T06:43:58.915Z"
   },
   {
    "duration": 69,
    "start_time": "2023-06-12T06:43:58.929Z"
   },
   {
    "duration": 64,
    "start_time": "2023-06-12T06:43:59.000Z"
   },
   {
    "duration": 19,
    "start_time": "2023-06-12T06:43:59.066Z"
   },
   {
    "duration": 113,
    "start_time": "2023-06-12T06:43:59.088Z"
   },
   {
    "duration": 65,
    "start_time": "2023-06-12T06:43:59.209Z"
   },
   {
    "duration": 147,
    "start_time": "2023-06-12T06:43:59.276Z"
   },
   {
    "duration": 120,
    "start_time": "2023-06-12T06:46:28.897Z"
   },
   {
    "duration": 54,
    "start_time": "2023-06-12T06:46:29.504Z"
   },
   {
    "duration": 129,
    "start_time": "2023-06-12T06:49:55.735Z"
   },
   {
    "duration": 117,
    "start_time": "2023-06-12T06:56:36.007Z"
   },
   {
    "duration": 10,
    "start_time": "2023-06-12T07:25:08.787Z"
   },
   {
    "duration": 900,
    "start_time": "2023-06-12T19:29:39.874Z"
   },
   {
    "duration": 392,
    "start_time": "2023-06-12T19:29:40.777Z"
   },
   {
    "duration": 16,
    "start_time": "2023-06-12T19:29:41.171Z"
   },
   {
    "duration": 32,
    "start_time": "2023-06-12T19:29:41.189Z"
   },
   {
    "duration": 10,
    "start_time": "2023-06-12T19:29:41.224Z"
   },
   {
    "duration": 22,
    "start_time": "2023-06-12T19:29:41.236Z"
   },
   {
    "duration": 10,
    "start_time": "2023-06-12T19:29:41.260Z"
   },
   {
    "duration": 4,
    "start_time": "2023-06-12T19:29:41.272Z"
   },
   {
    "duration": 12,
    "start_time": "2023-06-12T19:29:41.278Z"
   },
   {
    "duration": 12,
    "start_time": "2023-06-12T19:29:41.291Z"
   },
   {
    "duration": 15,
    "start_time": "2023-06-12T19:29:41.313Z"
   },
   {
    "duration": 12,
    "start_time": "2023-06-12T19:29:41.329Z"
   },
   {
    "duration": 19,
    "start_time": "2023-06-12T19:29:41.342Z"
   },
   {
    "duration": 11,
    "start_time": "2023-06-12T19:29:41.364Z"
   },
   {
    "duration": 16,
    "start_time": "2023-06-12T19:29:41.376Z"
   },
   {
    "duration": 10,
    "start_time": "2023-06-12T19:29:41.394Z"
   },
   {
    "duration": 19,
    "start_time": "2023-06-12T19:29:41.405Z"
   },
   {
    "duration": 11,
    "start_time": "2023-06-12T19:29:41.425Z"
   },
   {
    "duration": 8,
    "start_time": "2023-06-12T19:29:41.437Z"
   },
   {
    "duration": 12,
    "start_time": "2023-06-12T19:29:41.446Z"
   },
   {
    "duration": 22,
    "start_time": "2023-06-12T19:29:41.460Z"
   },
   {
    "duration": 10,
    "start_time": "2023-06-12T19:29:41.484Z"
   },
   {
    "duration": 25,
    "start_time": "2023-06-12T19:29:41.496Z"
   },
   {
    "duration": 22,
    "start_time": "2023-06-12T19:29:41.522Z"
   },
   {
    "duration": 284,
    "start_time": "2023-06-12T19:29:41.545Z"
   },
   {
    "duration": 4,
    "start_time": "2023-06-12T19:29:41.831Z"
   },
   {
    "duration": 19,
    "start_time": "2023-06-12T19:29:41.837Z"
   },
   {
    "duration": 4,
    "start_time": "2023-06-12T19:29:41.858Z"
   },
   {
    "duration": 20,
    "start_time": "2023-06-12T19:29:41.863Z"
   },
   {
    "duration": 218,
    "start_time": "2023-06-12T19:29:41.885Z"
   },
   {
    "duration": 21,
    "start_time": "2023-06-12T19:29:42.105Z"
   },
   {
    "duration": 25,
    "start_time": "2023-06-12T19:29:42.128Z"
   },
   {
    "duration": 35,
    "start_time": "2023-06-12T19:29:42.154Z"
   },
   {
    "duration": 7,
    "start_time": "2023-06-12T19:29:42.190Z"
   },
   {
    "duration": 24,
    "start_time": "2023-06-12T19:29:42.198Z"
   },
   {
    "duration": 5,
    "start_time": "2023-06-12T19:29:42.223Z"
   },
   {
    "duration": 12,
    "start_time": "2023-06-12T19:29:42.229Z"
   },
   {
    "duration": 6,
    "start_time": "2023-06-12T19:29:42.242Z"
   },
   {
    "duration": 10,
    "start_time": "2023-06-12T19:29:42.249Z"
   },
   {
    "duration": 37,
    "start_time": "2023-06-12T19:29:42.261Z"
   },
   {
    "duration": 22,
    "start_time": "2023-06-12T19:29:42.302Z"
   },
   {
    "duration": 4,
    "start_time": "2023-06-12T19:29:42.325Z"
   },
   {
    "duration": 14,
    "start_time": "2023-06-12T19:29:42.330Z"
   },
   {
    "duration": 20,
    "start_time": "2023-06-12T19:29:42.345Z"
   },
   {
    "duration": 299,
    "start_time": "2023-06-12T19:29:42.366Z"
   },
   {
    "duration": 79,
    "start_time": "2023-06-12T19:29:42.667Z"
   },
   {
    "duration": 38,
    "start_time": "2023-06-12T19:29:42.747Z"
   },
   {
    "duration": 4,
    "start_time": "2023-06-12T19:29:42.787Z"
   },
   {
    "duration": 8,
    "start_time": "2023-06-12T19:29:42.806Z"
   },
   {
    "duration": 8,
    "start_time": "2023-06-12T19:29:42.816Z"
   },
   {
    "duration": 5,
    "start_time": "2023-06-12T19:29:42.826Z"
   },
   {
    "duration": 6,
    "start_time": "2023-06-12T19:29:42.832Z"
   },
   {
    "duration": 232,
    "start_time": "2023-06-12T19:29:42.839Z"
   },
   {
    "duration": 6,
    "start_time": "2023-06-12T19:29:43.073Z"
   },
   {
    "duration": 9,
    "start_time": "2023-06-12T19:29:43.080Z"
   },
   {
    "duration": 659,
    "start_time": "2023-06-12T19:29:43.091Z"
   },
   {
    "duration": 7,
    "start_time": "2023-06-12T19:29:43.752Z"
   },
   {
    "duration": 16,
    "start_time": "2023-06-12T19:29:43.806Z"
   },
   {
    "duration": 22,
    "start_time": "2023-06-12T19:29:43.824Z"
   },
   {
    "duration": 206,
    "start_time": "2023-06-12T19:29:43.848Z"
   },
   {
    "duration": 13,
    "start_time": "2023-06-12T19:29:44.056Z"
   },
   {
    "duration": 51,
    "start_time": "2023-06-12T19:29:44.070Z"
   },
   {
    "duration": 2,
    "start_time": "2023-06-12T19:29:44.123Z"
   },
   {
    "duration": 7,
    "start_time": "2023-06-12T19:29:44.126Z"
   },
   {
    "duration": 5,
    "start_time": "2023-06-12T19:29:44.135Z"
   },
   {
    "duration": 12,
    "start_time": "2023-06-12T19:29:44.141Z"
   },
   {
    "duration": 14,
    "start_time": "2023-06-12T19:29:44.155Z"
   },
   {
    "duration": 12,
    "start_time": "2023-06-12T19:29:44.170Z"
   },
   {
    "duration": 7,
    "start_time": "2023-06-12T19:29:44.184Z"
   },
   {
    "duration": 270,
    "start_time": "2023-06-12T19:29:44.192Z"
   },
   {
    "duration": 13,
    "start_time": "2023-06-12T19:29:44.463Z"
   },
   {
    "duration": 12,
    "start_time": "2023-06-12T19:29:44.477Z"
   },
   {
    "duration": 24,
    "start_time": "2023-06-12T19:29:44.490Z"
   },
   {
    "duration": 8,
    "start_time": "2023-06-12T19:29:44.516Z"
   },
   {
    "duration": 36,
    "start_time": "2023-06-12T19:29:44.526Z"
   },
   {
    "duration": 35,
    "start_time": "2023-06-12T19:29:44.564Z"
   },
   {
    "duration": 2,
    "start_time": "2023-06-12T19:29:44.601Z"
   },
   {
    "duration": 30,
    "start_time": "2023-06-12T19:29:44.605Z"
   },
   {
    "duration": 10,
    "start_time": "2023-06-12T19:29:44.637Z"
   },
   {
    "duration": 130,
    "start_time": "2023-06-12T19:29:44.649Z"
   },
   {
    "duration": 65,
    "start_time": "2023-06-12T19:29:44.780Z"
   },
   {
    "duration": 46,
    "start_time": "2023-06-12T19:29:44.847Z"
   },
   {
    "duration": 59,
    "start_time": "2023-06-12T19:29:44.895Z"
   },
   {
    "duration": 2,
    "start_time": "2023-06-12T19:29:44.955Z"
   },
   {
    "duration": 17,
    "start_time": "2023-06-12T19:29:44.959Z"
   },
   {
    "duration": 20,
    "start_time": "2023-06-12T19:29:44.978Z"
   },
   {
    "duration": 51,
    "start_time": "2023-06-12T19:29:45.000Z"
   },
   {
    "duration": 32,
    "start_time": "2023-06-12T19:29:45.052Z"
   },
   {
    "duration": 85,
    "start_time": "2023-06-12T19:29:45.086Z"
   },
   {
    "duration": 8,
    "start_time": "2023-06-12T19:29:45.173Z"
   },
   {
    "duration": 47,
    "start_time": "2023-06-12T19:29:45.183Z"
   },
   {
    "duration": 7,
    "start_time": "2023-06-12T19:29:45.232Z"
   },
   {
    "duration": 28,
    "start_time": "2023-06-12T19:29:45.241Z"
   },
   {
    "duration": 31,
    "start_time": "2023-06-12T19:29:45.272Z"
   },
   {
    "duration": 18,
    "start_time": "2023-06-12T19:29:45.304Z"
   },
   {
    "duration": 26,
    "start_time": "2023-06-12T19:29:45.324Z"
   },
   {
    "duration": 15,
    "start_time": "2023-06-12T19:29:45.351Z"
   },
   {
    "duration": 29,
    "start_time": "2023-06-12T19:29:45.367Z"
   },
   {
    "duration": 43,
    "start_time": "2023-06-12T19:29:45.398Z"
   },
   {
    "duration": 31,
    "start_time": "2023-06-12T19:29:45.443Z"
   },
   {
    "duration": 61,
    "start_time": "2023-06-12T19:29:45.475Z"
   },
   {
    "duration": 7,
    "start_time": "2023-06-12T19:29:45.538Z"
   },
   {
    "duration": 33,
    "start_time": "2023-06-12T19:29:45.546Z"
   },
   {
    "duration": 18,
    "start_time": "2023-06-12T19:29:45.580Z"
   },
   {
    "duration": 32,
    "start_time": "2023-06-12T19:29:45.599Z"
   },
   {
    "duration": 25,
    "start_time": "2023-06-12T19:29:45.632Z"
   },
   {
    "duration": 25,
    "start_time": "2023-06-12T19:29:45.658Z"
   },
   {
    "duration": 16,
    "start_time": "2023-06-12T19:29:45.684Z"
   },
   {
    "duration": 25,
    "start_time": "2023-06-12T19:29:45.702Z"
   },
   {
    "duration": 25,
    "start_time": "2023-06-12T19:29:45.729Z"
   },
   {
    "duration": 7,
    "start_time": "2023-06-12T19:29:45.756Z"
   },
   {
    "duration": 9,
    "start_time": "2023-06-12T19:29:45.765Z"
   },
   {
    "duration": 11,
    "start_time": "2023-06-12T19:29:45.775Z"
   },
   {
    "duration": 40,
    "start_time": "2023-06-12T19:29:45.787Z"
   },
   {
    "duration": 5,
    "start_time": "2023-06-12T19:29:45.828Z"
   },
   {
    "duration": 21,
    "start_time": "2023-06-12T19:29:45.835Z"
   },
   {
    "duration": 15,
    "start_time": "2023-06-12T19:29:45.857Z"
   },
   {
    "duration": 30,
    "start_time": "2023-06-12T19:29:45.873Z"
   },
   {
    "duration": 37,
    "start_time": "2023-06-12T19:29:45.905Z"
   },
   {
    "duration": 18,
    "start_time": "2023-06-12T19:29:45.944Z"
   },
   {
    "duration": 17,
    "start_time": "2023-06-12T19:29:45.964Z"
   },
   {
    "duration": 32,
    "start_time": "2023-06-12T19:29:45.988Z"
   },
   {
    "duration": 38,
    "start_time": "2023-06-12T19:29:46.022Z"
   },
   {
    "duration": 16,
    "start_time": "2023-06-12T19:29:46.061Z"
   },
   {
    "duration": 89,
    "start_time": "2023-06-12T19:29:46.078Z"
   },
   {
    "duration": 10,
    "start_time": "2023-06-12T19:29:46.169Z"
   },
   {
    "duration": 59,
    "start_time": "2023-06-12T19:29:46.180Z"
   },
   {
    "duration": 51,
    "start_time": "2023-06-12T19:29:46.240Z"
   },
   {
    "duration": 39,
    "start_time": "2023-06-12T19:29:46.292Z"
   },
   {
    "duration": 44,
    "start_time": "2023-06-12T19:29:46.332Z"
   },
   {
    "duration": 11,
    "start_time": "2023-06-12T19:29:46.378Z"
   },
   {
    "duration": 68,
    "start_time": "2023-06-12T19:29:46.391Z"
   },
   {
    "duration": 10,
    "start_time": "2023-06-12T19:29:46.461Z"
   },
   {
    "duration": 21,
    "start_time": "2023-06-12T19:29:46.472Z"
   },
   {
    "duration": 7398,
    "start_time": "2023-06-12T19:29:46.495Z"
   },
   {
    "duration": 24,
    "start_time": "2023-06-12T19:29:53.895Z"
   },
   {
    "duration": 7439,
    "start_time": "2023-06-12T19:29:53.923Z"
   },
   {
    "duration": 3,
    "start_time": "2023-06-12T19:30:01.364Z"
   },
   {
    "duration": 2009,
    "start_time": "2023-06-12T19:30:01.368Z"
   },
   {
    "duration": 16,
    "start_time": "2023-06-12T19:30:03.379Z"
   }
  ],
  "kernelspec": {
   "display_name": "Python 3 (ipykernel)",
   "language": "python",
   "name": "python3"
  },
  "language_info": {
   "codemirror_mode": {
    "name": "ipython",
    "version": 3
   },
   "file_extension": ".py",
   "mimetype": "text/x-python",
   "name": "python",
   "nbconvert_exporter": "python",
   "pygments_lexer": "ipython3",
   "version": "3.9.13"
  },
  "toc": {
   "base_numbering": 1,
   "nav_menu": {},
   "number_sections": true,
   "sideBar": true,
   "skip_h1_title": true,
   "title_cell": "Table of Contents",
   "title_sidebar": "Contents",
   "toc_cell": false,
   "toc_position": {
    "height": "calc(100% - 180px)",
    "left": "10px",
    "top": "150px",
    "width": "303.8px"
   },
   "toc_section_display": true,
   "toc_window_display": true
  }
 },
 "nbformat": 4,
 "nbformat_minor": 5
}
